{
 "cells": [
  {
   "cell_type": "markdown",
   "metadata": {},
   "source": [
    "\\begin{aligned}\n",
    "\\\\\n",
    "\\\\\n",
    "\\LARGE\\text{Multi-factor Momentum Strategy (name is tentative)} \\\\\n",
    "\\\\\n",
    "\\end{aligned}\n",
    "\n",
    "$$ \\text{[FINM 33150] Regression Analysis and Quantitative Trading Strategies} $$\n",
    "$$ \\text{Winter 2022 | Professor Brian Boonstra} $$\n",
    "$$ \\text{Final Project Draft} $$\n",
    "\n",
    "\\begin{aligned}\n",
    "\\small\\text{Authors: Ashley Tsoi}^1\\small\\text{, Pi}&\\small\\text{yush Kontu}^2\\small\\text{, Gauri Kant}^3\n",
    "\\end{aligned}\n",
    "\n",
    "$$\n",
    "\\begin{aligned}\n",
    "^1 \\scriptsize\\text{atsoi@uchicago.edu }&\\scriptsize\\text{| Student ID: 12286230} \\\\\n",
    "^2 \\scriptsize\\text{pkontu@uchicago.edu }&\\scriptsize\\text{| Student ID: 12284351} \\\\\n",
    "^3 \\scriptsize\\text{gkant@uchicago.edu }&\\scriptsize\\text{| Student ID: 12334466} \\\\\n",
    "\\\\\n",
    "\\end{aligned}\n",
    "$$"
   ]
  },
  {
   "cell_type": "markdown",
   "metadata": {},
   "source": [
    "$ \n",
    "\\textbf{Abstract. }\n",
    "\\text{\n",
    "    In this paper, we explore a multi-factor time-series momentum\n",
    "    }\n",
    "$\n",
    "\n",
    "$\n",
    "\\textbf{Keywords:}\n",
    "\\text{\n",
    "    Momentum strategy, covariance, sentiment analysis.\n",
    "}\n",
    "$"
   ]
  },
  {
   "cell_type": "markdown",
   "metadata": {},
   "source": [
    "$\\large\\textbf{1 }\\quad\\large\\textbf{Introduction}$"
   ]
  },
  {
   "cell_type": "markdown",
   "metadata": {},
   "source": [
    "$\n",
    "\\text{\n",
    "    In Generalized Momentum and Flexible Asset Allocation (FAA), keller\n",
    "    ...\n",
    "    }\n",
    "$"
   ]
  },
  {
   "cell_type": "markdown",
   "metadata": {},
   "source": [
    "$\\large\\textbf{2 }\\quad\\large\\textbf{Data}$"
   ]
  },
  {
   "cell_type": "markdown",
   "metadata": {},
   "source": [
    "$\\textbf{2 - 1. Define data scope}$"
   ]
  },
  {
   "cell_type": "markdown",
   "metadata": {},
   "source": [
    "$\\text{For the analysis, we selected 20 US ETFs}^4\\text{:}$\n",
    "\n",
    "<br>\n",
    "<table>\n",
    "    <tr>\n",
    "        <td >$\\textbf{ETF Symbol}$</td>\n",
    "        <td>$\\textbf{ETF Name}$</td>\n",
    "        <td>$\\textbf{Asset Class}$</td>\n",
    "        <td>$\\textbf{Sub Asset Class}$</td>\n",
    "    </tr>\n",
    "    <tr>\n",
    "        <td>$\\text{BIL}$</td>\n",
    "        <td>$\\text{SPDR Bloomberg 1-3 Month T-Bill ETF}$</td>\n",
    "        <td>$\\text{Cash}$</td>\n",
    "        <td>$\\text{Cash}$</td>\n",
    "    </tr>\n",
    "    <tr>\n",
    "        <td>$\\text{BNDX}$</td>\n",
    "        <td>$\\text{Vanguard Total International Bond ETF}$</td>\n",
    "        <td>$\\text{Fixed Income}$</td>\n",
    "        <td>$\\text{International Bonds}$</td>\n",
    "    </tr>\n",
    "    <tr>\n",
    "        <td>$\\text{COW}$</td>\n",
    "        <td>$\\text{iPath Series B Bloomberg Livestock Subindex Total Return ETN}$</td>\n",
    "        <td>$\\text{Commodities}$</td>\n",
    "        <td>$\\text{Livestock}$</td>\n",
    "    </tr>\n",
    "    <tr>\n",
    "        <td>$\\text{DBA}$</td>\n",
    "        <td>$\\text{Invesco DB Agriculture Fund}$</td>\n",
    "        <td>$\\text{Commodities}$</td>\n",
    "        <td>$\\text{Agriculture}$</td>\n",
    "    </tr>\n",
    "    <tr>\n",
    "        <td>$\\text{EMB}$</td>\n",
    "        <td>$\\text{iShares JP Morgan USD Emerging Markets Bond ETF}$</td>\n",
    "        <td>$\\text{Fixed Income}$</td>\n",
    "        <td>$\\text{EM Bonds}$</td>\n",
    "    </tr>\n",
    "    <tr>\n",
    "        <td>$\\text{FM}$</td>\n",
    "        <td>$\\text{iShares MSCI Frontier 100 ETF}$</td>\n",
    "        <td>$\\text{Equities}$</td>\n",
    "        <td>$\\text{FM-Equities}$</td>\n",
    "    </tr>\n",
    "    <tr>\n",
    "        <td>$\\text{GLD}$</td>\n",
    "        <td>$\\text{SPDR Gold Shares}$</td>\n",
    "        <td>$\\text{Commodities}$</td>\n",
    "        <td>$\\text{Gold}$</td>\n",
    "    </tr>\n",
    "    <tr>\n",
    "        <td>$\\text{GOVT}$</td>\n",
    "        <td>$\\text{iShares U.S. Treasury Bond ETF}$</td>\n",
    "        <td>$\\text{Fixed Income}$</td>\n",
    "        <td>$\\text{US Treasuries}$</td>\n",
    "    </tr>\n",
    "    <tr>\n",
    "        <td>$\\text{HYG}$</td>\n",
    "        <td>$\\text{iShares iBoxx \\$ High Yield Corporate Bond ETF}$</td>\n",
    "        <td>$\\text{Fixed Income}$</td>\n",
    "        <td>$\\text{US Corporate High Yield}$</td>\n",
    "    </tr>\n",
    "    <tr>\n",
    "        <td>$\\text{ITOT}$</td>\n",
    "        <td>$\\text{iShares Core S&P Total US Stock Market ETF}$</td>\n",
    "        <td>$\\text{Equities}$</td>\n",
    "        <td>$\\text{US-Equities}$</td>\n",
    "    </tr>\n",
    "    <tr>\n",
    "        <td>$\\text{LQD}$</td>\n",
    "        <td>$\\text{iShares iBoxx \\$ Investment Grade Corporate Bond ETF}$</td>\n",
    "        <td>$\\text{Fixed Income}$</td>\n",
    "        <td>$\\text{US Corporate Bonds}$</td>\n",
    "    </tr>\n",
    "    <tr>\n",
    "        <td>$\\text{MBB}$</td>\n",
    "        <td>$\\text{iShares MBS ETF}$</td>\n",
    "        <td>$\\text{Fixed Income}$</td>\n",
    "        <td>$\\text{US MBS}$</td>\n",
    "    </tr>\n",
    "    <tr>\n",
    "        <td>$\\text{PSP}$</td>\n",
    "        <td>$\\text{Invesco Global Listed Private Equity ETF}$</td>\n",
    "        <td>$\\text{Private Equity}$</td>\n",
    "        <td>$\\text{Private Equity}$</td>\n",
    "    </tr>\n",
    "    <tr>\n",
    "        <td>$\\text{SLV}$</td>\n",
    "        <td>$\\text{iShares Silver Trust}$</td>\n",
    "        <td>$\\text{Commodities}$</td>\n",
    "        <td>$\\text{Silver}$</td>\n",
    "    </tr>\n",
    "    <tr>\n",
    "        <td>$\\text{TIP}$</td>\n",
    "        <td>$\\text{iShares TIPS Bond ETF}$</td>\n",
    "        <td>$\\text{Fixed Income}$</td>\n",
    "        <td>$\\text{US TIPS}$</td>\n",
    "    </tr>\n",
    "    <tr>\n",
    "        <td>$\\text{UNG}$</td>\n",
    "        <td>$\\text{United States Natural Gas Fund LP}$</td>\n",
    "        <td>$\\text{Commodities}$</td>\n",
    "        <td>$\\text{Natural Gas}$</td>\n",
    "    </tr>\n",
    "    <tr>\n",
    "        <td>$\\text{USO}$</td>\n",
    "        <td>$\\text{United States Oil Fund LP}$</td>\n",
    "        <td>$\\text{Commodities}$</td>\n",
    "        <td>$\\text{Crude Oil}$</td>\n",
    "    </tr>\n",
    "    <tr>\n",
    "        <td>$\\text{VEA}$</td>\n",
    "        <td>$\\text{Vanguard Developed Markets Index Fund ETF}$</td>\n",
    "        <td>$\\text{Equities}$</td>\n",
    "        <td>$\\text{DM-Equities}$</td>\n",
    "    </tr>\n",
    "    <tr>\n",
    "        <td>$\\text{VNQ}$</td>\n",
    "        <td>$\\text{Vanguard Real Estate ETF}$</td>\n",
    "        <td>$\\text{Real Estate}$</td>\n",
    "        <td>$\\text{Real Estate}$</td>\n",
    "    </tr>\n",
    "    <tr>\n",
    "        <td>$\\text{VWO}$</td>\n",
    "        <td>$\\text{Vanguard Emerging Markets Stock Index Fund ETF}$</td>\n",
    "        <td>$\\text{Equities}$</td>\n",
    "        <td>$\\text{EM-Equities}$</td>\n",
    "    </tr>\n",
    "    \n",
    "</table>\n",
    "<br>"
   ]
  },
  {
   "cell_type": "markdown",
   "metadata": {},
   "source": [
    "$\n",
    "\\text{\n",
    "    Our portfolio will consist of the above 20 ETFs, We will perform our momentum strategy analysis\n",
    "    forall the available dates until January 31, 2022. \n",
    "    }\n",
    "$\n",
    "\n",
    "\n",
    "$^4 \\scriptsize\\text{All ETFs are selected from (source).}$"
   ]
  },
  {
   "cell_type": "markdown",
   "metadata": {},
   "source": [
    "**Documentation**\n",
    "\n",
    "End of Day US Stock Prices (EOD)\n",
    "https://data.nasdaq.com/databases/EOD/documentation\n"
   ]
  },
  {
   "cell_type": "markdown",
   "metadata": {},
   "source": []
  },
  {
   "cell_type": "markdown",
   "metadata": {},
   "source": [
    "$\\large\\textbf{3 }\\quad\\large\\textbf{Implementation}$"
   ]
  },
  {
   "cell_type": "markdown",
   "metadata": {},
   "source": [
    "$\\textbf{3 - 1. Import functions from util.py}$"
   ]
  },
  {
   "cell_type": "code",
   "execution_count": 10,
   "metadata": {},
   "outputs": [],
   "source": [
    "from util import *\n",
    "\n",
    "# let plot display in the notebook instead of in a different window\n",
    "%matplotlib inline"
   ]
  },
  {
   "cell_type": "markdown",
   "metadata": {},
   "source": [
    "$\\textbf{3 - 2. Get EOD (end of day) data from Quandl}$"
   ]
  },
  {
   "cell_type": "code",
   "execution_count": 11,
   "metadata": {},
   "outputs": [
    {
     "name": "stdout",
     "output_type": "stream",
     "text": [
      "Quandl | START | Retriving Quandl data for security: ('BIL', 'BNDX', 'COW', 'DBA', 'EMB', 'FM', 'GLD', 'GOVT', 'HYG', 'LQD', 'MBB', 'PSP', 'SCHB', 'SLV', 'TIP', 'UNG', 'USO', 'VEA', 'VNQ', 'VWO')\n",
      "\n"
     ]
    },
    {
     "ename": "AttributeError",
     "evalue": "'DataFrame' object has no attribute 'get_level_values'",
     "output_type": "error",
     "traceback": [
      "\u001b[1;31m---------------------------------------------------------------------------\u001b[0m",
      "\u001b[1;31mAttributeError\u001b[0m                            Traceback (most recent call last)",
      "\u001b[1;32m<ipython-input-11-08d36bfd41db>\u001b[0m in \u001b[0;36m<module>\u001b[1;34m\u001b[0m\n\u001b[0;32m      5\u001b[0m \u001b[0mstart_date\u001b[0m\u001b[1;33m,\u001b[0m\u001b[0mend_date\u001b[0m \u001b[1;33m=\u001b[0m \u001b[1;34m'2008-01-01'\u001b[0m\u001b[1;33m,\u001b[0m\u001b[1;34m'2022-01-31'\u001b[0m\u001b[1;33m\u001b[0m\u001b[1;33m\u001b[0m\u001b[0m\n\u001b[0;32m      6\u001b[0m \u001b[1;33m\u001b[0m\u001b[0m\n\u001b[1;32m----> 7\u001b[1;33m \u001b[0mdata\u001b[0m \u001b[1;33m=\u001b[0m \u001b[0mgetQuandlEODData\u001b[0m\u001b[1;33m(\u001b[0m\u001b[0msecs\u001b[0m\u001b[1;33m,\u001b[0m\u001b[0mstart_date\u001b[0m\u001b[1;33m,\u001b[0m\u001b[0mend_date\u001b[0m\u001b[1;33m,\u001b[0m\u001b[1;33m(\u001b[0m\u001b[1;34m'adj_close'\u001b[0m\u001b[1;33m,\u001b[0m\u001b[1;34m'adj_volume'\u001b[0m\u001b[1;33m)\u001b[0m\u001b[1;33m)\u001b[0m\u001b[1;33m\u001b[0m\u001b[1;33m\u001b[0m\u001b[0m\n\u001b[0m\u001b[0;32m      8\u001b[0m \u001b[0mdata\u001b[0m\u001b[1;33m\u001b[0m\u001b[1;33m\u001b[0m\u001b[0m\n",
      "\u001b[1;32m~\\playground\\UChicago\\FINM33150_QuantTradingStrats\\project\\util.py\u001b[0m in \u001b[0;36mgetQuandlEODData\u001b[1;34m(sec, start_date, end_date, columns)\u001b[0m\n\u001b[0;32m     80\u001b[0m     \u001b[0mprint\u001b[0m\u001b[1;33m(\u001b[0m\u001b[1;34mf\"Quandl | DONE  | Returning {len(data):d} dates of data from {data.date.min()} to {data.date.max()}.\\n\"\u001b[0m\u001b[1;33m)\u001b[0m\u001b[1;33m\u001b[0m\u001b[1;33m\u001b[0m\u001b[0m\n\u001b[0;32m     81\u001b[0m \u001b[1;33m\u001b[0m\u001b[0m\n\u001b[1;32m---> 82\u001b[1;33m     \u001b[0mdata\u001b[0m\u001b[1;33m.\u001b[0m\u001b[0mset_index\u001b[0m\u001b[1;33m(\u001b[0m\u001b[1;33m[\u001b[0m\u001b[1;34m'date'\u001b[0m\u001b[1;33m,\u001b[0m\u001b[1;34m'ticker'\u001b[0m\u001b[1;33m]\u001b[0m\u001b[1;33m,\u001b[0m\u001b[0minplace\u001b[0m\u001b[1;33m=\u001b[0m\u001b[1;32mTrue\u001b[0m\u001b[1;33m)\u001b[0m\u001b[1;33m\u001b[0m\u001b[1;33m\u001b[0m\u001b[0m\n\u001b[0m\u001b[0;32m     83\u001b[0m     \u001b[0mdata\u001b[0m\u001b[1;33m.\u001b[0m\u001b[0msort_index\u001b[0m\u001b[1;33m(\u001b[0m\u001b[0minplace\u001b[0m\u001b[1;33m=\u001b[0m\u001b[1;32mTrue\u001b[0m\u001b[1;33m)\u001b[0m\u001b[1;33m\u001b[0m\u001b[1;33m\u001b[0m\u001b[0m\n\u001b[0;32m     84\u001b[0m \u001b[1;33m\u001b[0m\u001b[0m\n",
      "\u001b[1;32m~\\anaconda3\\lib\\site-packages\\pandas\\core\\generic.py\u001b[0m in \u001b[0;36m__getattr__\u001b[1;34m(self, name)\u001b[0m\n\u001b[0;32m   5463\u001b[0m             \u001b[1;32mif\u001b[0m \u001b[0mself\u001b[0m\u001b[1;33m.\u001b[0m\u001b[0m_info_axis\u001b[0m\u001b[1;33m.\u001b[0m\u001b[0m_can_hold_identifiers_and_holds_name\u001b[0m\u001b[1;33m(\u001b[0m\u001b[0mname\u001b[0m\u001b[1;33m)\u001b[0m\u001b[1;33m:\u001b[0m\u001b[1;33m\u001b[0m\u001b[1;33m\u001b[0m\u001b[0m\n\u001b[0;32m   5464\u001b[0m                 \u001b[1;32mreturn\u001b[0m \u001b[0mself\u001b[0m\u001b[1;33m[\u001b[0m\u001b[0mname\u001b[0m\u001b[1;33m]\u001b[0m\u001b[1;33m\u001b[0m\u001b[1;33m\u001b[0m\u001b[0m\n\u001b[1;32m-> 5465\u001b[1;33m             \u001b[1;32mreturn\u001b[0m \u001b[0mobject\u001b[0m\u001b[1;33m.\u001b[0m\u001b[0m__getattribute__\u001b[0m\u001b[1;33m(\u001b[0m\u001b[0mself\u001b[0m\u001b[1;33m,\u001b[0m \u001b[0mname\u001b[0m\u001b[1;33m)\u001b[0m\u001b[1;33m\u001b[0m\u001b[1;33m\u001b[0m\u001b[0m\n\u001b[0m\u001b[0;32m   5466\u001b[0m \u001b[1;33m\u001b[0m\u001b[0m\n\u001b[0;32m   5467\u001b[0m     \u001b[1;32mdef\u001b[0m \u001b[0m__setattr__\u001b[0m\u001b[1;33m(\u001b[0m\u001b[0mself\u001b[0m\u001b[1;33m,\u001b[0m \u001b[0mname\u001b[0m\u001b[1;33m:\u001b[0m \u001b[0mstr\u001b[0m\u001b[1;33m,\u001b[0m \u001b[0mvalue\u001b[0m\u001b[1;33m)\u001b[0m \u001b[1;33m->\u001b[0m \u001b[1;32mNone\u001b[0m\u001b[1;33m:\u001b[0m\u001b[1;33m\u001b[0m\u001b[1;33m\u001b[0m\u001b[0m\n",
      "\u001b[1;31mAttributeError\u001b[0m: 'DataFrame' object has no attribute 'get_level_values'"
     ]
    }
   ],
   "source": [
    "secs = ('BIL','BNDX','COW','DBA','EMB',\n",
    "        'FM','GLD','GOVT','HYG','LQD',\n",
    "        'MBB','PSP','SCHB','SLV','TIP',\n",
    "        'UNG','USO','VEA','VNQ','VWO')\n",
    "start_date,end_date = '2008-01-01','2022-01-31'\n",
    "\n",
    "data = getQuandlEODData(secs,start_date,end_date,('adj_close','adj_volume'))\n",
    "data"
   ]
  },
  {
   "cell_type": "markdown",
   "metadata": {},
   "source": []
  },
  {
   "cell_type": "code",
   "execution_count": 40,
   "metadata": {},
   "outputs": [
    {
     "name": "stdout",
     "output_type": "stream",
     "text": [
      "Quandl | START | Retriving Quandl data for security: ('SCHB', 'VEA', 'VWO', 'FM', 'GLD', 'SLV', 'USO', 'UNG', 'DBA', 'COW', 'GOVT', 'TIP', 'MBB', 'LQD', 'HYG', 'BNDX', 'EMB', 'VNQ', 'PSP', 'BIL')\n",
      "\n",
      "Quandl | DONE  | Returning 3526 dates of data for ('SCHB', 'VEA', 'VWO', 'FM', 'GLD', 'SLV', 'USO', 'UNG', 'DBA', 'COW', 'GOVT', 'TIP', 'MBB', 'LQD', 'HYG', 'BNDX', 'EMB', 'VNQ', 'PSP', 'BIL').\n",
      "\n"
     ]
    },
    {
     "data": {
      "text/html": [
       "<div>\n",
       "<style scoped>\n",
       "    .dataframe tbody tr th:only-of-type {\n",
       "        vertical-align: middle;\n",
       "    }\n",
       "\n",
       "    .dataframe tbody tr th {\n",
       "        vertical-align: top;\n",
       "    }\n",
       "\n",
       "    .dataframe thead th {\n",
       "        text-align: right;\n",
       "    }\n",
       "</style>\n",
       "<table border=\"1\" class=\"dataframe\">\n",
       "  <thead>\n",
       "    <tr style=\"text-align: right;\">\n",
       "      <th></th>\n",
       "      <th></th>\n",
       "      <th>adj_close</th>\n",
       "      <th>adj_volume</th>\n",
       "    </tr>\n",
       "    <tr>\n",
       "      <th>date</th>\n",
       "      <th>ticker</th>\n",
       "      <th></th>\n",
       "      <th></th>\n",
       "    </tr>\n",
       "  </thead>\n",
       "  <tbody>\n",
       "    <tr>\n",
       "      <th>2008-01-02</th>\n",
       "      <th>BIL</th>\n",
       "      <td>85.2938</td>\n",
       "      <td>29450.0000</td>\n",
       "    </tr>\n",
       "    <tr>\n",
       "      <th>2008-01-03</th>\n",
       "      <th>BIL</th>\n",
       "      <td>85.2380</td>\n",
       "      <td>30500.0000</td>\n",
       "    </tr>\n",
       "    <tr>\n",
       "      <th>2008-01-04</th>\n",
       "      <th>BIL</th>\n",
       "      <td>85.2201</td>\n",
       "      <td>173200.0000</td>\n",
       "    </tr>\n",
       "    <tr>\n",
       "      <th>2008-01-07</th>\n",
       "      <th>BIL</th>\n",
       "      <td>85.2936</td>\n",
       "      <td>30300.0000</td>\n",
       "    </tr>\n",
       "    <tr>\n",
       "      <th>2008-01-08</th>\n",
       "      <th>BIL</th>\n",
       "      <td>85.2342</td>\n",
       "      <td>18350.0000</td>\n",
       "    </tr>\n",
       "    <tr>\n",
       "      <th>...</th>\n",
       "      <th>...</th>\n",
       "      <td>...</td>\n",
       "      <td>...</td>\n",
       "    </tr>\n",
       "    <tr>\n",
       "      <th>2021-12-27</th>\n",
       "      <th>BIL</th>\n",
       "      <td>91.4300</td>\n",
       "      <td>730397.0000</td>\n",
       "    </tr>\n",
       "    <tr>\n",
       "      <th>2021-12-28</th>\n",
       "      <th>BIL</th>\n",
       "      <td>91.4200</td>\n",
       "      <td>1932997.0000</td>\n",
       "    </tr>\n",
       "    <tr>\n",
       "      <th>2021-12-29</th>\n",
       "      <th>BIL</th>\n",
       "      <td>91.4200</td>\n",
       "      <td>1246326.0000</td>\n",
       "    </tr>\n",
       "    <tr>\n",
       "      <th>2021-12-30</th>\n",
       "      <th>BIL</th>\n",
       "      <td>91.4300</td>\n",
       "      <td>836968.0000</td>\n",
       "    </tr>\n",
       "    <tr>\n",
       "      <th>2021-12-31</th>\n",
       "      <th>BIL</th>\n",
       "      <td>91.4300</td>\n",
       "      <td>871356.0000</td>\n",
       "    </tr>\n",
       "  </tbody>\n",
       "</table>\n",
       "<p>3526 rows × 2 columns</p>\n",
       "</div>"
      ],
      "text/plain": [
       "                   adj_close   adj_volume\n",
       "date       ticker                        \n",
       "2008-01-02 BIL       85.2938   29450.0000\n",
       "2008-01-03 BIL       85.2380   30500.0000\n",
       "2008-01-04 BIL       85.2201  173200.0000\n",
       "2008-01-07 BIL       85.2936   30300.0000\n",
       "2008-01-08 BIL       85.2342   18350.0000\n",
       "...                      ...          ...\n",
       "2021-12-27 BIL       91.4300  730397.0000\n",
       "2021-12-28 BIL       91.4200 1932997.0000\n",
       "2021-12-29 BIL       91.4200 1246326.0000\n",
       "2021-12-30 BIL       91.4300  836968.0000\n",
       "2021-12-31 BIL       91.4300  871356.0000\n",
       "\n",
       "[3526 rows x 2 columns]"
      ]
     },
     "execution_count": 40,
     "metadata": {},
     "output_type": "execute_result"
    }
   ],
   "source": []
  }
 ],
 "metadata": {
  "interpreter": {
   "hash": "2ff398735b840e154b8cbd654a97af1eda1e82713cbff18c7e563bf43d4f2a36"
  },
  "kernelspec": {
   "display_name": "Python 3",
   "language": "python",
   "name": "python3"
  },
  "language_info": {
   "codemirror_mode": {
    "name": "ipython",
    "version": 3
   },
   "file_extension": ".py",
   "mimetype": "text/x-python",
   "name": "python",
   "nbconvert_exporter": "python",
   "pygments_lexer": "ipython3",
   "version": "3.8.8"
  }
 },
 "nbformat": 4,
 "nbformat_minor": 2
}
