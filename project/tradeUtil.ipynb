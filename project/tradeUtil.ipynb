{
 "cells": [
  {
   "cell_type": "code",
   "execution_count": 1,
   "metadata": {},
   "outputs": [],
   "source": [
    "import os\n",
    "from pathlib import Path\n",
    "import functools\n",
    "import warnings\n",
    "\n",
    "import quandl\n",
    "import json\n",
    "import pandas as pd\n",
    "pd.set_option(\"display.precision\", 4)\n",
    "pd.set_option('display.float_format', lambda x: '%.4f' % x)\n",
    "# import pandas_datareader.data as pdr\n",
    "\n",
    "# import math\n",
    "import numpy as np\n",
    "import datetime as dt\n",
    "from dateutil.relativedelta import relativedelta\n",
    "\n",
    "# plotting packages\n",
    "from matplotlib import pyplot as plt\n",
    "plt.rcParams['figure.figsize'] = [21, 8]"
   ]
  },
  {
   "cell_type": "code",
   "execution_count": null,
   "metadata": {},
   "outputs": [],
   "source": [
    "# Get personal API key** from ../data/APIs.json\n",
    "f = open('../data/APIs.json')\n",
    "APIs = json.load(f)\n",
    "f.close()"
   ]
  },
  {
   "cell_type": "code",
   "execution_count": null,
   "metadata": {},
   "outputs": [],
   "source": [
    "# Helper functions\n",
    "\n",
    "def assertCorrectDateFormat(date_text):\n",
    "    try:\n",
    "        dt.datetime.strptime(date_text, '%Y-%m-%d')\n",
    "    except ValueError:\n",
    "        raise ValueError(\"Incorrect date format, should be YYYY-MM-DD\")\n",
    "\n",
    "def calcSixMonthsAgo(date_text):\n",
    "    assertCorrectDateFormat(date_text)\n",
    "    d = dt.datetime.strptime(date_text, '%Y-%m-%d')\n",
    "    return (d + relativedelta(months=-6)).strftime('%Y-%m-%d')\n",
    "\n",
    "def calcNextMonth(month_text):\n",
    "    if type(month_text) == str:\n",
    "        m = dt.datetime.strptime(month_text, '%Y-%m')\n",
    "    else: m = month_text\n",
    "    return (m + relativedelta(months=1)).strftime('%Y-%m')\n",
    "\n",
    "def deleteCSV(sec):\n",
    "    file_name = \"../data_large/EOD/\"+sec\n",
    "    if os.path.isfile(file_name):\n",
    "        os.remove(file_name)"
   ]
  },
  {
   "cell_type": "code",
   "execution_count": null,
   "metadata": {},
   "outputs": [],
   "source": [
    "# Function that retrieves EOD data from Quandl\n",
    "@functools.lru_cache(maxsize=16) # Cache the function output\n",
    "def getQuandlEODData(sec,start_date,end_date,columns):\n",
    "    # Get one security (sec)'s data fom Quandl using quandl.get_table\n",
    "    # NOTE: missing data for the inputted date will NOT return a row.\n",
    "\n",
    "    # INPUT         | DATA TYPE                 | DESCRIPTION\n",
    "    # sec           | string / list of string   | security ticker\n",
    "    # start_date    | string (YYYY-MM-DD)       | start date of data\n",
    "    # end_date      | string (YYYY-MM-DD)       | end date of data (same as or after start_date)\n",
    "    # columns       | string / list of string   | columns to return\n",
    "    \n",
    "    print(f\"Quandl | START | Retriving Quandl data for security: {sec}\")\n",
    "    \n",
    "    # Retrieve data using quandl.get_table\n",
    "    quandl.ApiConfig.api_key = APIs['Quandl']\n",
    "    data = quandl.get_table('QUOTEMEDIA/PRICES',\n",
    "                            ticker = sec, \n",
    "                            date = {'gte':start_date, 'lte':end_date},\n",
    "                            qopts = {'columns':list(set(['date','ticker']+list(columns)))}\n",
    "                            )\n",
    "\n",
    "    data.date = pd.to_datetime(data.date, unit='D')\n",
    "    data.dropna(inplace=True)\n",
    "    \n",
    "    print(f\"Quandl | DONE  | Returning {len(data):d} dates of data from {data.date.min()} to {data.date.max()}.\")\n",
    "    \n",
    "    data.set_index(['date','ticker'],inplace=True)\n",
    "    data.sort_index(inplace=True)\n",
    "    \n",
    "    return data"
   ]
  },
  {
   "cell_type": "code",
   "execution_count": null,
   "metadata": {},
   "outputs": [],
   "source": [
    "def trade()"
   ]
  }
 ],
 "metadata": {
  "interpreter": {
   "hash": "2ff398735b840e154b8cbd654a97af1eda1e82713cbff18c7e563bf43d4f2a36"
  },
  "kernelspec": {
   "display_name": "Python 3",
   "language": "python",
   "name": "python3"
  },
  "language_info": {
   "codemirror_mode": {
    "name": "ipython",
    "version": 3
   },
   "file_extension": ".py",
   "mimetype": "text/x-python",
   "name": "python",
   "nbconvert_exporter": "python",
   "pygments_lexer": "ipython3",
   "version": "3.9.7"
  }
 },
 "nbformat": 4,
 "nbformat_minor": 2
}
