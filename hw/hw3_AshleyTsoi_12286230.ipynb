{
 "cells": [
  {
   "cell_type": "markdown",
   "metadata": {},
   "source": [
    "# HW #3 Financial Ratio Quantile Strategies\n",
    "[FINM 33150] Regression Analysis and Quantitative Trading Strategies\\\n",
    "Winter 2022 | Professor Brian Boonstra\n",
    "\n",
    "_**Due:** Thursday, February 3rd, at 11:00pm\\\n",
    "**Name:** Ashley Tsoi (atsoi, Student ID: 12286230)_"
   ]
  },
  {
   "cell_type": "markdown",
   "metadata": {},
   "source": [
    "### 1. Fetch and clean data"
   ]
  },
  {
   "cell_type": "markdown",
   "metadata": {},
   "source": [
    "#### 1-1. Import packages"
   ]
  },
  {
   "cell_type": "code",
   "execution_count": 1,
   "metadata": {},
   "outputs": [],
   "source": [
    "import quandl\n",
    "import json\n",
    "import pandas as pd\n",
    "pd.set_option(\"display.precision\", 4)\n",
    "pd.set_option('display.float_format', lambda x: '%.4f' % x)\n",
    "from pandas.core.common import SettingWithCopyWarning\n",
    "import warnings\n",
    "warnings.simplefilter(action=\"ignore\", category=SettingWithCopyWarning)\n",
    "\n",
    "import math\n",
    "import numpy as np\n",
    "import datetime as dt\n",
    "import functools\n",
    "from itertools import permutations\n",
    "\n",
    "# let plot display in the notebook instead of in a different window\n",
    "%matplotlib inline \n",
    "from matplotlib import pyplot as plt\n",
    "plt.rcParams['figure.figsize'] = [21, 8]"
   ]
  },
  {
   "cell_type": "markdown",
   "metadata": {},
   "source": [
    "#### 1-2. Define the functions to fetch data from Quandl"
   ]
  },
  {
   "cell_type": "markdown",
   "metadata": {},
   "source": [
    "**1-2-1. Get my personal keys** from ../data/APIs.json"
   ]
  },
  {
   "cell_type": "code",
   "execution_count": 2,
   "metadata": {},
   "outputs": [],
   "source": [
    "f = open('../data/APIs.json')\n",
    "APIs = json.load(f)\n",
    "f.close()"
   ]
  },
  {
   "cell_type": "markdown",
   "metadata": {},
   "source": [
    "**1-2-2. Define date-format helper function**"
   ]
  },
  {
   "cell_type": "code",
   "execution_count": 3,
   "metadata": {},
   "outputs": [],
   "source": [
    "def assertCorrectDateFormat(date_text):\n",
    "    try:\n",
    "        dt.datetime.strptime(date_text, '%Y-%m-%d')\n",
    "    except ValueError:\n",
    "        raise ValueError(\"Incorrect date format, should be YYYY-MM-DD\")"
   ]
  },
  {
   "cell_type": "markdown",
   "metadata": {},
   "source": [
    "**1-2-3. Define function** to retrieve raw data from Quandl\n",
    "\n",
    "**Documentation:**\n",
    "```\n",
    "Zacks Fundamentals Collection B\n",
    "https://data.nasdaq.com/databases/ZFB/documentation\n",
    "https://data.nasdaq.com/databases/ZFB/usage/quickstart/python\n",
    "```"
   ]
  },
  {
   "cell_type": "code",
   "execution_count": 4,
   "metadata": {},
   "outputs": [],
   "source": [
    "# Define function that retrieves data from Quandl\n",
    "@functools.lru_cache(maxsize=16) # Cache the function output\n",
    "def getQuandlZFBData(from_table,secs,start_date,end_date,columns):\n",
    "    # Get data fom Quandl using quandl.get_table\n",
    "    # NOTE: missing data for the inputted date will NOT return a row.\n",
    "\n",
    "    # INPUT         | DATA TYPE                 | DESCRIPTION\n",
    "    # from_table    | string                    | FC, FR, MT, MKTV, SHRS, or HDM\n",
    "    # secs          | string / tuple of string  | security name(s)\n",
    "    # start_date    | string (YYYY-MM-DD)       | start date of data\n",
    "    # end_date      | string (YYYY-MM-DD)       | end date of data (same as or after start_date)\n",
    "    # columns       | string / tuple of string  | names of the columns to return\n",
    "    \n",
    "    if secs=='all': secs = list(pd.read_csv('../data/zacks-tickers.csv').ticker.unique()) # import all tickers from zacks-tickers\n",
    "\n",
    "    if type(secs)==str: seclen = 1\n",
    "    else: seclen=len(secs)\n",
    "    print(\"Quandl | START | Retriving Quandl data for {:d} securities from the ZACKS/{} table: \\n\".format(seclen,from_table))\n",
    "    \n",
    "    # Retrieve data using quandl.get_table\n",
    "    quandl.ApiConfig.api_key = APIs['Quandl']\n",
    "\n",
    "    if from_table in ['FC','FR','MKTV','SHRS','HDM']:\n",
    "        data = quandl.get_table('ZACKS/'+from_table,\n",
    "                                ticker = secs, \n",
    "                                per_end_date = {'gte':start_date, 'lte':end_date},\n",
    "                                qopts = {'columns':list(columns)},\n",
    "                                paginate = True)\n",
    "        \n",
    "        data['per_end_date'] = pd.to_datetime(data['per_end_date'])\n",
    "        if 'filing_date' in data.columns:\n",
    "            data['filing_date'] = pd.to_datetime(data['filing_date'])\n",
    "\n",
    "    elif from_table == 'MT':\n",
    "        data = quandl.get_table('ZACKS/MT',\n",
    "                                ticker = secs, \n",
    "                                qopts = {'columns':list(columns)},\n",
    "                                paginate = True)\n",
    "\n",
    "    else:\n",
    "        print(\"from_table is limited to FC, FR, MT, MKTV, SHRS and HDM\")\n",
    "        \n",
    "    print(\"Quandl | DONE  | Returning {:d} rows of data from the ZACKS/{} table.\\n\".format(len(data),from_table))\n",
    "\n",
    "    return data\n",
    "\n",
    "\n",
    "@functools.lru_cache(maxsize=16) # Cache the function output\n",
    "def _getZFBData(secs,start_date,end_date):\n",
    "    # Merged Zacks data in five tables: FC, FR, MT, MKTV, and SHRS\n",
    "    # NOTE: missing data for the inputted date will NOT return a row.\n",
    "\n",
    "    # INPUT         | DATA TYPE                 | DESCRIPTION\n",
    "    # secs          | string / tuple of string  | security name(s)\n",
    "    # start_date    | string (YYYY-MM-DD)       | start date of data\n",
    "    # end_date      | string (YYYY-MM-DD)       | end date of data (same as or after start_date)\n",
    "    \n",
    "    # Retrieve data using quandl.get_table\n",
    "    fc = getQuandlZFBData('FC',secs,start_date,end_date,('ticker','exchange','per_end_date','per_type','zacks_sector_code','basic_net_eps','diluted_net_eps','tot_lterm_debt','net_lterm_debt','filing_date'))\n",
    "    fr = getQuandlZFBData('FR',secs,start_date,end_date,('ticker','exchange','per_end_date','per_type','ret_invst','tot_debt_tot_equity'))\n",
    "    mt = getQuandlZFBData('MT',secs,start_date,end_date,('ticker','ticker_type','asset_type'))\n",
    "    mktv = getQuandlZFBData('MKTV',secs,start_date,end_date,('ticker','per_end_date','per_type','mkt_val'))\n",
    "    shrs = getQuandlZFBData('SHRS',secs,start_date,end_date,('ticker','per_end_date','per_type','shares_out','avg_d_shares'))\n",
    "\n",
    "    # Merge the tables\n",
    "    print(\"MERGE  | START | \\n\")\n",
    "\n",
    "    zacks_1 = fc.merge(fr, how='outer', on=['ticker','exchange','per_end_date','per_type'])\n",
    "    zacks_2 = mktv.merge(shrs, how='outer', on=['ticker','per_end_date','per_type'])\n",
    "    zacks_3 = zacks_1.merge(zacks_2, how='outer', on=['ticker','per_end_date','per_type'])\n",
    "    zacks = zacks_3.merge(mt, how='outer', on='ticker')\n",
    "\n",
    "    print(\"MERGE  | DONE  | Returning {:d} rows of ZACKS data.\\n\".format(len(zacks)))\n",
    "    \n",
    "    return zacks\n"
   ]
  },
  {
   "cell_type": "markdown",
   "metadata": {},
   "source": [
    "**1-2-4. Define function** to filter / clean raw data\n",
    "\n",
    "**Requirements:**\n",
    "```\n",
    "- US Equities\n",
    "- not in the automotive, financial or insurance sector\n",
    "- end-of-day adjusted closing prices are available\n",
    "- debt/market cap ratio is greater than 0.1\n",
    "- has feasible calculation of the ratios: \n",
    "  - debt to market cap, \n",
    "  - return on investment, and \n",
    "  - price to earnings. \n",
    "  Including for at least one PER END DATE no more than one year old. Debt ratio of zero is OK.\n",
    "```"
   ]
  },
  {
   "cell_type": "code",
   "execution_count": null,
   "metadata": {},
   "outputs": [],
   "source": [
    "def getCleanZFBData(secs,start_date,end_date):\n",
    "\n",
    "    # === GET RAW DATA ============================================\n",
    "    raw_zacks = _getZFBData(secs,start_date,end_date)\n",
    "    \n",
    "    # === FILTER ==================================================\n",
    "    # US Equities only\n",
    "    zacks = raw_zacks[raw_zacks['exchange'].isin(('NYSE','NASDAQ'))]  # select US stock exchanges\n",
    "    zacks = zacks[zacks['ticker_type']=='S']                          # S = Securities\n",
    "    zacks = zacks[zacks['asset_type']=='COM'][zacks.columns]          # COM = Common stocks\n",
    "\n",
    "    # remove tickers without filing dates (tickers without filing dates are impossible to join on)\n",
    "    filingDate_filter = zacks[(pd.isull(zacks['filing_date']))]['ticker'].unique()\n",
    "    zacks = zacks[(~zacks['ticker'].isin(filingDate_filter))]\n",
    "    \n",
    "    # not in the automotive, financial or insurance sector\n",
    "    sector_filter = zacks[(zacks['zacks_sector_code'].isin((5,13)))]['ticker'].unique() # 5 = finance (includes insurance), 13 = Autumotive\n",
    "    zacks = zacks[(~zacks['ticker'].isin(sector_filter))]\n",
    "    \n",
    "    # debt-to-market-cap ratio greater than 0.1 (filter all since we will have enough tickers)\n",
    "    \n",
    "    zacks = zacks[(zacks['ticker'].isin(sector_filter))]\n",
    "    \n",
    "    \n",
    "\n",
    "\n",
    "    # === FINAL CLEAN-UP ==========================================\n",
    "    # drop these columns as they are no longer needed\n",
    "    zacks.drop(['ticker_type','asset_type','zacks_sector_code'], axis=1, inplace=True)\n",
    "\n",
    "    zacks\n",
    "\n",
    "    return zacks[['']]"
   ]
  },
  {
   "cell_type": "markdown",
   "metadata": {},
   "source": [
    "#### 1-3. Fetch cleaned data using the functions above\n",
    "\n",
    "**Dates:**\n",
    "```\n",
    "January 1, 2014 - January 31, 2021*\n",
    "```\n",
    "**Note: fetch data from July 1, 2013 to get all data reported by January 1, 2014*\n",
    "\n",
    "**1-3-1. Fetch data** "
   ]
  },
  {
   "cell_type": "code",
   "execution_count": 28,
   "metadata": {},
   "outputs": [
    {
     "name": "stdout",
     "output_type": "stream",
     "text": [
      "Quandl | START | Retriving Quandl data for 8913 securities from the ZACKS/FC table: \n",
      "\n",
      "Quandl | DONE  | Returning 191483 rows of data from the ZACKS/FC table.\n",
      "\n"
     ]
    }
   ],
   "source": [
    "zacks_fc = getQuandlZFBData('FC','all','2013-07-01','2021-01-31',('ticker','exchange','per_end_date','per_type','zacks_sector_code','basic_net_eps','diluted_net_eps','tot_lterm_debt','net_lterm_debt','filing_date'))\n",
    "zacks_fr = getQuandlZFBData('FR','all','2013-07-01','2021-01-31',('ticker','exchange','per_end_date','per_type','ret_invst','tot_debt_tot_equity'))\n",
    "zacks_mt = getQuandlZFBData('MT','all','2013-07-01','2021-01-31',('ticker','ticker_type','asset_type'))\n",
    "zacks_mktv = getQuandlZFBData('MKTV','all','2013-07-01','2021-01-31',('ticker','per_end_date','per_type','mkt_val'))\n",
    "zacks_shrs = getQuandlZFBData('SHRS','all','2013-07-01','2021-01-31',('ticker','per_end_date','per_type','shares_out','avg_d_shares'))"
   ]
  },
  {
   "cell_type": "markdown",
   "metadata": {},
   "source": [
    "**1-1-2. Filter data**"
   ]
  },
  {
   "cell_type": "code",
   "execution_count": 38,
   "metadata": {},
   "outputs": [
    {
     "data": {
      "text/plain": [
       "array([None, 'COM', 'ADR', 'CDN', 'MLP', 'ETF', 'CEF'], dtype=object)"
      ]
     },
     "execution_count": 38,
     "metadata": {},
     "output_type": "execute_result"
    }
   ],
   "source": [
    "zacks_mt.asset_type.unique()"
   ]
  },
  {
   "cell_type": "markdown",
   "metadata": {},
   "source": []
  },
  {
   "cell_type": "code",
   "execution_count": null,
   "metadata": {},
   "outputs": [],
   "source": []
  }
 ],
 "metadata": {
  "interpreter": {
   "hash": "2ff398735b840e154b8cbd654a97af1eda1e82713cbff18c7e563bf43d4f2a36"
  },
  "kernelspec": {
   "display_name": "Python 3.9.7 64-bit",
   "language": "python",
   "name": "python3"
  },
  "language_info": {
   "codemirror_mode": {
    "name": "ipython",
    "version": 3
   },
   "file_extension": ".py",
   "mimetype": "text/x-python",
   "name": "python",
   "nbconvert_exporter": "python",
   "pygments_lexer": "ipython3",
   "version": "3.9.7"
  },
  "orig_nbformat": 4
 },
 "nbformat": 4,
 "nbformat_minor": 2
}
