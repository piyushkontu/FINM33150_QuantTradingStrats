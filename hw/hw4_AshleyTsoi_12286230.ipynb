{
 "cells": [
  {
   "cell_type": "markdown",
   "metadata": {},
   "source": [
    "[FINM 33150] Regression Analysis and Quantitative Trading Strategies\\\n",
    "Winter 2022 | Professor Brian Boonstra\n",
    "\n",
    "# HW #3 Financial Ratio Quantile Strategies\n",
    "\n",
    "_**Due:** Thursday, February 3rd, at 11:00pm\\\n",
    "**Name:** Ashley Tsoi (atsoi, Student ID: 12286230)_"
   ]
  },
  {
   "cell_type": "markdown",
   "metadata": {},
   "source": [
    "### 1. Fetch and clean data"
   ]
  },
  {
   "cell_type": "markdown",
   "metadata": {},
   "source": [
    "#### 1-1. Import packages"
   ]
  },
  {
   "cell_type": "code",
   "execution_count": 12,
   "metadata": {},
   "outputs": [],
   "source": [
    "import os\n",
    "# from pathlib import Path\n",
    "import functools\n",
    "from collections import defaultdict\n",
    "import warnings\n",
    "\n",
    "# import quandl\n",
    "import json\n",
    "import pandas as pd\n",
    "from pandas.tseries.offsets import DateOffset\n",
    "pd.set_option(\"display.precision\", 4)\n",
    "pd.set_option('display.float_format', lambda x: '%.4f' % x)\n",
    "from pandas.core.common import SettingWithCopyWarning\n",
    "warnings.simplefilter(action=\"ignore\", category=SettingWithCopyWarning)\n",
    "\n",
    "import math\n",
    "import numpy as np\n",
    "import datetime as dt\n",
    "from dateutil.relativedelta import relativedelta\n",
    "\n",
    "# let plot display in the notebook instead of in a different window\n",
    "%matplotlib inline \n",
    "from matplotlib import pyplot as plt\n",
    "plt.rcParams['figure.figsize'] = [21, 8]"
   ]
  },
  {
   "cell_type": "markdown",
   "metadata": {},
   "source": [
    "#### 1-2. Fetch data"
   ]
  },
  {
   "cell_type": "markdown",
   "metadata": {},
   "source": [
    "**1-2-1. Read 2021 crypto data from local**"
   ]
  },
  {
   "cell_type": "code",
   "execution_count": 8,
   "metadata": {},
   "outputs": [],
   "source": [
    "tables = {'book':['BTC-USD','ETH-BTC','ETH-USD'],\n",
    "          'trades':['BTC-USD','ETH-BTC','ETH-USD']}\n",
    "\n",
    "crypto = defaultdict()\n",
    "for type,pairs in tables.items():\n",
    "    for p in pairs:\n",
    "        data = pd.read_csv('../data_large/crypto/'+type+'_narrow_'+p+'_2021.delim.gz', sep='\\t').set_index(['received_utc_nanoseconds'])\n",
    "        data.index = pd.to_datetime(data.index, unit='ns')\n",
    "        data.sort_index(inplace=True)\n",
    "        crypto[type+'_'+p[:3].lower()+'_'+p[4:].lower()] = data"
   ]
  },
  {
   "cell_type": "code",
   "execution_count": 9,
   "metadata": {},
   "outputs": [
    {
     "name": "stdout",
     "output_type": "stream",
     "text": [
      "Book tables have columns: \n",
      "['Ask1PriceMillionths', 'Bid1PriceMillionths', 'Ask1SizeBillionths', 'Bid1SizeBillionths', 'Ask2PriceMillionths', 'Bid2PriceMillionths', 'Ask2SizeBillionths', 'Bid2SizeBillionths', 'timestamp_utc_nanoseconds', 'Mid']\n",
      " --------------------\n",
      "Trades tables have columns: \n",
      "['timestamp_utc_nanoseconds', 'PriceMillionths', 'SizeBillionths', 'Side']\n"
     ]
    }
   ],
   "source": [
    "bc = list(crypto['book_btc_usd'].columns)\n",
    "tc = list(crypto['trades_btc_usd'].columns)\n",
    "print(f'Book tables have columns: \\n{bc}\\n --------------------\\nTrades tables have columns: \\n{tc}')"
   ]
  },
  {
   "cell_type": "markdown",
   "metadata": {},
   "source": [
    "#### 1-3. Define functions to add information columns for trading"
   ]
  },
  {
   "cell_type": "markdown",
   "metadata": {},
   "source": [
    "**1-3-1. Define function to calculate $\\tau$-interval trade flow**\n",
    "\n",
    "$\\tau$ is in seconds"
   ]
  },
  {
   "cell_type": "code",
   "execution_count": 10,
   "metadata": {},
   "outputs": [],
   "source": [
    "# Return a pd Series of F_tau\n",
    "@functools.lru_cache(maxsize=16) # Cache the function output\n",
    "def calcF_tau(trades_table,tau=1):\n",
    "    assert 'SizeBillionths' in trades_table.columns\n",
    "    assert 'Side' in trades_table.columns\n",
    "    \n",
    "    F = trades_table['SizeBillionths'] * trades_table['Side']\n",
    "    if tau==1/1000000000:\n",
    "        return F\n",
    "    \n",
    "    return F.rolling(str(tau)+'s').shift(1)"
   ]
  },
  {
   "cell_type": "code",
   "execution_count": 11,
   "metadata": {},
   "outputs": [
    {
     "ename": "TypeError",
     "evalue": "unhashable type: 'list'",
     "output_type": "error",
     "traceback": [
      "\u001b[1;31m---------------------------------------------------------------------------\u001b[0m",
      "\u001b[1;31mTypeError\u001b[0m                                 Traceback (most recent call last)",
      "\u001b[1;32m~\\AppData\\Local\\Temp/ipykernel_8268/2587233438.py\u001b[0m in \u001b[0;36m<module>\u001b[1;34m\u001b[0m\n\u001b[1;32m----> 1\u001b[1;33m \u001b[0mtrades_tables\u001b[0m \u001b[1;33m=\u001b[0m \u001b[0mcrypto\u001b[0m\u001b[1;33m[\u001b[0m\u001b[1;33m[\u001b[0m\u001b[0mk\u001b[0m \u001b[1;32mfor\u001b[0m \u001b[0mk\u001b[0m \u001b[1;32min\u001b[0m \u001b[0mcrypto\u001b[0m\u001b[1;33m.\u001b[0m\u001b[0mkeys\u001b[0m\u001b[1;33m(\u001b[0m\u001b[1;33m)\u001b[0m \u001b[1;32mif\u001b[0m \u001b[0mk\u001b[0m\u001b[1;33m.\u001b[0m\u001b[0mstartswith\u001b[0m\u001b[1;33m(\u001b[0m\u001b[1;34m'trades'\u001b[0m\u001b[1;33m)\u001b[0m\u001b[1;33m]\u001b[0m\u001b[1;33m]\u001b[0m\u001b[1;33m\u001b[0m\u001b[1;33m\u001b[0m\u001b[0m\n\u001b[0m\u001b[0;32m      2\u001b[0m \u001b[0mtau_range\u001b[0m \u001b[1;33m=\u001b[0m \u001b[1;33m[\u001b[0m\u001b[1;36m1\u001b[0m\u001b[1;33m,\u001b[0m\u001b[1;36m2\u001b[0m\u001b[1;33m,\u001b[0m\u001b[1;36m5\u001b[0m\u001b[1;33m,\u001b[0m\u001b[1;36m60\u001b[0m\u001b[1;33m,\u001b[0m\u001b[1;36m120\u001b[0m\u001b[1;33m,\u001b[0m\u001b[1;36m300\u001b[0m\u001b[1;33m,\u001b[0m\u001b[1;36m3600\u001b[0m\u001b[1;33m]\u001b[0m \u001b[1;31m# 1 second, 2 seconds, 5 seconds, 1 min, 2 min, 5 min, 1 hour\u001b[0m\u001b[1;33m\u001b[0m\u001b[1;33m\u001b[0m\u001b[0m\n\u001b[0;32m      3\u001b[0m \u001b[1;32mfor\u001b[0m \u001b[0mt\u001b[0m\u001b[1;33m,\u001b[0m\u001b[0mt_data\u001b[0m \u001b[1;32min\u001b[0m \u001b[0mtrades_tables\u001b[0m\u001b[1;33m.\u001b[0m\u001b[0mitems\u001b[0m\u001b[1;33m(\u001b[0m\u001b[1;33m)\u001b[0m\u001b[1;33m:\u001b[0m\u001b[1;33m\u001b[0m\u001b[1;33m\u001b[0m\u001b[0m\n\u001b[0;32m      4\u001b[0m     \u001b[0mcrypto\u001b[0m\u001b[1;33m[\u001b[0m\u001b[0mt\u001b[0m\u001b[1;33m]\u001b[0m\u001b[1;33m[\u001b[0m\u001b[1;34m''\u001b[0m\u001b[1;33m]\u001b[0m\u001b[1;33m\u001b[0m\u001b[1;33m\u001b[0m\u001b[0m\n",
      "\u001b[1;31mTypeError\u001b[0m: unhashable type: 'list'"
     ]
    }
   ],
   "source": [
    "trades_tables = crypto[[k for k in crypto.keys() if k.startswith('trades')]]\n",
    "tau_range = [1,2,5,60,120,300,3600] # 1 second, 2 seconds, 5 seconds, 1 min, 2 min, 5 min, 1 hour\n",
    "for t,t_data in trades_tables.items():\n",
    "    crypto[t]['']"
   ]
  },
  {
   "cell_type": "markdown",
   "metadata": {},
   "source": [
    "**1-3-2. Define function to calculate t-second forward returns**"
   ]
  },
  {
   "cell_type": "code",
   "execution_count": 22,
   "metadata": {},
   "outputs": [
    {
     "name": "stdout",
     "output_type": "stream",
     "text": [
      "2021-04-10 21:28:56.118594\n",
      "2021-04-10 21:28:56.118837\n",
      "2021-04-10 21:28:56.147583\n"
     ]
    },
    {
     "name": "stderr",
     "output_type": "stream",
     "text": [
      "C:\\Users\\ashle\\AppData\\Local\\Temp/ipykernel_8268/1577596026.py:1: DeprecationWarning: The default dtype for empty Series will be 'object' instead of 'float64' in a future version. Specify a dtype explicitly to silence this warning.\n",
      "  r = pd.Series(index=crypto['trades_btc_usd'].index)\n"
     ]
    }
   ],
   "source": [
    "r = pd.Series(index=crypto['trades_btc_usd'].index)\n",
    "k = 3\n",
    "for i,v in r.items():\n",
    "    print(i)\n",
    "    k-=1\n",
    "    if k==0: break "
   ]
  },
  {
   "cell_type": "code",
   "execution_count": null,
   "metadata": {},
   "outputs": [],
   "source": [
    "# Return a pd Series of T-second forward returns\n",
    "@functools.lru_cache(maxsize=16) # Cache the function output\n",
    "def calcR_t(trades_price,T):\n",
    "    idx = trades_price.index\n",
    "    i_0 = idx.pop()\n",
    "    r = pd.Series(index=idx)\n",
    "    for i,p in r.items():    \n",
    "        i_t = i + DateOffset(seconds=T) # target time\n",
    "        while idx and i_0 < i_t:\n",
    "            i_0 = idx.pop()\n",
    "        if i_0 >= i_t: # second check in case last item fits criteria\n",
    "            r.loc[i_0] = trades_price.loc[i_0]/p - 1\n",
    "        else: break\n",
    "    \n",
    "    return r"
   ]
  },
  {
   "cell_type": "markdown",
   "metadata": {},
   "source": [
    "**1-3-3. Define function to get regression $\\beta$**"
   ]
  },
  {
   "cell_type": "code",
   "execution_count": null,
   "metadata": {},
   "outputs": [],
   "source": []
  },
  {
   "cell_type": "markdown",
   "metadata": {},
   "source": [
    "#### 1-4. Split data for test & training"
   ]
  },
  {
   "cell_type": "code",
   "execution_count": null,
   "metadata": {},
   "outputs": [],
   "source": [
    "def splitTestTraining(table_dict,train_portion=0.2):\n",
    "    train,test = defaultdict(),defaultdict()\n",
    "    for t,t_data in table_dict.items():\n",
    "        train_size = int(train_portion*len(t_data))\n",
    "        train[t] = t_data.iloc[:train_size]\n",
    "        test[t] = t_data.iloc[train_size:]\n",
    "    return train,test\n",
    "\n",
    "# train,test = splitTestTraining(crypto)"
   ]
  },
  {
   "cell_type": "markdown",
   "metadata": {},
   "source": [
    "### 2. Trade"
   ]
  },
  {
   "cell_type": "markdown",
   "metadata": {},
   "source": []
  },
  {
   "cell_type": "code",
   "execution_count": null,
   "metadata": {},
   "outputs": [],
   "source": [
    "def calcTradeStats(table,date_col_name,price_col_name,init_cash):\n",
    "    # table must contain columns (1) price*volumn (2) position\n",
    "    # returns columns: [table.columns] + [signal, position_value, cash, total_value, PnL_daily, PnL_cumulative]\n",
    "\n",
    "    if date_col_name not in table.index: raise IndexError(f'{date_col_name} must be in table index.')\n",
    "    if price_col_name not in table.columns: raise ValueError(f'{price_col_name} must be a table column.')\n",
    "    if 'position' not in table.columns: raise ValueError('position must be a table column.')\n",
    "\n",
    "    table['signal'] = [table.position[0]] + table.position.diff()[1:].astype(np.int16).tolist()\n",
    "    table['position_value'] = table[price_col_name] * table.position\n",
    "    table['cash'] = ([init_cash-table.position_value[0]] + (-1*(table.signal*table[price_col_name])[1:]).tolist()).cumsum()\n",
    "    table['total_value'] = table.position_value + table.cash\n",
    "    table['PnL_daily'] = table.total_value.pct_change()\n",
    "    table['PnL_cumulative'] = table.total_value/init_cash - 1\n",
    "\n",
    "    return table"
   ]
  },
  {
   "cell_type": "markdown",
   "metadata": {},
   "source": []
  },
  {
   "cell_type": "code",
   "execution_count": null,
   "metadata": {},
   "outputs": [],
   "source": []
  }
 ],
 "metadata": {
  "interpreter": {
   "hash": "2ff398735b840e154b8cbd654a97af1eda1e82713cbff18c7e563bf43d4f2a36"
  },
  "kernelspec": {
   "display_name": "Python 3.9.7 64-bit",
   "language": "python",
   "name": "python3"
  },
  "language_info": {
   "codemirror_mode": {
    "name": "ipython",
    "version": 3
   },
   "file_extension": ".py",
   "mimetype": "text/x-python",
   "name": "python",
   "nbconvert_exporter": "python",
   "pygments_lexer": "ipython3",
   "version": "3.9.7"
  },
  "orig_nbformat": 4
 },
 "nbformat": 4,
 "nbformat_minor": 2
}
