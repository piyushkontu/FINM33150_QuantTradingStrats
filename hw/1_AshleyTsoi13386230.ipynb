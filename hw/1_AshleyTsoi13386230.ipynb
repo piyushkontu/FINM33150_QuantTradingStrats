{
 "cells": [
  {
   "cell_type": "markdown",
   "metadata": {},
   "source": [
    "## HW #1 Futures Spreads Dynamiccs\n",
    "### FINM 33150 Regression Analysis and Quantitative Trading Strategies\n",
    "#### Winter 2022 | Professor Brian Boonstra\n",
    "_**Due:** Sunday, January 9th, at 11:00pm\\\n",
    "**Name:** Ashley Tsoi (atsoi, Student ID: 12286230)_"
   ]
  },
  {
   "cell_type": "code",
   "execution_count": 1,
   "metadata": {},
   "outputs": [
    {
     "name": "stdout",
     "output_type": "stream",
     "text": [
      "Requirement already satisfied: quandl in c:\\users\\ashle\\appdata\\local\\programs\\python\\python39\\lib\\site-packages (3.7.0)\n",
      "Requirement already satisfied: python-dateutil in c:\\users\\ashle\\appdata\\local\\programs\\python\\python39\\lib\\site-packages (from quandl) (2.8.2)\n",
      "Requirement already satisfied: numpy>=1.8 in c:\\users\\ashle\\appdata\\local\\programs\\python\\python39\\lib\\site-packages (from quandl) (1.21.2)\n",
      "Requirement already satisfied: six in c:\\users\\ashle\\appdata\\local\\programs\\python\\python39\\lib\\site-packages (from quandl) (1.16.0)\n",
      "Requirement already satisfied: more-itertools in c:\\users\\ashle\\appdata\\local\\programs\\python\\python39\\lib\\site-packages (from quandl) (8.12.0)\n",
      "Requirement already satisfied: inflection>=0.3.1 in c:\\users\\ashle\\appdata\\local\\programs\\python\\python39\\lib\\site-packages (from quandl) (0.5.1)\n",
      "Requirement already satisfied: requests>=2.7.0 in c:\\users\\ashle\\appdata\\local\\programs\\python\\python39\\lib\\site-packages (from quandl) (2.27.1)\n",
      "Requirement already satisfied: pandas>=0.14 in c:\\users\\ashle\\appdata\\local\\programs\\python\\python39\\lib\\site-packages (from quandl) (1.3.2)\n",
      "Requirement already satisfied: pytz>=2017.3 in c:\\users\\ashle\\appdata\\local\\programs\\python\\python39\\lib\\site-packages (from pandas>=0.14->quandl) (2021.1)\n",
      "Requirement already satisfied: certifi>=2017.4.17 in c:\\users\\ashle\\appdata\\local\\programs\\python\\python39\\lib\\site-packages (from requests>=2.7.0->quandl) (2021.10.8)\n",
      "Requirement already satisfied: idna<4,>=2.5 in c:\\users\\ashle\\appdata\\local\\programs\\python\\python39\\lib\\site-packages (from requests>=2.7.0->quandl) (3.3)\n",
      "Requirement already satisfied: charset-normalizer~=2.0.0 in c:\\users\\ashle\\appdata\\local\\programs\\python\\python39\\lib\\site-packages (from requests>=2.7.0->quandl) (2.0.10)\n",
      "Requirement already satisfied: urllib3<1.27,>=1.21.1 in c:\\users\\ashle\\appdata\\local\\programs\\python\\python39\\lib\\site-packages (from requests>=2.7.0->quandl) (1.26.8)\n"
     ]
    }
   ],
   "source": [
    "# !pip install quandl"
   ]
  },
  {
   "cell_type": "code",
   "execution_count": 2,
   "metadata": {},
   "outputs": [],
   "source": [
    "# import packages\n",
    "%matplotlib inline\n",
    "from matplotlib import pyplot as plt\n",
    "plt.xkcd()\n",
    "import quandl\n",
    "import pandas as pd\n",
    "import numpy as np\n",
    "import functools"
   ]
  },
  {
   "cell_type": "code",
   "execution_count": null,
   "metadata": {},
   "outputs": [],
   "source": []
  },
  {
   "cell_type": "code",
   "execution_count": null,
   "metadata": {},
   "outputs": [],
   "source": []
  },
  {
   "cell_type": "markdown",
   "metadata": {},
   "source": []
  }
 ],
 "metadata": {
  "interpreter": {
   "hash": "2ff398735b840e154b8cbd654a97af1eda1e82713cbff18c7e563bf43d4f2a36"
  },
  "kernelspec": {
   "display_name": "Python 3.9.7 64-bit",
   "language": "python",
   "name": "python3"
  },
  "language_info": {
   "codemirror_mode": {
    "name": "ipython",
    "version": 3
   },
   "file_extension": ".py",
   "mimetype": "text/x-python",
   "name": "python",
   "nbconvert_exporter": "python",
   "pygments_lexer": "ipython3",
   "version": "3.9.7"
  },
  "orig_nbformat": 4
 },
 "nbformat": 4,
 "nbformat_minor": 2
}
