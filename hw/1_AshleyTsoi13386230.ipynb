{
 "cells": [
  {
   "cell_type": "markdown",
   "metadata": {},
   "source": [
    "## HW #1 Futures Spreads Dynamiccs\n",
    "### FINM 33150 Regression Analysis and Quantitative Trading Strategies\n",
    "#### Winter 2022 | Professor Brian Boonstra\n",
    "_**Due:** Sunday, January 9th, at 11:00pm\\\n",
    "**Name:** Ashley Tsoi (atsoi, Student ID: 12286230)_"
   ]
  },
  {
   "cell_type": "code",
   "execution_count": 7,
   "metadata": {},
   "outputs": [
    {
     "name": "stdout",
     "output_type": "stream",
     "text": [
      "Collecting plotnine\n",
      "  Downloading plotnine-0.8.0-py3-none-any.whl (4.7 MB)\n",
      "Requirement already satisfied: matplotlib>=3.1.1 in c:\\users\\ashle\\appdata\\local\\programs\\python\\python39\\lib\\site-packages (from plotnine) (3.4.3)\n",
      "Collecting mizani>=0.7.3\n",
      "  Downloading mizani-0.7.3-py3-none-any.whl (63 kB)\n",
      "Requirement already satisfied: patsy>=0.5.1 in c:\\users\\ashle\\appdata\\local\\programs\\python\\python39\\lib\\site-packages (from plotnine) (0.5.2)\n",
      "Requirement already satisfied: pandas>=1.1.0 in c:\\users\\ashle\\appdata\\local\\programs\\python\\python39\\lib\\site-packages (from plotnine) (1.3.2)\n",
      "Requirement already satisfied: numpy>=1.19.0 in c:\\users\\ashle\\appdata\\local\\programs\\python\\python39\\lib\\site-packages (from plotnine) (1.21.2)\n",
      "Requirement already satisfied: scipy>=1.5.0 in c:\\users\\ashle\\appdata\\local\\programs\\python\\python39\\lib\\site-packages (from plotnine) (1.7.1)\n",
      "Requirement already satisfied: statsmodels>=0.12.1 in c:\\users\\ashle\\appdata\\local\\programs\\python\\python39\\lib\\site-packages (from plotnine) (0.13.0)\n",
      "Collecting descartes>=1.1.0\n",
      "  Downloading descartes-1.1.0-py3-none-any.whl (5.8 kB)\n",
      "Requirement already satisfied: pillow>=6.2.0 in c:\\users\\ashle\\appdata\\local\\programs\\python\\python39\\lib\\site-packages (from matplotlib>=3.1.1->plotnine) (8.3.2)\n",
      "Requirement already satisfied: pyparsing>=2.2.1 in c:\\users\\ashle\\appdata\\local\\programs\\python\\python39\\lib\\site-packages (from matplotlib>=3.1.1->plotnine) (2.4.7)\n",
      "Requirement already satisfied: cycler>=0.10 in c:\\users\\ashle\\appdata\\local\\programs\\python\\python39\\lib\\site-packages (from matplotlib>=3.1.1->plotnine) (0.10.0)\n",
      "Requirement already satisfied: kiwisolver>=1.0.1 in c:\\users\\ashle\\appdata\\local\\programs\\python\\python39\\lib\\site-packages (from matplotlib>=3.1.1->plotnine) (1.3.2)\n",
      "Requirement already satisfied: python-dateutil>=2.7 in c:\\users\\ashle\\appdata\\local\\programs\\python\\python39\\lib\\site-packages (from matplotlib>=3.1.1->plotnine) (2.8.2)\n",
      "Collecting palettable\n",
      "  Downloading palettable-3.3.0-py2.py3-none-any.whl (111 kB)\n",
      "Requirement already satisfied: pytz>=2017.3 in c:\\users\\ashle\\appdata\\local\\programs\\python\\python39\\lib\\site-packages (from pandas>=1.1.0->plotnine) (2021.1)\n",
      "Requirement already satisfied: six in c:\\users\\ashle\\appdata\\local\\programs\\python\\python39\\lib\\site-packages (from patsy>=0.5.1->plotnine) (1.16.0)\n",
      "Installing collected packages: palettable, mizani, descartes, plotnine\n",
      "Successfully installed descartes-1.1.0 mizani-0.7.3 palettable-3.3.0 plotnine-0.8.0\n"
     ]
    }
   ],
   "source": [
    "# !pip install quandl\n",
    "# !pip install plotnine"
   ]
  },
  {
   "cell_type": "code",
   "execution_count": 6,
   "metadata": {},
   "outputs": [],
   "source": [
    "# import packages\n",
    "import quandl\n",
    "import pandas as pd\n",
    "import numpy as np\n",
    "import functools\n",
    "\n",
    "# let plot display in the notebook instead of in a different window\n",
    "%matplotlib inline \n",
    "from matplotlib import pyplot as plt\n",
    "plt.xkcd()\n",
    "import seaborn as sns\n",
    "import plotnine as p9"
   ]
  },
  {
   "cell_type": "code",
   "execution_count": null,
   "metadata": {},
   "outputs": [],
   "source": [
    "try:\n",
    "    # Do not recreate if it already exists\n",
    "    fetch_quandl\n",
    "    print(\"fetch_quandl already defined\")\n",
    "except NameError:\n",
    "    @functools.lru_cache(maxsize=16)\n",
    "    def fetch_quandl(my_securities):\n",
    "        print(\"Fetching from Quandl\")\n",
    "        qdata = quandl.get(list(my_securities), returns=\"pandas\",\n",
    "                          api_key=BrianBoonstraPrivateKeys['Quandl'],\n",
    "                          start_date='1985-01-02', end_date='2018-03-02')\n",
    "        return qdata\n",
    "    print(\"fetch_quandl has now been newly defined\")"
   ]
  },
  {
   "cell_type": "code",
   "execution_count": null,
   "metadata": {},
   "outputs": [],
   "source": [
    "raw_data = fetch_quandl(('WIKI/XOM', \"NSE/OIL\"))"
   ]
  },
  {
   "cell_type": "markdown",
   "metadata": {},
   "source": []
  }
 ],
 "metadata": {
  "interpreter": {
   "hash": "2ff398735b840e154b8cbd654a97af1eda1e82713cbff18c7e563bf43d4f2a36"
  },
  "kernelspec": {
   "display_name": "Python 3.9.7 64-bit",
   "language": "python",
   "name": "python3"
  },
  "language_info": {
   "codemirror_mode": {
    "name": "ipython",
    "version": 3
   },
   "file_extension": ".py",
   "mimetype": "text/x-python",
   "name": "python",
   "nbconvert_exporter": "python",
   "pygments_lexer": "ipython3",
   "version": "3.9.7"
  },
  "orig_nbformat": 4
 },
 "nbformat": 4,
 "nbformat_minor": 2
}
