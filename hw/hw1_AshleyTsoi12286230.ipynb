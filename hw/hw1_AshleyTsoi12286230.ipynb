{
 "cells": [
  {
   "cell_type": "markdown",
   "metadata": {},
   "source": [
    "# HW #1 Futures Spreads Dynamiccs\n",
    "[FINM 33150] Regression Analysis and Quantitative Trading Strategies\\\n",
    "Winter 2022 | Professor Brian Boonstra\n",
    "\n",
    "_**Due:** Sunday, January 16th, at 11:00pm\\\n",
    "**Name:** Ashley Tsoi (atsoi, Student ID: 12286230)_"
   ]
  },
  {
   "cell_type": "markdown",
   "metadata": {},
   "source": [
    "### 1. Fetch and clean data"
   ]
  },
  {
   "cell_type": "markdown",
   "metadata": {},
   "source": [
    "#### 1-1. Install these packages for the first time"
   ]
  },
  {
   "cell_type": "code",
   "execution_count": 1,
   "metadata": {},
   "outputs": [],
   "source": [
    "# !pip install quandl\n",
    "# !pip install plotnine"
   ]
  },
  {
   "cell_type": "markdown",
   "metadata": {},
   "source": [
    "#### 1-2. Import packages"
   ]
  },
  {
   "cell_type": "code",
   "execution_count": 2,
   "metadata": {},
   "outputs": [],
   "source": [
    "import quandl\n",
    "import json\n",
    "import pandas as pd\n",
    "import numpy as np\n",
    "import datetime as dt\n",
    "import functools\n",
    "\n",
    "# let plot display in the notebook instead of in a different window\n",
    "%matplotlib inline \n",
    "from matplotlib import pyplot as plt\n",
    "plt.xkcd()\n",
    "import seaborn as sns\n",
    "import plotnine as p9"
   ]
  },
  {
   "cell_type": "markdown",
   "metadata": {},
   "source": [
    "#### 1-3. Define the functions to fetch data from Quandl"
   ]
  },
  {
   "cell_type": "markdown",
   "metadata": {},
   "source": [
    "**1-3-1. Get my personal keys** from ../data/APIs.json"
   ]
  },
  {
   "cell_type": "code",
   "execution_count": 3,
   "metadata": {},
   "outputs": [],
   "source": [
    "f = open('../data/APIs.json')\n",
    "APIs = json.load(f)\n",
    "f.close()"
   ]
  },
  {
   "cell_type": "markdown",
   "metadata": {},
   "source": [
    "**1-3-2. Define helper function** to validate date format"
   ]
  },
  {
   "cell_type": "code",
   "execution_count": 4,
   "metadata": {},
   "outputs": [],
   "source": [
    "def assertCorrectDateFormat(date_text):\n",
    "    try:\n",
    "        dt.datetime.strptime(date_text, '%Y-%m-%d')\n",
    "    except ValueError:\n",
    "        raise ValueError(\"Incorrect date format, should be YYYY-MM-DD\")"
   ]
  },
  {
   "cell_type": "markdown",
   "metadata": {},
   "source": [
    "**1-3-3. Define function** to retrieve raw data from Quandl\n",
    "\n",
    "**Documentation:**\n",
    "```\n",
    "https://data.nasdaq.com/data/OWF-optionworks-futures-options/documentation\n",
    "```"
   ]
  },
  {
   "cell_type": "code",
   "execution_count": 5,
   "metadata": {},
   "outputs": [],
   "source": [
    "# Define function that retrieves data from Quandl\n",
    "def getQuandlData(secs,start_date,end_date,column_index=False):\n",
    "    # Get data fom Quandl using quandl.get\n",
    "    # NOTE: missing data for the inputted date will return NaN rows.\n",
    "\n",
    "    # INPUT         | DATA TYPE                 | DESCRIPTION\n",
    "    # secs          | string / tuple of string  | security name(s)\n",
    "    # start_date    | string (YYYY-MM-DD)       | start date of data\n",
    "    # end_date      | string (YYYY-MM-DD)       | end date of data (same as or after start_date)\n",
    "    # column_index  | False / string (int)      | index of a single column; False means select all columns\n",
    "\n",
    "    # Input validation\n",
    "    assertCorrectDateFormat(start_date)\n",
    "    assertCorrectDateFormat(end_date)\n",
    "    assert end_date >= start_date\n",
    "    \n",
    "    if type(secs) is tuple: secs=list(secs)\n",
    "    # Retrieve data using quandl.get\n",
    "    if column_index: # if only select one column\n",
    "        data = quandl.get(secs, returns=\"pandas\",\n",
    "                          api_key=APIs['Quandl'],\n",
    "                          column_index=column_index,\n",
    "                          start_date=start_date, end_date=end_date)\n",
    "    else:\n",
    "        data = quandl.get(secs, returns=\"pandas\",\n",
    "                          api_key=APIs['Quandl'],\n",
    "                          start_date=start_date, end_date=end_date)\n",
    "\n",
    "    return data"
   ]
  },
  {
   "cell_type": "markdown",
   "metadata": {},
   "source": [
    "**1-3-4. Define functions** to get cleaned, second month quarterly futures prices\n",
    "\n",
    "1. Select the rows needed (i.e. lowest \"DtT\" that is greater than 30)\n",
    "2. Select the columns needed (i.e. column names that end with \" - Future\")\n",
    "3. Rename the column to the security name\n",
    "4. Forward-fill `NaN` values"
   ]
  },
  {
   "cell_type": "code",
   "execution_count": 6,
   "metadata": {},
   "outputs": [],
   "source": [
    "@functools.lru_cache(maxsize=16) # Cache the function output\n",
    "def _getOneSecondMonthQFuturesPrice(security,start_date,end_date):\n",
    "    # For 1 future, return its second month quarterly prices from Quandl (Pandas Series)\n",
    "    # Rows: security with minimum DtT (Date to Termination) that is greater than 30\n",
    "    \n",
    "    quarterly_codes = \"HMUZ\" # H: March, M: June, U: September, Z: December\n",
    "    year_range = [str(y) for y in range(int(start_date[:4]), int(end_date[:4])+1)] # get all years between start_date and end_date\n",
    "    \n",
    "    # construct all security codes for the quarter / year combination\n",
    "    quarterly_secs = []\n",
    "    for qc in quarterly_codes:\n",
    "        for year in year_range:\n",
    "            quarterly_secs.append(\"OWF/\" + security + \"_\" +qc + year + \"_IVM\")\n",
    "    \n",
    "    print('Retriving Quandl data for securities: \\n',quarterly_secs)\n",
    "    \n",
    "    # for all security codes, find their data\n",
    "    data = []\n",
    "    for s in quarterly_secs:\n",
    "        prices = getQuandlData(s,start_date,end_date,'1')\n",
    "        DtT = getQuandlData(s,start_date,end_date,'16') # need \"DtT\" column to do row selection\n",
    "\n",
    "        secData = pd.concat([prices,DtT], axis=1)\n",
    "        secData = secData.loc[secData[\"DtT\"] > 30] # select the rows where DtT is greater than 30\n",
    "        secData.reset_index(level=0, inplace=True) # make \"Date\" index into a column\n",
    "        data.append(secData)\n",
    "    \n",
    "    data = pd.concat(data).reset_index(drop=True)\n",
    "\n",
    "    # select 1 row per date with min DtT \n",
    "    data = data.loc[data.groupby(\"Date\").DtT.idxmin()]\n",
    "\n",
    "    # make \"Date\" the index again and rename column to the security name (as inputted)\n",
    "    data.set_index('Date', inplace=True)\n",
    "    data.rename(columns={'Future': security}, inplace=True)\n",
    "    data.fillna(method='ffill', inplace=True) # forward-fill NaN data\n",
    "\n",
    "    return data[security]\n"
   ]
  },
  {
   "cell_type": "markdown",
   "metadata": {},
   "source": [
    "**1-3-5. Define functions** to make spreads from a pair of securities"
   ]
  },
  {
   "cell_type": "code",
   "execution_count": 7,
   "metadata": {},
   "outputs": [],
   "source": [
    "def getSpread(sec1,sec2,start_date,end_date,multiplier=1):\n",
    "    # Return spreads: sec2*multiplier - sec1\n",
    "    sec1Prices = _getOneSecondMonthQFuturesPrice(sec1,start_date,end_date)\n",
    "    sec2Prices = _getOneSecondMonthQFuturesPrice(sec2,start_date,end_date)\n",
    "\n",
    "    return pd.DataFrame((sec2Prices*multiplier)-sec1Prices).rename(columns={0:sec1+' | '+sec2})"
   ]
  },
  {
   "cell_type": "markdown",
   "metadata": {},
   "source": [
    "#### 1-4. Fetch Cleaned Spread Data Using Functions Above\n",
    "\n",
    "Last 2 unique digits of my student ID: 3, 0\n",
    "\n",
    "**Securities:**\n",
    "```\n",
    "3: ICE_T_T ICE_G_G 0.1342281879194631 (1/7.45)\n",
    "0: ICE_B_B ICE_G_G 0.1342281879194631 (1/7.45)\n",
    "```\n",
    "\n",
    "**Securities Description:**\n",
    "```\n",
    "ICE_T_T - WTI Crude Oil\n",
    "ICE_G_G - \n",
    "ICE_B_B - Brent Crude Oil\n",
    "```\n",
    "\n",
    "**Dates:**\n",
    "```\n",
    "December 3, 2019 - August 31, 2021\n",
    "```"
   ]
  },
  {
   "cell_type": "code",
   "execution_count": 8,
   "metadata": {},
   "outputs": [
    {
     "name": "stdout",
     "output_type": "stream",
     "text": [
      "Retriving Quandl data for securities: \n",
      " ['OWF/ICE_T_T_H2019_IVM', 'OWF/ICE_T_T_H2020_IVM', 'OWF/ICE_T_T_H2021_IVM', 'OWF/ICE_T_T_M2019_IVM', 'OWF/ICE_T_T_M2020_IVM', 'OWF/ICE_T_T_M2021_IVM', 'OWF/ICE_T_T_U2019_IVM', 'OWF/ICE_T_T_U2020_IVM', 'OWF/ICE_T_T_U2021_IVM', 'OWF/ICE_T_T_Z2019_IVM', 'OWF/ICE_T_T_Z2020_IVM', 'OWF/ICE_T_T_Z2021_IVM']\n",
      "Retriving Quandl data for securities: \n",
      " ['OWF/ICE_G_G_H2019_IVM', 'OWF/ICE_G_G_H2020_IVM', 'OWF/ICE_G_G_H2021_IVM', 'OWF/ICE_G_G_M2019_IVM', 'OWF/ICE_G_G_M2020_IVM', 'OWF/ICE_G_G_M2021_IVM', 'OWF/ICE_G_G_U2019_IVM', 'OWF/ICE_G_G_U2020_IVM', 'OWF/ICE_G_G_U2021_IVM', 'OWF/ICE_G_G_Z2019_IVM', 'OWF/ICE_G_G_Z2020_IVM', 'OWF/ICE_G_G_Z2021_IVM']\n",
      "Retriving Quandl data for securities: \n",
      " ['OWF/ICE_B_B_H2019_IVM', 'OWF/ICE_B_B_H2020_IVM', 'OWF/ICE_B_B_H2021_IVM', 'OWF/ICE_B_B_M2019_IVM', 'OWF/ICE_B_B_M2020_IVM', 'OWF/ICE_B_B_M2021_IVM', 'OWF/ICE_B_B_U2019_IVM', 'OWF/ICE_B_B_U2020_IVM', 'OWF/ICE_B_B_U2021_IVM', 'OWF/ICE_B_B_Z2019_IVM', 'OWF/ICE_B_B_Z2020_IVM', 'OWF/ICE_B_B_Z2021_IVM']\n"
     ]
    }
   ],
   "source": [
    "spread_3 = getSpread('ICE_T_T','ICE_G_G','2019-12-03','2021-08-31',multiplier=1/7.45)\n",
    "spread_0 = getSpread('ICE_B_B','ICE_G_G','2019-12-03','2021-08-31',multiplier=1/7.45)"
   ]
  },
  {
   "cell_type": "markdown",
   "metadata": {},
   "source": [
    "#### 1-5. Clean data\n",
    "\n",
    "**1-5-1. Clean raw data**\n",
    "1. Select the rows needed (i.e. lowest \"DtT\" that is greater than 30)\n",
    "2. Select the columns needed (i.e. column names that end with \" - Future\")\n",
    "3. Apply the (1/7.45) multiplier to `ICE_G_G`\n",
    "4. Forward-fill `NaN` values"
   ]
  },
  {
   "cell_type": "code",
   "execution_count": null,
   "metadata": {},
   "outputs": [],
   "source": []
  },
  {
   "cell_type": "markdown",
   "metadata": {},
   "source": [
    "**1-5-2. Make pairs and calculate spreads**"
   ]
  },
  {
   "cell_type": "code",
   "execution_count": null,
   "metadata": {},
   "outputs": [],
   "source": [
    "# Pair 3:\n",
    "pair3 = \n",
    "raw_data.head()\n",
    "\n",
    "# Pair 0:"
   ]
  },
  {
   "cell_type": "markdown",
   "metadata": {},
   "source": [
    "### 2. Analysis\n",
    "#### 2-1. Characterize the relative dynamics of $s^{(i)}_t$ in reasonable ways, using charts and statistics."
   ]
  },
  {
   "cell_type": "code",
   "execution_count": null,
   "metadata": {},
   "outputs": [],
   "source": []
  },
  {
   "cell_type": "markdown",
   "metadata": {},
   "source": [
    "#### 2-2. Examine more quantiles than just the median. Look at tails. \n",
    "Do the spreads correlate? How about their difference $(d)$ values? Do spreads exhibit patterns over time?"
   ]
  },
  {
   "cell_type": "code",
   "execution_count": null,
   "metadata": {},
   "outputs": [],
   "source": []
  },
  {
   "cell_type": "markdown",
   "metadata": {},
   "source": []
  },
  {
   "cell_type": "code",
   "execution_count": null,
   "metadata": {},
   "outputs": [],
   "source": []
  }
 ],
 "metadata": {
  "interpreter": {
   "hash": "2ff398735b840e154b8cbd654a97af1eda1e82713cbff18c7e563bf43d4f2a36"
  },
  "kernelspec": {
   "display_name": "Python 3.9.7 64-bit",
   "language": "python",
   "name": "python3"
  },
  "language_info": {
   "codemirror_mode": {
    "name": "ipython",
    "version": 3
   },
   "file_extension": ".py",
   "mimetype": "text/x-python",
   "name": "python",
   "nbconvert_exporter": "python",
   "pygments_lexer": "ipython3",
   "version": "3.9.7"
  },
  "orig_nbformat": 4
 },
 "nbformat": 4,
 "nbformat_minor": 2
}
