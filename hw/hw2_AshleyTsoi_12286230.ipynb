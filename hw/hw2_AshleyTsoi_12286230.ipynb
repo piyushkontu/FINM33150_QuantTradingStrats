{
 "cells": [
  {
   "cell_type": "markdown",
   "metadata": {},
   "source": [
    "# HW #2 Simple Spread Trading\n",
    "[FINM 33150] Regression Analysis and Quantitative Trading Strategies\\\n",
    "Winter 2022 | Professor Brian Boonstra\n",
    "\n",
    "_**Due:** Thursday, January 27th, at 11:00pm\\\n",
    "**Name:** Ashley Tsoi (atsoi, Student ID: 12286230)_"
   ]
  },
  {
   "cell_type": "markdown",
   "metadata": {},
   "source": [
    "### 1. Fetch and clean data"
   ]
  },
  {
   "cell_type": "markdown",
   "metadata": {},
   "source": [
    "#### 1-1. Import packages"
   ]
  },
  {
   "cell_type": "code",
   "execution_count": 1,
   "metadata": {},
   "outputs": [],
   "source": [
    "import quandl\n",
    "import json\n",
    "import pandas as pd\n",
    "pd.set_option(\"display.precision\", 4)\n",
    "pd.set_option('display.float_format', lambda x: '%.4f' % x)\n",
    "from pandas.core.common import SettingWithCopyWarning\n",
    "import warnings\n",
    "warnings.simplefilter(action=\"ignore\", category=SettingWithCopyWarning)\n",
    "\n",
    "import math\n",
    "import numpy as np\n",
    "import datetime as dt\n",
    "import functools\n",
    "\n",
    "# let plot display in the notebook instead of in a different window\n",
    "%matplotlib inline \n",
    "from matplotlib import pyplot as plt\n",
    "plt.rcParams['figure.figsize'] = [21, 8]"
   ]
  },
  {
   "cell_type": "markdown",
   "metadata": {},
   "source": [
    "#### 1-2. Define the functions to fetch data from Quandl"
   ]
  },
  {
   "cell_type": "markdown",
   "metadata": {},
   "source": [
    "**1-2-1. Get my personal keys** from ../data/APIs.json"
   ]
  },
  {
   "cell_type": "code",
   "execution_count": 2,
   "metadata": {},
   "outputs": [],
   "source": [
    "f = open('../data/APIs.json')\n",
    "APIs = json.load(f)\n",
    "f.close()"
   ]
  },
  {
   "cell_type": "markdown",
   "metadata": {},
   "source": [
    "**1-2-2. Define date-format helper function**"
   ]
  },
  {
   "cell_type": "code",
   "execution_count": 3,
   "metadata": {},
   "outputs": [],
   "source": [
    "def assertCorrectDateFormat(date_text):\n",
    "    try:\n",
    "        dt.datetime.strptime(date_text, '%Y-%m-%d')\n",
    "    except ValueError:\n",
    "        raise ValueError(\"Incorrect date format, should be YYYY-MM-DD\")"
   ]
  },
  {
   "cell_type": "markdown",
   "metadata": {},
   "source": [
    "**1-2-3. Define function** to retrieve raw data from Quandl\n",
    "\n",
    "**Documentation:**\n",
    "```\n",
    "https://data.nasdaq.com/databases/EOD/usage/quickstart/python\n",
    "```"
   ]
  },
  {
   "cell_type": "code",
   "execution_count": 4,
   "metadata": {},
   "outputs": [],
   "source": [
    "# Define function that retrieves data from Quandl\n",
    "def getQuandlEODData(secs,start_date,end_date):\n",
    "    # Get one security (sec)'s data fom Quandl using quandl.get_table\n",
    "    # NOTE: missing data for the inputted date will NOT return a row.\n",
    "\n",
    "    # INPUT         | DATA TYPE                 | DESCRIPTION\n",
    "    # sec           | string / list of string   | security name(s)\n",
    "    # start_date    | string (YYYY-MM-DD)       | start date of data\n",
    "    # end_date      | string (YYYY-MM-DD)       | end date of data (same as or after start_date)\n",
    "    \n",
    "    print(\"Quandl | START | Retriving Quandl data for securities: \\n\",secs)\n",
    "    \n",
    "    # Retrieve data using quandl.get_table\n",
    "    quandl.ApiConfig.api_key = APIs['Quandl']\n",
    "    data = quandl.get_table('QUOTEMEDIA/PRICES',\n",
    "                            ticker = secs, \n",
    "                            date = {'gte':start_date, 'lte':end_date})\n",
    "\n",
    "    print(\"Quandl | DONE  | Returning {:d} dates of data for {}.\\n\".format(len(data),secs))\n",
    "    return data\n",
    "    \n",
    "@functools.lru_cache(maxsize=16) # Cache the function output\n",
    "def getSpreadData(secs,start_date,end_date,N_window=15):\n",
    "\n",
    "    # Input validation\n",
    "    assert len(secs)==2 # secs must be a pair to calculate spread\n",
    "    assertCorrectDateFormat(start_date)\n",
    "    assertCorrectDateFormat(end_date)\n",
    "    assert end_date >= start_date\n",
    "\n",
    "    # Get Quandl Data\n",
    "    if isinstance(secs, tuple): secs=list((secs))\n",
    "    data = pd.DataFrame()\n",
    "    for sec in secs:\n",
    "        quandlData = getQuandlEODData(sec,start_date,end_date)[['date','adj_close','adj_volume']].set_index('date').sort_index(ascending=True)\n",
    "        data[sec+'_adj_close'] = quandlData['adj_close']\n",
    "        data[sec+'_N_t'] = (quandlData['adj_close']*quandlData['adj_volume']).rolling(N_window).median()\n",
    "\n",
    "    ff = pd.read_csv('../data/F-F_Research_Data_Factors_daily.CSV').rename(columns={'Unnamed: 0':'date'})\n",
    "    ff['date'] = ff['date'].apply(lambda x: pd.to_datetime(str(x), format='%Y%m%d'))\n",
    "    ff = ff.set_index('date')[start_date:end_date]\n",
    "    \n",
    "    return pd.concat([data,ff],axis=1)"
   ]
  },
  {
   "cell_type": "markdown",
   "metadata": {},
   "source": [
    "#### 1-3. Fetch cleaned spread data using functions above\n",
    "\n",
    "Last 2 unique digits of my student ID: 3, 0\n",
    "\n",
    "**Securities:**\n",
    "```\n",
    "Pair #0: FCOM VOX\n",
    "```\n",
    "\n",
    "**Securities Description:**\n",
    "```\n",
    "FCOM - Fidelity MSCI Communication Services Index ETF\n",
    "VOX - Vanguard Communication Services ETF\n",
    "```\n",
    "\n",
    "**Dates:**\n",
    "```\n",
    "December 2, 2019 - December 31, 2021\n",
    "```"
   ]
  },
  {
   "cell_type": "code",
   "execution_count": 5,
   "metadata": {},
   "outputs": [],
   "source": [
    "# # test out the function \"getSpreadData\"\n",
    "# secs,start_date,end_date = (\"FCOM\",\"VOX\"),\"2019-12-02\",\"2021-12-31\"\n",
    "# df = getSpreadData(secs,start_date,end_date)\n",
    "# df[15:25]"
   ]
  },
  {
   "cell_type": "code",
   "execution_count": 6,
   "metadata": {},
   "outputs": [],
   "source": [
    "\n",
    "def spreadTradeSimulation(secs,start_date,end_date,N_window=15,M=10,j=0.05,g=0.1,s=1,K=None):\n",
    "    \n",
    "    print(\"========================================\")\n",
    "    \n",
    "    assert j<g\n",
    "    assert j>=0 # both j and g have to be positive\n",
    "    assert s<0\n",
    "    \n",
    "    spread = getSpreadData(secs,start_date,end_date,N_window).dropna()\n",
    "    \n",
    "    if K==None:\n",
    "        # set K to the maximum of N_t over the data period, times two\n",
    "        N_t_cols = spread.columns[spread.columns.str.endswith('_N_t')]\n",
    "        K = int(2*max(spread[N_t_cols].max()))+1\n",
    "    \n",
    "    print(\"trade  | START | K (initial capital)={}, M={}, j={}, g={}, s={}.\\n\".format(K,M,j,g,s))\n",
    "    tradeSim = spread[spread.columns[spread.columns.str.endswith('_adj_close')]] # initalize trade simulation table # initalize trade simulation table\n",
    "    \n",
    "    for sec in secs:\n",
    "        tradeSim[sec+'_M_day_cumret'] = (tradeSim[sec+'_adj_close'].pct_change()+1).rolling(M).apply(np.prod,raw=True)-1\n",
    "\n",
    "    tradeSim['cumret_spread'] = tradeSim[secs[0]+'_M_day_cumret']-tradeSim[secs[1]+'_M_day_cumret']\n",
    "    print(\"trade  |       | Trading on M-day cumulative return spread (X-Y) for X={}, Y={}.\\n\".format(secs[0],secs[1]))\n",
    "    \n",
    "    tradeSim = tradeSim[max(N_window,M):] # remove the NaN rows\n",
    "    print(\"trade  |       | Trade period: {:d} - {:d}.\\n\".format(tradeSim.index[0],tradeSim.index[-1]))\n",
    "\n",
    "    tradeSim['quantity'] = [int(min(row[secs[0]+'_N_t'],row[secs[1]+'_N_t'])/100) for i,row in spread[max(N_window,M):].iterrows()]\n",
    "\n",
    "    months = tradeSim.index.to_period('M')\n",
    "    endOfMonths = tradeSim.index[[months[n]!=months[n+1] for n in range(len(months)-1)]+[True]] # set last period to \"True\" as well to close out position\n",
    "\n",
    "    # Initiate columns\n",
    "    positions, prev_position = [0] , 0\n",
    "    signals = [0]\n",
    "    position_quantities = [0]\n",
    "    secX_position_values, secY_position_values = [0], [0]\n",
    "    position_values = [0]\n",
    "    K_balances = [K]\n",
    "    total_values = [K]\n",
    "    gross_cash = 0\n",
    "    stop_loss_limits, stop_loss_triggers = [], []\n",
    "    PnL_daily_list, PnL_cumulative_list = [], []\n",
    "    for i,row in tradeSim.iterrows(): # current columns: adj_close for both securities, spread, quantities to buy\n",
    "\n",
    "        # Signals and positions ()\n",
    "        if i in endOfMonths:\n",
    "            position = 0\n",
    "        \n",
    "        else:\n",
    "            currRetSpread = row['cumret_spread']\n",
    "            dir = 1 if (currRetSpread>=0) else -1\n",
    "            size = dir*currRetSpread # the return spread in absolute terms\n",
    "\n",
    "            if size>g:\n",
    "                position = -1*dir\n",
    "            elif size<j: # around 0\n",
    "                position = 0\n",
    "            else: # in between j and g\n",
    "                position = prev_position if ((prev_position!=dir) and (prev_position!=0)) else 0 # follow the previous position if the side is the same\n",
    "          \n",
    "        signal = int(position-prev_position) # buy/sell signal = change of position\n",
    "\n",
    "        # Calculate present position value (but don't append to list yet since it may hit stop-loss limit)\n",
    "        if signal: # if there's a new signal\n",
    "            position_quantity = position*row['quantity'] # quantity = new position's quantity\n",
    "\n",
    "        else: # if no signal, position quantity = previous position quantity (unless stop-loss limit is triggered later)\n",
    "            position_quantity = position_quantities[-1]\n",
    "\n",
    "        # Security buy amounts (but don't append to list yet since it may hit stop-loss limit)\n",
    "        secX_position_value = position_quantity*row[secs[0]+'_adj_close']\n",
    "        secY_position_value = -1*position_quantity*row[secs[1]+'_adj_close']\n",
    "        position_value = secX_position_value + secY_position_value\n",
    "        \n",
    "        # Cash balances and total values (if doesn't hit stop-loss limit)\n",
    "        K_balance = K_balances[-1] - position_value\n",
    "        total_value = position_value + K_balance\n",
    "        total_value_delta = total_value-total_values[-1]\n",
    "\n",
    "        # Stop loss\n",
    "        if signal: # update gross_cash if entering a new position \n",
    "            if position: \n",
    "                gross_cash = abs(secX_position_value) + abs(secY_position_value)\n",
    "            else:\n",
    "                gross_cash = 0 # reset gross_cash back to 0 if a position is exited/covered\n",
    "\n",
    "        stop_loss_limit = s*gross_cash if gross_cash!=0 else math.nan\n",
    "        stop_loss_trigger = total_value_delta < stop_loss_limit\n",
    "        \n",
    "        if stop_loss_trigger: \n",
    "            # \"undo\" the transaction\n",
    "            position = 0 # change position to 0\n",
    "            signal = int(0-positions[-1])\n",
    "            \n",
    "            position_quantity, position_value = 0, 0\n",
    "            secX_position_value, secY_position_value = 0, 0\n",
    "\n",
    "            K_balance = K_balances[-1]\n",
    "            total_value = K_balance\n",
    "\n",
    "        # PnLs (daily and cumulative)\n",
    "        PnL_daily = total_value_delta/total_values[-1]\n",
    "        PnL_cumulative = total_value/K - 1\n",
    "\n",
    "        # update prev_position for next calculation\n",
    "        prev_position = position\n",
    "        \n",
    "        # Append new variables into lists\n",
    "        positions.append(position)\n",
    "        signals.append(signal)\n",
    "        position_quantities.append(position_quantity)\n",
    "        secX_position_values.append(secX_position_value)\n",
    "        secY_position_values.append(secY_position_value)\n",
    "        position_values.append(position_value)\n",
    "        K_balances.append(K_balance)\n",
    "        total_values.append(total_value)\n",
    "        stop_loss_limits.append(stop_loss_limit)\n",
    "        stop_loss_triggers.append(stop_loss_trigger)\n",
    "        PnL_daily_list.append(PnL_daily)\n",
    "        PnL_cumulative_list.append(PnL_cumulative)\n",
    "\n",
    "    # Save the data in tradeSim table\n",
    "    tradeSim['signal'] = signals[1:]\n",
    "    tradeSim['position'] = positions[1:]\n",
    "    tradeSim['position_quantity'] = position_quantities[1:]\n",
    "    tradeSim[secs[0]+'_position_value'] = secX_position_values[1:]\n",
    "    tradeSim[secs[1]+'_position_value'] = secY_position_values[1:]\n",
    "    tradeSim['position_value'] = position_values[1:]\n",
    "    tradeSim['K='+str(K)] = K_balances[1:]\n",
    "    tradeSim['total_value'] = total_values[1:]\n",
    "    tradeSim['stop_loss_limit'] = stop_loss_limits\n",
    "    tradeSim['stop_loss_trigger'] = stop_loss_triggers\n",
    "    tradeSim['PnL_daily'] = PnL_daily_list\n",
    "    tradeSim['PnL_cumulative'] = PnL_cumulative_list\n",
    "    \n",
    "    print(\"trade  | DONE  | \\n\")\n",
    "\n",
    "    print(\"plot   |       | \")\n",
    "\n",
    "    tp = plt\n",
    "\n",
    "    tp.title('Cumulative Return Spread and Trades')\n",
    "\n",
    "    tp.plot(tradeSim['cumret_spread'], label='cumulative return spread')\n",
    "    \n",
    "    tp.plot(tradeSim['cumret_spread'][tradeSim['signal']>1], color='green', marker='o', markersize=6, linestyle='none')\n",
    "    tp.plot(tradeSim['cumret_spread'][tradeSim['signal']==1], color='green', marker='o', markersize=4, linestyle='none', label='buy signal')\n",
    "    tp.plot(tradeSim['cumret_spread'][tradeSim['signal']==-1], color='red', marker='o', markersize=4, linestyle='none', label='sell signal')\n",
    "    tp.plot(tradeSim['cumret_spread'][tradeSim['signal']<-1], color='red', marker='o', markersize=6, linestyle='none')\n",
    "    \n",
    "    tp.plot(tradeSim['cumret_spread'][tradeSim['stop_loss_trigger']], color='blue', marker='o', markersize=6, linestyle='none', label='stop-loss signal')\n",
    "\n",
    "    tp.fill_between(tradeSim.index, j, g, color='grey', alpha=.3, label='j-g band')\n",
    "    tp.fill_between(tradeSim.index, -j, -g, color='grey', alpha=.3)\n",
    "\n",
    "    tp.legend()\n",
    "        \n",
    "    return (tradeSim,tp)"
   ]
  },
  {
   "cell_type": "markdown",
   "metadata": {},
   "source": [
    "Try it with some parameters:"
   ]
  },
  {
   "cell_type": "code",
   "execution_count": null,
   "metadata": {},
   "outputs": [],
   "source": [
    "secs,start_date,end_date = (\"FCOM\",\"VOX\"),\"2019-12-02\",\"2021-12-31\"\n",
    "N_window=15\n",
    "M=10\n",
    "j=0.00005\n",
    "g=0.001\n",
    "s=-0.6\n",
    "\n",
    "t,p = spreadTradeSimulation(secs,start_date,end_date,M=M,j=j,g=g,s=s)\n",
    "t"
   ]
  },
  {
   "cell_type": "markdown",
   "metadata": {},
   "source": [
    "### 2. Analysis\n",
    "#### 2-1. Study the performance of your strategy as you vary $j$, $g$, $s$, and $M$. Include plots.\n",
    "\n",
    "You need not run a fancy nonlinear optimizer, but try to find which parameters work well, and explain how you did it. For one or more of the better settings you find, look into correlations to Fama French factor returns."
   ]
  },
  {
   "cell_type": "markdown",
   "metadata": {},
   "source": [
    "**2-1-1. Performance of various combinations of parameters**\n",
    "\n",
    "The metric for performance would be **cumulative rate of return** over the period.\n",
    "\n",
    "1. Use data to find good ranges for the parameters to try. (Without worrying about look-ahead bias.)\n",
    "   1. `j` & `g` -- use \"cumulative return spread\" (`cumret_spread`) *NOTE: cumulative return may decrease as M increases.\n",
    "   2. `s` -- find joint distribution of `a` and `gross_cash`\n",
    "   3. `M` -- \n",
    "2. Create the combinations of parameters in the range as found above. (Constraint: `0=< j < g <= 1`)\n",
    "3. Run the function `spreadTradeSimulation` on the combinations of parameters."
   ]
  },
  {
   "cell_type": "code",
   "execution_count": null,
   "metadata": {},
   "outputs": [],
   "source": []
  },
  {
   "cell_type": "code",
   "execution_count": null,
   "metadata": {},
   "outputs": [],
   "source": []
  },
  {
   "cell_type": "markdown",
   "metadata": {},
   "source": [
    "**2-1-2. Define analysis functions**"
   ]
  },
  {
   "cell_type": "code",
   "execution_count": null,
   "metadata": {},
   "outputs": [],
   "source": [
    "def getStats(data,annual_factor=1):\n",
    "\n",
    "    data_desc = data.describe().loc[['count','mean', 'max', 'min', 'std']]\n",
    "\n",
    "    data_desc.loc['mean'] = data_desc.loc['mean']*annual_factor\n",
    "    data_desc.loc['vol'] = data_desc.loc['std']*np.sqrt(annual_factor)\n",
    "    data_desc.loc['sharpe_ratio'] = data_desc.loc['mean']/data_desc.loc['vol']\n",
    "\n",
    "    data_desc.loc['skewness'] = data.skew()\n",
    "    data_desc.loc['excess_kurtosis'] = data.kurt()-3\n",
    "    data_desc.loc['VaR05'] = np.quantile(data, .05, axis=0)\n",
    "    data_desc.loc['CVaR05'] = np.mean(data <= data_desc.loc['VaR05'])\n",
    "\n",
    "    return data_desc\n",
    "    "
   ]
  }
 ],
 "metadata": {
  "interpreter": {
   "hash": "2ff398735b840e154b8cbd654a97af1eda1e82713cbff18c7e563bf43d4f2a36"
  },
  "kernelspec": {
   "display_name": "Python 3.9.7 64-bit",
   "language": "python",
   "name": "python3"
  },
  "language_info": {
   "codemirror_mode": {
    "name": "ipython",
    "version": 3
   },
   "file_extension": ".py",
   "mimetype": "text/x-python",
   "name": "python",
   "nbconvert_exporter": "python",
   "pygments_lexer": "ipython3",
   "version": "3.9.7"
  },
  "orig_nbformat": 4
 },
 "nbformat": 4,
 "nbformat_minor": 2
}
