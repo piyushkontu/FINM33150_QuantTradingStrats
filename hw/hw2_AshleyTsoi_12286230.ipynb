{
 "cells": [
  {
   "cell_type": "markdown",
   "metadata": {},
   "source": [
    "# HW #2 Simple Spread Trading\n",
    "[FINM 33150] Regression Analysis and Quantitative Trading Strategies\\\n",
    "Winter 2022 | Professor Brian Boonstra\n",
    "\n",
    "_**Due:** Thursday, January 27th, at 11:00pm\\\n",
    "**Name:** Ashley Tsoi (atsoi, Student ID: 12286230)_"
   ]
  },
  {
   "cell_type": "markdown",
   "metadata": {},
   "source": [
    "### 1. Fetch and clean data"
   ]
  },
  {
   "cell_type": "markdown",
   "metadata": {},
   "source": [
    "#### 1-1. Import packages"
   ]
  },
  {
   "cell_type": "code",
   "execution_count": 33,
   "metadata": {},
   "outputs": [],
   "source": [
    "import quandl\n",
    "import json\n",
    "import pandas as pd\n",
    "pd.set_option(\"display.precision\", 4)\n",
    "from pandas.core.common import SettingWithCopyWarning\n",
    "import warnings\n",
    "warnings.simplefilter(action=\"ignore\", category=SettingWithCopyWarning)\n",
    "\n",
    "import math\n",
    "import numpy as np\n",
    "import datetime as dt\n",
    "import functools\n",
    "\n",
    "# let plot display in the notebook instead of in a different window\n",
    "%matplotlib inline \n",
    "# from matplotlib import pyplot as plt\n",
    "# import seaborn as sns\n",
    "# import plotnine as p9"
   ]
  },
  {
   "cell_type": "markdown",
   "metadata": {},
   "source": [
    "#### 1-2. Define the functions to fetch data from Quandl"
   ]
  },
  {
   "cell_type": "markdown",
   "metadata": {},
   "source": [
    "**1-2-1. Get my personal keys** from ../data/APIs.json"
   ]
  },
  {
   "cell_type": "code",
   "execution_count": 3,
   "metadata": {},
   "outputs": [],
   "source": [
    "f = open('../data/APIs.json')\n",
    "APIs = json.load(f)\n",
    "f.close()"
   ]
  },
  {
   "cell_type": "markdown",
   "metadata": {},
   "source": [
    "**1-2-2. Define date-format helper function**"
   ]
  },
  {
   "cell_type": "code",
   "execution_count": 4,
   "metadata": {},
   "outputs": [],
   "source": [
    "def assertCorrectDateFormat(date_text):\n",
    "    try:\n",
    "        dt.datetime.strptime(date_text, '%Y-%m-%d')\n",
    "    except ValueError:\n",
    "        raise ValueError(\"Incorrect date format, should be YYYY-MM-DD\")\n",
    "\n",
    "# def strDateRngToDates(start_date,end_date):\n",
    "#     d1 = dt.datetime.strptime(start_date, '%Y-%m-%d')\n",
    "#     d2 = dt.datetime.strptime(end_date, '%Y-%m-%d')\n",
    "#     d_diff = d2 - d1   # returns timedelta\n",
    "\n",
    "#     date_range = [str(d1+dt.timedelta(days=i)) for i in range(d_diff.days+1)]\n",
    "#     return ','.join(date_range)\n"
   ]
  },
  {
   "cell_type": "markdown",
   "metadata": {},
   "source": [
    "**1-2-3. Define function** to retrieve raw data from Quandl\n",
    "\n",
    "**Documentation:**\n",
    "```\n",
    "https://data.nasdaq.com/databases/EOD/usage/quickstart/python\n",
    "```"
   ]
  },
  {
   "cell_type": "code",
   "execution_count": 21,
   "metadata": {},
   "outputs": [],
   "source": [
    "# Define function that retrieves data from Quandl\n",
    "def getQuandlEODData(secs,start_date,end_date):\n",
    "    # Get one security (sec)'s data fom Quandl using quandl.get_table\n",
    "    # NOTE: missing data for the inputted date will NOT return a row.\n",
    "\n",
    "    # INPUT         | DATA TYPE                 | DESCRIPTION\n",
    "    # sec           | string / list of string   | security name(s)\n",
    "    # start_date    | string (YYYY-MM-DD)       | start date of data\n",
    "    # end_date      | string (YYYY-MM-DD)       | end date of data (same as or after start_date)\n",
    "    \n",
    "    print(\"Quandl | START | Retriving Quandl data for securities: \\n\",secs)\n",
    "    \n",
    "    # Retrieve data using quandl.get_table\n",
    "    quandl.ApiConfig.api_key = APIs['Quandl']\n",
    "    data = quandl.get_table('QUOTEMEDIA/PRICES',\n",
    "                            ticker = secs, \n",
    "                            date = {'gte':start_date, 'lte':end_date})\n",
    "\n",
    "    print(\"Quandl | DONE  | Returning {:d} dates of data for {}.\\n\".format(len(data),secs))\n",
    "    return data\n",
    "    \n",
    "@functools.lru_cache(maxsize=16) # Cache the function output\n",
    "def getSpreadData(secs,start_date,end_date,N_window=15):\n",
    "\n",
    "    # Input validation\n",
    "    assert len(secs)==2 # secs must be a pair to calculate spread\n",
    "    assertCorrectDateFormat(start_date)\n",
    "    assertCorrectDateFormat(end_date)\n",
    "    assert end_date >= start_date\n",
    "\n",
    "    # Get Quandl Data\n",
    "    if isinstance(secs, tuple): secs=list((secs))\n",
    "    data = pd.DataFrame()\n",
    "    for sec in secs:\n",
    "        quandlData = getQuandlEODData(sec,start_date,end_date)[['date','adj_close','adj_volume']].set_index('date').sort_index(ascending=True)\n",
    "        data[sec+'_adj_close'] = quandlData['adj_close']\n",
    "        data[sec+'_N_t'] = (quandlData['adj_close']*quandlData['adj_volume']).rolling(N_window).median()\n",
    "\n",
    "    # Get Fama French factor returns data\n",
    "    print(\"FF     | START | Getting Fama-French returns data from CSV.\\n\")\n",
    "    \n",
    "    ff = pd.read_csv('../data/F-F_Research_Data_Factors_daily.CSV').rename(columns={'Unnamed: 0':'date'})\n",
    "    ff['date'] = ff['date'].apply(lambda x: pd.to_datetime(str(x), format='%Y%m%d'))\n",
    "    ff = ff.set_index('date')[start_date:end_date]\n",
    "    \n",
    "    print(\"FF     | DONE  | \\n\")\n",
    "    \n",
    "    return pd.concat([data,ff],axis=1)"
   ]
  },
  {
   "cell_type": "markdown",
   "metadata": {},
   "source": [
    "#### 1-3. Fetch cleaned spread data using functions above\n",
    "\n",
    "Last 2 unique digits of my student ID: 3, 0\n",
    "\n",
    "**Securities:**\n",
    "```\n",
    "Pair #0: FCOM VOX\n",
    "```\n",
    "\n",
    "**Securities Description:**\n",
    "```\n",
    "FCOM - Fidelity MSCI Communication Services Index ETF\n",
    "VOX - Vanguard Communication Services ETF\n",
    "```\n",
    "\n",
    "**Dates:**\n",
    "```\n",
    "December 2, 2019 - December 31, 2021\n",
    "```"
   ]
  },
  {
   "cell_type": "code",
   "execution_count": 22,
   "metadata": {},
   "outputs": [
    {
     "name": "stdout",
     "output_type": "stream",
     "text": [
      "Quandl | START | Retriving Quandl data for securities: \n",
      " FCOM\n",
      "Quandl | DONE  | Returning 526 dates of data for FCOM.\n",
      "\n",
      "Quandl | START | Retriving Quandl data for securities: \n",
      " VOX\n",
      "Quandl | DONE  | Returning 526 dates of data for VOX.\n",
      "\n",
      "FF     | START | Getting Fama-French returns data from CSV.\n",
      "\n",
      "FF     | DONE  | \n",
      "\n"
     ]
    }
   ],
   "source": [
    "secs,start_date,end_date = (\"FCOM\",\"VOX\"),\"2019-12-02\",\"2021-12-31\"\n",
    "df = getSpreadData(secs,start_date,end_date)"
   ]
  },
  {
   "cell_type": "code",
   "execution_count": 36,
   "metadata": {},
   "outputs": [
    {
     "data": {
      "text/html": [
       "<div>\n",
       "<style scoped>\n",
       "    .dataframe tbody tr th:only-of-type {\n",
       "        vertical-align: middle;\n",
       "    }\n",
       "\n",
       "    .dataframe tbody tr th {\n",
       "        vertical-align: top;\n",
       "    }\n",
       "\n",
       "    .dataframe thead th {\n",
       "        text-align: right;\n",
       "    }\n",
       "</style>\n",
       "<table border=\"1\" class=\"dataframe\">\n",
       "  <thead>\n",
       "    <tr style=\"text-align: right;\">\n",
       "      <th></th>\n",
       "      <th>FCOM_adj_close</th>\n",
       "      <th>VOX_adj_close</th>\n",
       "    </tr>\n",
       "    <tr>\n",
       "      <th>date</th>\n",
       "      <th></th>\n",
       "      <th></th>\n",
       "    </tr>\n",
       "  </thead>\n",
       "  <tbody>\n",
       "    <tr>\n",
       "      <th>2019-12-02</th>\n",
       "      <td>34.1469</td>\n",
       "      <td>89.3003</td>\n",
       "    </tr>\n",
       "    <tr>\n",
       "      <th>2019-12-03</th>\n",
       "      <td>34.1273</td>\n",
       "      <td>89.1632</td>\n",
       "    </tr>\n",
       "    <tr>\n",
       "      <th>2019-12-04</th>\n",
       "      <td>34.2748</td>\n",
       "      <td>89.6723</td>\n",
       "    </tr>\n",
       "    <tr>\n",
       "      <th>2019-12-05</th>\n",
       "      <td>34.4125</td>\n",
       "      <td>89.9464</td>\n",
       "    </tr>\n",
       "    <tr>\n",
       "      <th>2019-12-06</th>\n",
       "      <td>34.6288</td>\n",
       "      <td>90.5143</td>\n",
       "    </tr>\n",
       "  </tbody>\n",
       "</table>\n",
       "</div>"
      ],
      "text/plain": [
       "            FCOM_adj_close  VOX_adj_close\n",
       "date                                     \n",
       "2019-12-02         34.1469        89.3003\n",
       "2019-12-03         34.1273        89.1632\n",
       "2019-12-04         34.2748        89.6723\n",
       "2019-12-05         34.4125        89.9464\n",
       "2019-12-06         34.6288        90.5143"
      ]
     },
     "execution_count": 36,
     "metadata": {},
     "output_type": "execute_result"
    }
   ],
   "source": [
    "secs,start_date,end_date = (\"FCOM\",\"VOX\"),\"2019-12-02\",\"2021-12-31\"\n",
    "N_window=15\n",
    "K=None\n",
    "spread = getSpreadData(secs,start_date,end_date)\n",
    "    \n",
    "# set K to the maximum of N_t over the data period, times two\n",
    "N_t_cols = spread.columns[spread.columns.str.endswith('_N_t')]\n",
    "K = int(2*max(df[N_t_cols].max()))+1\n",
    "# print(\"prep   |       | Setting initial capital (K) to {:d}.\\n\".format(K))\n",
    "\n",
    "# print(\"prep   | DONE  | \\n\")\n",
    "# print(\"trade  | START | \\n\")\n",
    "\n",
    "tradeSim = spread[spread.columns[spread.columns.str.endswith('_adj_close')]] # initalize trade simulation table\n",
    "tradeSim.head()\n"
   ]
  },
  {
   "cell_type": "code",
   "execution_count": 41,
   "metadata": {},
   "outputs": [
    {
     "name": "stdout",
     "output_type": "stream",
     "text": [
      "Spread | START | Calculating M-day cumulative return spread (X-Y) for X=FCOM, Y=VOX.\n",
      "\n",
      "Spread | DONE  | \n",
      "\n"
     ]
    },
    {
     "data": {
      "text/html": [
       "<div>\n",
       "<style scoped>\n",
       "    .dataframe tbody tr th:only-of-type {\n",
       "        vertical-align: middle;\n",
       "    }\n",
       "\n",
       "    .dataframe tbody tr th {\n",
       "        vertical-align: top;\n",
       "    }\n",
       "\n",
       "    .dataframe thead th {\n",
       "        text-align: right;\n",
       "    }\n",
       "</style>\n",
       "<table border=\"1\" class=\"dataframe\">\n",
       "  <thead>\n",
       "    <tr style=\"text-align: right;\">\n",
       "      <th></th>\n",
       "      <th>FCOM_adj_close</th>\n",
       "      <th>VOX_adj_close</th>\n",
       "      <th>FCOM_M_day_cumret</th>\n",
       "      <th>FCOM_quantity</th>\n",
       "      <th>VOX_M_day_cumret</th>\n",
       "      <th>VOX_quantity</th>\n",
       "      <th>cumret_spread</th>\n",
       "      <th>signal</th>\n",
       "      <th>FCOM_pos</th>\n",
       "      <th>VOX_pos</th>\n",
       "      <th>K</th>\n",
       "      <th>gross_cash</th>\n",
       "    </tr>\n",
       "    <tr>\n",
       "      <th>date</th>\n",
       "      <th></th>\n",
       "      <th></th>\n",
       "      <th></th>\n",
       "      <th></th>\n",
       "      <th></th>\n",
       "      <th></th>\n",
       "      <th></th>\n",
       "      <th></th>\n",
       "      <th></th>\n",
       "      <th></th>\n",
       "      <th></th>\n",
       "      <th></th>\n",
       "    </tr>\n",
       "  </thead>\n",
       "  <tbody>\n",
       "    <tr>\n",
       "      <th>2019-12-02</th>\n",
       "      <td>34.1469</td>\n",
       "      <td>89.3003</td>\n",
       "      <td>NaN</td>\n",
       "      <td>NaN</td>\n",
       "      <td>NaN</td>\n",
       "      <td>NaN</td>\n",
       "      <td>-55.1533</td>\n",
       "      <td>1</td>\n",
       "      <td>NaN</td>\n",
       "      <td>NaN</td>\n",
       "      <td>NaN</td>\n",
       "      <td>NaN</td>\n",
       "    </tr>\n",
       "    <tr>\n",
       "      <th>2019-12-03</th>\n",
       "      <td>34.1273</td>\n",
       "      <td>89.1632</td>\n",
       "      <td>NaN</td>\n",
       "      <td>NaN</td>\n",
       "      <td>NaN</td>\n",
       "      <td>NaN</td>\n",
       "      <td>-55.0359</td>\n",
       "      <td>1</td>\n",
       "      <td>NaN</td>\n",
       "      <td>NaN</td>\n",
       "      <td>NaN</td>\n",
       "      <td>NaN</td>\n",
       "    </tr>\n",
       "    <tr>\n",
       "      <th>2019-12-04</th>\n",
       "      <td>34.2748</td>\n",
       "      <td>89.6723</td>\n",
       "      <td>NaN</td>\n",
       "      <td>NaN</td>\n",
       "      <td>NaN</td>\n",
       "      <td>NaN</td>\n",
       "      <td>-55.3975</td>\n",
       "      <td>1</td>\n",
       "      <td>NaN</td>\n",
       "      <td>NaN</td>\n",
       "      <td>NaN</td>\n",
       "      <td>NaN</td>\n",
       "    </tr>\n",
       "    <tr>\n",
       "      <th>2019-12-05</th>\n",
       "      <td>34.4125</td>\n",
       "      <td>89.9464</td>\n",
       "      <td>NaN</td>\n",
       "      <td>NaN</td>\n",
       "      <td>NaN</td>\n",
       "      <td>NaN</td>\n",
       "      <td>-55.5340</td>\n",
       "      <td>1</td>\n",
       "      <td>NaN</td>\n",
       "      <td>NaN</td>\n",
       "      <td>NaN</td>\n",
       "      <td>NaN</td>\n",
       "    </tr>\n",
       "    <tr>\n",
       "      <th>2019-12-06</th>\n",
       "      <td>34.6288</td>\n",
       "      <td>90.5143</td>\n",
       "      <td>NaN</td>\n",
       "      <td>NaN</td>\n",
       "      <td>NaN</td>\n",
       "      <td>NaN</td>\n",
       "      <td>-55.8855</td>\n",
       "      <td>1</td>\n",
       "      <td>NaN</td>\n",
       "      <td>NaN</td>\n",
       "      <td>NaN</td>\n",
       "      <td>NaN</td>\n",
       "    </tr>\n",
       "    <tr>\n",
       "      <th>...</th>\n",
       "      <td>...</td>\n",
       "      <td>...</td>\n",
       "      <td>...</td>\n",
       "      <td>...</td>\n",
       "      <td>...</td>\n",
       "      <td>...</td>\n",
       "      <td>...</td>\n",
       "      <td>...</td>\n",
       "      <td>...</td>\n",
       "      <td>...</td>\n",
       "      <td>...</td>\n",
       "      <td>...</td>\n",
       "    </tr>\n",
       "    <tr>\n",
       "      <th>2021-12-27</th>\n",
       "      <td>52.0700</td>\n",
       "      <td>137.4700</td>\n",
       "      <td>0.0228</td>\n",
       "      <td>48568.0</td>\n",
       "      <td>0.0259</td>\n",
       "      <td>229849.0</td>\n",
       "      <td>-85.4000</td>\n",
       "      <td>1</td>\n",
       "      <td>0.0</td>\n",
       "      <td>-0.0</td>\n",
       "      <td>4.2429e+10</td>\n",
       "      <td>0.0</td>\n",
       "    </tr>\n",
       "    <tr>\n",
       "      <th>2021-12-28</th>\n",
       "      <td>51.9700</td>\n",
       "      <td>137.2300</td>\n",
       "      <td>0.0287</td>\n",
       "      <td>47444.0</td>\n",
       "      <td>0.0331</td>\n",
       "      <td>229849.0</td>\n",
       "      <td>-85.2600</td>\n",
       "      <td>1</td>\n",
       "      <td>0.0</td>\n",
       "      <td>-0.0</td>\n",
       "      <td>4.2512e+10</td>\n",
       "      <td>0.0</td>\n",
       "    </tr>\n",
       "    <tr>\n",
       "      <th>2021-12-29</th>\n",
       "      <td>51.7500</td>\n",
       "      <td>136.5000</td>\n",
       "      <td>0.0290</td>\n",
       "      <td>44330.0</td>\n",
       "      <td>0.0319</td>\n",
       "      <td>224433.0</td>\n",
       "      <td>-84.7500</td>\n",
       "      <td>1</td>\n",
       "      <td>0.0</td>\n",
       "      <td>-0.0</td>\n",
       "      <td>4.2596e+10</td>\n",
       "      <td>0.0</td>\n",
       "    </tr>\n",
       "    <tr>\n",
       "      <th>2021-12-30</th>\n",
       "      <td>52.0000</td>\n",
       "      <td>137.1900</td>\n",
       "      <td>0.0248</td>\n",
       "      <td>44330.0</td>\n",
       "      <td>0.0278</td>\n",
       "      <td>219624.0</td>\n",
       "      <td>-85.1900</td>\n",
       "      <td>1</td>\n",
       "      <td>0.0</td>\n",
       "      <td>-0.0</td>\n",
       "      <td>4.2680e+10</td>\n",
       "      <td>0.0</td>\n",
       "    </tr>\n",
       "    <tr>\n",
       "      <th>2021-12-31</th>\n",
       "      <td>51.3600</td>\n",
       "      <td>135.5600</td>\n",
       "      <td>0.0156</td>\n",
       "      <td>44330.0</td>\n",
       "      <td>0.0197</td>\n",
       "      <td>187770.0</td>\n",
       "      <td>-84.2000</td>\n",
       "      <td>1</td>\n",
       "      <td>0.0</td>\n",
       "      <td>-0.0</td>\n",
       "      <td>4.2763e+10</td>\n",
       "      <td>0.0</td>\n",
       "    </tr>\n",
       "  </tbody>\n",
       "</table>\n",
       "<p>526 rows × 12 columns</p>\n",
       "</div>"
      ],
      "text/plain": [
       "            FCOM_adj_close  VOX_adj_close  FCOM_M_day_cumret  FCOM_quantity  \\\n",
       "date                                                                          \n",
       "2019-12-02         34.1469        89.3003                NaN            NaN   \n",
       "2019-12-03         34.1273        89.1632                NaN            NaN   \n",
       "2019-12-04         34.2748        89.6723                NaN            NaN   \n",
       "2019-12-05         34.4125        89.9464                NaN            NaN   \n",
       "2019-12-06         34.6288        90.5143                NaN            NaN   \n",
       "...                    ...            ...                ...            ...   \n",
       "2021-12-27         52.0700       137.4700             0.0228        48568.0   \n",
       "2021-12-28         51.9700       137.2300             0.0287        47444.0   \n",
       "2021-12-29         51.7500       136.5000             0.0290        44330.0   \n",
       "2021-12-30         52.0000       137.1900             0.0248        44330.0   \n",
       "2021-12-31         51.3600       135.5600             0.0156        44330.0   \n",
       "\n",
       "            VOX_M_day_cumret  VOX_quantity  cumret_spread  signal  FCOM_pos  \\\n",
       "date                                                                          \n",
       "2019-12-02               NaN           NaN       -55.1533       1       NaN   \n",
       "2019-12-03               NaN           NaN       -55.0359       1       NaN   \n",
       "2019-12-04               NaN           NaN       -55.3975       1       NaN   \n",
       "2019-12-05               NaN           NaN       -55.5340       1       NaN   \n",
       "2019-12-06               NaN           NaN       -55.8855       1       NaN   \n",
       "...                      ...           ...            ...     ...       ...   \n",
       "2021-12-27            0.0259      229849.0       -85.4000       1       0.0   \n",
       "2021-12-28            0.0331      229849.0       -85.2600       1       0.0   \n",
       "2021-12-29            0.0319      224433.0       -84.7500       1       0.0   \n",
       "2021-12-30            0.0278      219624.0       -85.1900       1       0.0   \n",
       "2021-12-31            0.0197      187770.0       -84.2000       1       0.0   \n",
       "\n",
       "            VOX_pos           K  gross_cash  \n",
       "date                                         \n",
       "2019-12-02      NaN         NaN         NaN  \n",
       "2019-12-03      NaN         NaN         NaN  \n",
       "2019-12-04      NaN         NaN         NaN  \n",
       "2019-12-05      NaN         NaN         NaN  \n",
       "2019-12-06      NaN         NaN         NaN  \n",
       "...             ...         ...         ...  \n",
       "2021-12-27     -0.0  4.2429e+10         0.0  \n",
       "2021-12-28     -0.0  4.2512e+10         0.0  \n",
       "2021-12-29     -0.0  4.2596e+10         0.0  \n",
       "2021-12-30     -0.0  4.2680e+10         0.0  \n",
       "2021-12-31     -0.0  4.2763e+10         0.0  \n",
       "\n",
       "[526 rows x 12 columns]"
      ]
     },
     "execution_count": 41,
     "metadata": {},
     "output_type": "execute_result"
    }
   ],
   "source": [
    "N_window=15\n",
    "M=10\n",
    "j=0.05\n",
    "g=0.1\n",
    "s=1\n",
    "\n",
    "\n",
    "for sec in secs:\n",
    "    tradeSim[sec+'_M_day_cumret'] = (tradeSim[sec+'_adj_close'].pct_change()+1).rolling(M).apply(np.prod,raw=True)-1\n",
    "    tradeSim[sec+'_quantity'] = [math.nan]*N_window + [int(s/100) for s in spread[sec+'_N_t'][N_window:]]\n",
    "\n",
    "print(\"Spread | START | Calculating M-day cumulative return spread (X-Y) for X={}, Y={}.\\n\".format(secs[0],secs[1]))\n",
    "tradeSim['cumret_spread'] = tradeSim[secs[0]+'_adj_close']-tradeSim[secs[1]+'_adj_close']\n",
    "print(\"Spread | DONE  | \\n\")\n",
    "\n",
    "# enter position if spread is above g, \n",
    "tradeSim['signal'] = [-1 if (r>g) else 1 if (r<-g) else 0 for r in tradeSim['cumret_spread']]\n",
    "# close out position at end of every month\n",
    "tradeSim['signal'] = \n",
    "\n",
    "# tradeSim.loc[tradeSim['signal']!=0]\n",
    "position = tradeSim['signal'].diff()\n",
    "tradeSim[secs[0]+'_pos'] = (position)*(tradeSim[secs[0]+'_quantity'])\n",
    "tradeSim[secs[1]+'_pos'] = -1*(position)*(tradeSim[secs[0]+'_quantity'])\n",
    "\n",
    "# tradeSim.loc['2019-12-20','K'] = K # init capital\n",
    "# tradeSim['K'].fillna(0,inplace=True)\n",
    "tradeSim['K'] = (K + (-1)*(tradeSim[secs[0]+'_pos']+tradeSim[secs[1]+'_pos'])).cumsum()\n",
    "tradeSim['gross_cash'] = abs(tradeSim[secs[0]+'_pos'])+abs(tradeSim[secs[0]+'_pos'])\n",
    "\n",
    "tradeSim"
   ]
  },
  {
   "cell_type": "code",
   "execution_count": 100,
   "metadata": {},
   "outputs": [],
   "source": [
    "\n",
    "def spreadTradeSimulation(secs,start_date,end_date,N_window=15,M=10,j=0.05,g=0.1,s=1,K=None):\n",
    "    \n",
    "    print(\"========================================\")\n",
    "    print(\"prep   | START | Validating inputs.\\n\")\n",
    "    \n",
    "    assert j<g\n",
    "    assert j>=0 # both j and g have to be positive\n",
    "    assert s>0 and s<=1\n",
    "    \n",
    "    print(\"prep   |       | Getting spread data.\\n\")\n",
    "    spread = getSpreadData(secs,start_date,end_date,N_window)\n",
    "    \n",
    "    if K==None:\n",
    "        # set K to the maximum of N_t over the data period, times two\n",
    "        N_t_cols = spread.columns[spread.columns.str.endswith('_N_t')]\n",
    "        K = int(2*max(df[N_t_cols].max()))+1\n",
    "        print(\"prep   |       | Setting initial capital (K) to {:d}.\\n\".format(K))\n",
    "    \n",
    "    print(\"prep   | DONE  | \\n\")\n",
    "    print(\"trade  | START | \\n\")\n",
    "\n",
    "    tradeSim = spread[['spread']] # initalize trade simulation table\n",
    "    tradeSim['M_day_cumret'] = (tradeSim['spread'].pct_change()+1).rolling(M).cumprod()-1\n",
    "    tradeSim['K'] = K # init capital\n",
    "    for sec in secs:\n",
    "        tradeSim[sec+'_quantity'] = int(spread[sec+'_N_t']/100)\n",
    "\n",
    "    tradeSim['signal'] = [-1 if tradeSim['M_day_return']>g else 1 if tradeSim['M_day_return']<j else 0]\n",
    "    tradeSim['position'] = tradeSim['signal'].diff()\n",
    "\n",
    "    tradeSim['gross_cash'] = \n",
    "\n",
    "        \n"
   ]
  },
  {
   "cell_type": "markdown",
   "metadata": {},
   "source": [
    "### 2. Analysis\n",
    "#### 2-1. Characterize the relative dynamics of $s^{(i)}_t$\n",
    "\n",
    "Examine more quantiles than just the median. Look at tails. \n",
    "Do the spreads correlate? How about their difference $(d)$ values? Do spreads exhibit patterns over time?"
   ]
  },
  {
   "cell_type": "markdown",
   "metadata": {},
   "source": [
    "**2-1-1. Get more data for analysis**\n",
    "\n",
    "1. The difference between the spreads  (pair 3 minus pair 0)\n",
    "2. Rolling average prices with 20-day, 50-day, and 252-day windows\n",
    "3. The \"returns\" for the spread pair (of securities `A` & `B` would bethe profit if we buy a share of `B` and sell a share of `A`)"
   ]
  },
  {
   "cell_type": "code",
   "execution_count": null,
   "metadata": {},
   "outputs": [],
   "source": []
  },
  {
   "cell_type": "markdown",
   "metadata": {},
   "source": [
    "**2-1-2. Define analysis functions**"
   ]
  },
  {
   "cell_type": "code",
   "execution_count": 11,
   "metadata": {},
   "outputs": [],
   "source": [
    "def getStats(data,annual_factor=1):\n",
    "\n",
    "    data_desc = data.describe().loc[['count','mean', 'max', 'min', 'std']]\n",
    "\n",
    "    data_desc.loc['mean'] = data_desc.loc['mean']*annual_factor\n",
    "    data_desc.loc['vol'] = data_desc.loc['std']*np.sqrt(annual_factor)\n",
    "    data_desc.loc['sharpe_ratio'] = data_desc.loc['mean']/data_desc.loc['vol']\n",
    "\n",
    "    data_desc.loc['skewness'] = data.skew()\n",
    "    data_desc.loc['excess_kurtosis'] = data.kurt()-3\n",
    "    data_desc.loc['VaR05'] = np.quantile(data, .05, axis=0)\n",
    "    data_desc.loc['CVaR05'] = np.mean(data <= data_desc.loc['VaR05'])\n",
    "\n",
    "    return data_desc\n",
    "    "
   ]
  },
  {
   "cell_type": "markdown",
   "metadata": {},
   "source": [
    "**2-1-3. General analysis of prices and returns of the spreads**"
   ]
  },
  {
   "cell_type": "markdown",
   "metadata": {},
   "source": [
    "First look at the basic statistics of the prices and returns:"
   ]
  },
  {
   "cell_type": "code",
   "execution_count": 12,
   "metadata": {},
   "outputs": [
    {
     "data": {
      "text/html": [
       "<div>\n",
       "<style scoped>\n",
       "    .dataframe tbody tr th:only-of-type {\n",
       "        vertical-align: middle;\n",
       "    }\n",
       "\n",
       "    .dataframe tbody tr th {\n",
       "        vertical-align: top;\n",
       "    }\n",
       "\n",
       "    .dataframe thead tr th {\n",
       "        text-align: left;\n",
       "    }\n",
       "</style>\n",
       "<table border=\"1\" class=\"dataframe\">\n",
       "  <thead>\n",
       "    <tr>\n",
       "      <th></th>\n",
       "      <th colspan=\"3\" halign=\"left\">Prices</th>\n",
       "      <th colspan=\"3\" halign=\"left\">Returns</th>\n",
       "    </tr>\n",
       "    <tr>\n",
       "      <th></th>\n",
       "      <th>ICE_T_T | ICE_G_G</th>\n",
       "      <th>ICE_B_B | ICE_G_G</th>\n",
       "      <th>d</th>\n",
       "      <th>ICE_T_T | ICE_G_G</th>\n",
       "      <th>ICE_B_B | ICE_G_G</th>\n",
       "      <th>d</th>\n",
       "    </tr>\n",
       "  </thead>\n",
       "  <tbody>\n",
       "    <tr>\n",
       "      <th>count</th>\n",
       "      <td>450.0000</td>\n",
       "      <td>450.0000</td>\n",
       "      <td>450.0000</td>\n",
       "      <td>449.0000</td>\n",
       "      <td>449.0000</td>\n",
       "      <td>449.0000</td>\n",
       "    </tr>\n",
       "    <tr>\n",
       "      <th>mean</th>\n",
       "      <td>10.1931</td>\n",
       "      <td>7.1850</td>\n",
       "      <td>3.0081</td>\n",
       "      <td>0.0193</td>\n",
       "      <td>0.0587</td>\n",
       "      <td>0.1667</td>\n",
       "    </tr>\n",
       "    <tr>\n",
       "      <th>max</th>\n",
       "      <td>22.0836</td>\n",
       "      <td>18.0436</td>\n",
       "      <td>9.8900</td>\n",
       "      <td>0.5500</td>\n",
       "      <td>1.0536</td>\n",
       "      <td>10.0000</td>\n",
       "    </tr>\n",
       "    <tr>\n",
       "      <th>min</th>\n",
       "      <td>3.1376</td>\n",
       "      <td>1.2038</td>\n",
       "      <td>-0.9600</td>\n",
       "      <td>-0.4526</td>\n",
       "      <td>-0.6093</td>\n",
       "      <td>-1.2030</td>\n",
       "    </tr>\n",
       "    <tr>\n",
       "      <th>std</th>\n",
       "      <td>4.0781</td>\n",
       "      <td>3.5258</td>\n",
       "      <td>1.3401</td>\n",
       "      <td>0.1095</td>\n",
       "      <td>0.1859</td>\n",
       "      <td>0.5701</td>\n",
       "    </tr>\n",
       "    <tr>\n",
       "      <th>vol</th>\n",
       "      <td>4.0781</td>\n",
       "      <td>3.5258</td>\n",
       "      <td>1.3401</td>\n",
       "      <td>0.2190</td>\n",
       "      <td>0.3717</td>\n",
       "      <td>1.1403</td>\n",
       "    </tr>\n",
       "    <tr>\n",
       "      <th>sharpe_ratio</th>\n",
       "      <td>2.4995</td>\n",
       "      <td>2.0378</td>\n",
       "      <td>2.2446</td>\n",
       "      <td>0.0881</td>\n",
       "      <td>0.1579</td>\n",
       "      <td>0.1462</td>\n",
       "    </tr>\n",
       "    <tr>\n",
       "      <th>skewness</th>\n",
       "      <td>1.2007</td>\n",
       "      <td>1.0962</td>\n",
       "      <td>1.6819</td>\n",
       "      <td>0.3606</td>\n",
       "      <td>1.4675</td>\n",
       "      <td>13.5298</td>\n",
       "    </tr>\n",
       "    <tr>\n",
       "      <th>excess_kurtosis</th>\n",
       "      <td>-1.9598</td>\n",
       "      <td>-1.9902</td>\n",
       "      <td>5.2121</td>\n",
       "      <td>0.4911</td>\n",
       "      <td>4.1355</td>\n",
       "      <td>215.4582</td>\n",
       "    </tr>\n",
       "    <tr>\n",
       "      <th>VaR05</th>\n",
       "      <td>4.9797</td>\n",
       "      <td>2.3591</td>\n",
       "      <td>1.8600</td>\n",
       "      <td>-0.1609</td>\n",
       "      <td>-0.2376</td>\n",
       "      <td>-0.1298</td>\n",
       "    </tr>\n",
       "    <tr>\n",
       "      <th>CVaR05</th>\n",
       "      <td>0.0511</td>\n",
       "      <td>0.0511</td>\n",
       "      <td>0.0556</td>\n",
       "      <td>0.0512</td>\n",
       "      <td>0.0512</td>\n",
       "      <td>0.0512</td>\n",
       "    </tr>\n",
       "  </tbody>\n",
       "</table>\n",
       "</div>"
      ],
      "text/plain": [
       "                           Prices                              \\\n",
       "                ICE_T_T | ICE_G_G ICE_B_B | ICE_G_G         d   \n",
       "count                    450.0000          450.0000  450.0000   \n",
       "mean                      10.1931            7.1850    3.0081   \n",
       "max                       22.0836           18.0436    9.8900   \n",
       "min                        3.1376            1.2038   -0.9600   \n",
       "std                        4.0781            3.5258    1.3401   \n",
       "vol                        4.0781            3.5258    1.3401   \n",
       "sharpe_ratio               2.4995            2.0378    2.2446   \n",
       "skewness                   1.2007            1.0962    1.6819   \n",
       "excess_kurtosis           -1.9598           -1.9902    5.2121   \n",
       "VaR05                      4.9797            2.3591    1.8600   \n",
       "CVaR05                     0.0511            0.0511    0.0556   \n",
       "\n",
       "                          Returns                              \n",
       "                ICE_T_T | ICE_G_G ICE_B_B | ICE_G_G         d  \n",
       "count                    449.0000          449.0000  449.0000  \n",
       "mean                       0.0193            0.0587    0.1667  \n",
       "max                        0.5500            1.0536   10.0000  \n",
       "min                       -0.4526           -0.6093   -1.2030  \n",
       "std                        0.1095            0.1859    0.5701  \n",
       "vol                        0.2190            0.3717    1.1403  \n",
       "sharpe_ratio               0.0881            0.1579    0.1462  \n",
       "skewness                   0.3606            1.4675   13.5298  \n",
       "excess_kurtosis            0.4911            4.1355  215.4582  \n",
       "VaR05                     -0.1609           -0.2376   -0.1298  \n",
       "CVaR05                     0.0512            0.0512    0.0512  "
      ]
     },
     "execution_count": 12,
     "metadata": {},
     "output_type": "execute_result"
    }
   ],
   "source": [
    "stats = pd.concat([getStats(spreads),getStats(spreads_ret,annual_factor=4)], axis=1)\n",
    "stats.columns = pd.MultiIndex.from_arrays([['Prices']*3+['Returns']*3, stats.columns])\n",
    "stats"
   ]
  },
  {
   "cell_type": "markdown",
   "metadata": {},
   "source": [
    "**The `mean`, `volatility`, and `sharpe_ratio` for \"Returns\" are annualized.*"
   ]
  },
  {
   "cell_type": "markdown",
   "metadata": {},
   "source": [
    "Compared to the `ICE_B_B | ICE_G_G` (Brent Crude Oil - Gas Oil G) pair (pair #3), the `ICE_T_T | ICE_G_G` (WTI Crude Oil - Gas Oil G) pair (pair #0) has a higher mean of about $10.19 from 2019-12-03 to 2021-08-31. However, pair #0 has a lower annualized return (1.93%) compared to pair #3 (5.87%). With a lower volatility of 21.9%, pair #0 has an even higher sharpe ratio of 8.81%. \n",
    "\n",
    "Looking at the excess kurtosis of the spread *prices*, pair #0 have a slightly fatter tail than pair #3. However, if we look at the spread *returns*, pair #3 actually have a much fatter tail with excess kurtosis of ~4.14. This tells us that we have more extreme values the returns for the pair #3 compared to pair #0. However, looking at the conditional value at risk, or the expected shortfall, the two spread pairs are the same at 0.0512.\n",
    "\n",
    "Next, let's see the time-series plots of the prices and returns, as well as their rolling averages."
   ]
  },
  {
   "cell_type": "code",
   "execution_count": 13,
   "metadata": {},
   "outputs": [
    {
     "data": {
      "text/plain": [
       "<AxesSubplot:title={'center':'Futures Spread Rolling Average Prices (window=252)'}, xlabel='Date', ylabel='Prices ($)'>"
      ]
     },
     "execution_count": 13,
     "metadata": {},
     "output_type": "execute_result"
    },
    {
     "data": {
      "image/png": "[encoded data removed]",
      "text/plain": [
       "<Figure size 432x288 with 1 Axes>"
      ]
     },
     "metadata": {
      "needs_background": "light"
     },
     "output_type": "display_data"
    },
    {
     "data": {
      "image/png": "[encoded data removed]",
      "text/plain": [
       "<Figure size 432x288 with 1 Axes>"
      ]
     },
     "metadata": {
      "needs_background": "light"
     },
     "output_type": "display_data"
    },
    {
     "data": {
      "image/png": "[encoded data removed]",
      "text/plain": [
       "<Figure size 432x288 with 1 Axes>"
      ]
     },
     "metadata": {
      "needs_background": "light"
     },
     "output_type": "display_data"
    },
    {
     "data": {
      "image/png": "[encoded data removed]",
      "text/plain": [
       "<Figure size 432x288 with 1 Axes>"
      ]
     },
     "metadata": {
      "needs_background": "light"
     },
     "output_type": "display_data"
    }
   ],
   "source": [
    "spreads.plot(ylabel=\"Prices ($)\",title='Futures Spread Prices, Dec 03, 2019 - Aug 31, 2021')\n",
    "prices_rolling_20[20:].plot(ylabel=\"Prices ($)\",title='Futures Spread Rolling Average Prices (window=20)')\n",
    "prices_rolling_50[50:].plot(ylabel=\"Prices ($)\",title='Futures Spread Rolling Average Prices (window=50)')\n",
    "prices_rolling_252[252:].plot(ylabel=\"Prices ($)\",title='Futures Spread Rolling Average Prices (window=252)')"
   ]
  },
  {
   "cell_type": "markdown",
   "metadata": {},
   "source": [
    "Looking at the prices charts, the two spread pairs do seem to have strong correlation."
   ]
  },
  {
   "cell_type": "code",
   "execution_count": 14,
   "metadata": {},
   "outputs": [
    {
     "name": "stdout",
     "output_type": "stream",
     "text": [
      "The correlation between the prices of pair 0 and pair 3 is: 0.948\n"
     ]
    }
   ],
   "source": [
    "prices_corr = spreads['ICE_B_B | ICE_G_G'].corr(spreads['ICE_T_T | ICE_G_G'])\n",
    "print(\"The correlation between the prices of pair 0 and pair 3 is: {:.3f}\".format(prices_corr))"
   ]
  },
  {
   "cell_type": "markdown",
   "metadata": {},
   "source": [
    "The correlation is extremely high througout the period. However, looking at the first chart above ('Futures Spread Prices, Dec 03, 2019 - Aug 31, 2021'), we can see that while pairs 0 and 3 rarely cross over, they do cross over in around July, 2021, leading to a close-to-zero `d` value. Let's see on which days do the pairs' prices cross over, and on which day does `d` have the lowest value."
   ]
  },
  {
   "cell_type": "code",
   "execution_count": 15,
   "metadata": {},
   "outputs": [
    {
     "data": {
      "text/html": [
       "<div>\n",
       "<style scoped>\n",
       "    .dataframe tbody tr th:only-of-type {\n",
       "        vertical-align: middle;\n",
       "    }\n",
       "\n",
       "    .dataframe tbody tr th {\n",
       "        vertical-align: top;\n",
       "    }\n",
       "\n",
       "    .dataframe thead th {\n",
       "        text-align: right;\n",
       "    }\n",
       "</style>\n",
       "<table border=\"1\" class=\"dataframe\">\n",
       "  <thead>\n",
       "    <tr style=\"text-align: right;\">\n",
       "      <th></th>\n",
       "      <th>ICE_T_T | ICE_G_G</th>\n",
       "      <th>ICE_B_B | ICE_G_G</th>\n",
       "      <th>d</th>\n",
       "    </tr>\n",
       "    <tr>\n",
       "      <th>Date</th>\n",
       "      <th></th>\n",
       "      <th></th>\n",
       "      <th></th>\n",
       "    </tr>\n",
       "  </thead>\n",
       "  <tbody>\n",
       "    <tr>\n",
       "      <th>2021-06-30</th>\n",
       "      <td>7.7334</td>\n",
       "      <td>8.1334</td>\n",
       "      <td>-0.40</td>\n",
       "    </tr>\n",
       "    <tr>\n",
       "      <th>2021-07-01</th>\n",
       "      <td>7.3143</td>\n",
       "      <td>8.2043</td>\n",
       "      <td>-0.89</td>\n",
       "    </tr>\n",
       "    <tr>\n",
       "      <th>2021-07-02</th>\n",
       "      <td>7.9890</td>\n",
       "      <td>8.5590</td>\n",
       "      <td>-0.57</td>\n",
       "    </tr>\n",
       "    <tr>\n",
       "      <th>2021-07-05</th>\n",
       "      <td>7.3823</td>\n",
       "      <td>8.3423</td>\n",
       "      <td>-0.96</td>\n",
       "    </tr>\n",
       "    <tr>\n",
       "      <th>2021-07-06</th>\n",
       "      <td>8.0576</td>\n",
       "      <td>8.7176</td>\n",
       "      <td>-0.66</td>\n",
       "    </tr>\n",
       "    <tr>\n",
       "      <th>2021-07-07</th>\n",
       "      <td>7.3926</td>\n",
       "      <td>7.9326</td>\n",
       "      <td>-0.54</td>\n",
       "    </tr>\n",
       "    <tr>\n",
       "      <th>2021-07-08</th>\n",
       "      <td>7.5451</td>\n",
       "      <td>8.0651</td>\n",
       "      <td>-0.52</td>\n",
       "    </tr>\n",
       "    <tr>\n",
       "      <th>2021-07-09</th>\n",
       "      <td>8.3712</td>\n",
       "      <td>9.0712</td>\n",
       "      <td>-0.70</td>\n",
       "    </tr>\n",
       "    <tr>\n",
       "      <th>2021-07-12</th>\n",
       "      <td>8.1036</td>\n",
       "      <td>8.6736</td>\n",
       "      <td>-0.57</td>\n",
       "    </tr>\n",
       "    <tr>\n",
       "      <th>2021-07-13</th>\n",
       "      <td>7.7597</td>\n",
       "      <td>8.3197</td>\n",
       "      <td>-0.56</td>\n",
       "    </tr>\n",
       "    <tr>\n",
       "      <th>2021-07-14</th>\n",
       "      <td>9.7426</td>\n",
       "      <td>9.9226</td>\n",
       "      <td>-0.18</td>\n",
       "    </tr>\n",
       "  </tbody>\n",
       "</table>\n",
       "</div>"
      ],
      "text/plain": [
       "            ICE_T_T | ICE_G_G  ICE_B_B | ICE_G_G     d\n",
       "Date                                                  \n",
       "2021-06-30             7.7334             8.1334 -0.40\n",
       "2021-07-01             7.3143             8.2043 -0.89\n",
       "2021-07-02             7.9890             8.5590 -0.57\n",
       "2021-07-05             7.3823             8.3423 -0.96\n",
       "2021-07-06             8.0576             8.7176 -0.66\n",
       "2021-07-07             7.3926             7.9326 -0.54\n",
       "2021-07-08             7.5451             8.0651 -0.52\n",
       "2021-07-09             8.3712             9.0712 -0.70\n",
       "2021-07-12             8.1036             8.6736 -0.57\n",
       "2021-07-13             7.7597             8.3197 -0.56\n",
       "2021-07-14             9.7426             9.9226 -0.18"
      ]
     },
     "metadata": {},
     "output_type": "display_data"
    },
    {
     "name": "stdout",
     "output_type": "stream",
     "text": [
      "The date with the lowest price, $-0.96, for d is: July 05th, 2021.\n"
     ]
    }
   ],
   "source": [
    "d_crossOver = spreads.loc[spreads['d']<0]\n",
    "display(d_crossOver)\n",
    "\n",
    "d_minPrice_index = spreads.d.idxmin()\n",
    "print(\"The date with the lowest price, ${:.2f}, for d is: {:%B %dth, %Y}.\".format(spreads.d.loc[d_minPrice_index],d_minPrice_index))"
   ]
  },
  {
   "cell_type": "markdown",
   "metadata": {},
   "source": [
    "Let's check the same thing with a 20-day rolling window."
   ]
  },
  {
   "cell_type": "code",
   "execution_count": 16,
   "metadata": {},
   "outputs": [
    {
     "data": {
      "text/html": [
       "<div>\n",
       "<style scoped>\n",
       "    .dataframe tbody tr th:only-of-type {\n",
       "        vertical-align: middle;\n",
       "    }\n",
       "\n",
       "    .dataframe tbody tr th {\n",
       "        vertical-align: top;\n",
       "    }\n",
       "\n",
       "    .dataframe thead th {\n",
       "        text-align: right;\n",
       "    }\n",
       "</style>\n",
       "<table border=\"1\" class=\"dataframe\">\n",
       "  <thead>\n",
       "    <tr style=\"text-align: right;\">\n",
       "      <th></th>\n",
       "      <th>ICE_T_T | ICE_G_G</th>\n",
       "      <th>ICE_B_B | ICE_G_G</th>\n",
       "      <th>d</th>\n",
       "    </tr>\n",
       "    <tr>\n",
       "      <th>Date</th>\n",
       "      <th></th>\n",
       "      <th></th>\n",
       "      <th></th>\n",
       "    </tr>\n",
       "  </thead>\n",
       "  <tbody>\n",
       "  </tbody>\n",
       "</table>\n",
       "</div>"
      ],
      "text/plain": [
       "Empty DataFrame\n",
       "Columns: [ICE_T_T | ICE_G_G, ICE_B_B | ICE_G_G, d]\n",
       "Index: []"
      ]
     },
     "metadata": {},
     "output_type": "display_data"
    },
    {
     "name": "stdout",
     "output_type": "stream",
     "text": [
      "With a rolling window of 20 days, the date with the lowest price, $0.32, for d is: July 19th, 2021.\n"
     ]
    }
   ],
   "source": [
    "d_roll20_crossOver = prices_rolling_20.loc[prices_rolling_20['d']<0]\n",
    "display(d_roll20_crossOver)\n",
    "\n",
    "d_roll20_minPrice_index = prices_rolling_20.d.idxmin()\n",
    "print(\"With a rolling window of 20 days, the date with the lowest price, ${:.2f}, for d is: {:%B %dth, %Y}.\".format(prices_rolling_20.d.loc[d_roll20_minPrice_index],d_roll20_minPrice_index))"
   ]
  },
  {
   "cell_type": "markdown",
   "metadata": {},
   "source": [
    "Since there are no periods when the prices cross over for a rolling window=20, we will just look at the prices chart (without rolling average) for trade signals. \n",
    "\n",
    "See how we would potentially perform by looking at the returns chart:"
   ]
  },
  {
   "cell_type": "code",
   "execution_count": 17,
   "metadata": {},
   "outputs": [
    {
     "data": {
      "text/plain": [
       "<AxesSubplot:title={'center':'Futures Spread Returns, Dec 03, 2019 - Aug 31, 2021'}, xlabel='Date', ylabel='Returns (%)'>"
      ]
     },
     "execution_count": 17,
     "metadata": {},
     "output_type": "execute_result"
    },
    {
     "data": {
      "image/png": "[encoded data removed]",
      "text/plain": [
       "<Figure size 432x288 with 1 Axes>"
      ]
     },
     "metadata": {
      "needs_background": "light"
     },
     "output_type": "display_data"
    }
   ],
   "source": [
    "spreads_ret.plot(ylabel=\"Returns (%)\",title='Futures Spread Returns, Dec 03, 2019 - Aug 31, 2021')"
   ]
  },
  {
   "cell_type": "markdown",
   "metadata": {},
   "source": [
    "The return for `d` is really high for a period between 2021-07 and 2021-08. Let's find the specific date:"
   ]
  },
  {
   "cell_type": "code",
   "execution_count": 18,
   "metadata": {},
   "outputs": [
    {
     "name": "stdout",
     "output_type": "stream",
     "text": [
      "The date with the highest return, 10.00%, for d is: July 16th, 2021.\n"
     ]
    }
   ],
   "source": [
    "d_maxRet_index = spreads_ret.d.idxmax()\n",
    "print(\"The date with the highest return, {:.2f}%, for d is: {:%B %dth, %Y}.\".format(spreads_ret.d.loc[d_maxRet_index],d_maxRet_index))"
   ]
  },
  {
   "cell_type": "markdown",
   "metadata": {},
   "source": [
    "***NOTE: buying `d` means \"buy pair 3, sell pair 0\"**, which is equal to: \n",
    "> buy (1/7.45) shares of `ICE_G_G`, sell 1 share of `ICE_T_T`, buy 1 share of `ICE_B_B`, and sell (1/7.45) shares of `ICE_G_G`\n",
    "\n",
    "which is also equal to:\n",
    "> sell 1 share of `ICE_T_T`, buy 1 share of `ICE_B_B`\n",
    "\n",
    "It seems that the we get a high return for `d` on in 2021 July. This means (disregarding transaction costs and other real-life complications) if we buy of `ICE_B_B` and sell the same number of shares of `ICE_T_T`, we can get 10% returns on July 16th. \n",
    "\n",
    "However, how would we know ahead of time to enter the `d` trade before July 16th, 2021? We can look at the price cross-overs (when spread price difference `d` goes below $0$) as a signal to enter. "
   ]
  }
 ],
 "metadata": {
  "interpreter": {
   "hash": "2ff398735b840e154b8cbd654a97af1eda1e82713cbff18c7e563bf43d4f2a36"
  },
  "kernelspec": {
   "display_name": "Python 3.9.7 64-bit",
   "language": "python",
   "name": "python3"
  },
  "language_info": {
   "codemirror_mode": {
    "name": "ipython",
    "version": 3
   },
   "file_extension": ".py",
   "mimetype": "text/x-python",
   "name": "python",
   "nbconvert_exporter": "python",
   "pygments_lexer": "ipython3",
   "version": "3.9.7"
  },
  "orig_nbformat": 4
 },
 "nbformat": 4,
 "nbformat_minor": 2
}
