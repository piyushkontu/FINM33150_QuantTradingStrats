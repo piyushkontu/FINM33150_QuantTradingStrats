{
 "cells": [
  {
   "cell_type": "markdown",
   "metadata": {},
   "source": [
    "# Parsing CME Data Files"
   ]
  },
  {
   "cell_type": "markdown",
   "metadata": {},
   "source": [
    "CME data files come to us in the FIX 5.0 SP2 format.  They are compressed files (in the gzip format) consisting of many lines.  Each line is a set of field value pairs, separated by ASCII 0x01.  Each field pair is a field number and a field value separated by an = sign.\n",
    "\n",
    "To keep the demo code running fast, we work with a random subsample consisting of one line per ten thousand."
   ]
  },
  {
   "cell_type": "code",
   "execution_count": 1,
   "metadata": {
    "collapsed": false
   },
   "outputs": [
    {
     "name": "stdout",
     "output_type": "stream",
     "text": [
      "'1128=9\\x019=265\\x0135=X\\x0149=CME\\x0134=10065111\\x0152=20141013152659076\\x0175=20141013\\x01268=2\\x01279=2\\x0122=8\\x0148=656784\\x0183=215750\\x01107=ESV4 C1895\\x01269=1\\x01270=1775\\x01271=5\\x01273=152659000\\x01336=2\\x01346=1\\x011023=1\\x01279=0\\x0122=8\\x0148=656784\\x0183=215751\\x01107=ESV4 C1895\\x01269=1\\x01270=1850\\x01271=291\\x01273=152659000\\x01336=2\\x01346=6\\x011023=3\\x0110=008\\x01'\n"
     ]
    }
   ],
   "source": [
    "tiny_subsample_file = \"/Users/brian/SkyDrive/data/HF/subsamples/XCME_MD_ES_20141013_20141017\"\n",
    "with open(tiny_subsample_file,\"rt\") as ssfile:\n",
    "    data_lines = [line.strip() for line in ssfile]\n",
    "sample_line = data_lines[-1]\n",
    "print(\"{ln!r}\".format(ln=sample_line))"
   ]
  },
  {
   "cell_type": "markdown",
   "metadata": {},
   "source": [
    "There exist open-source engines for parsing these files (such as [QuickFix](http://quickfixengine.org/quickfix/doc/html/)) but we can also do some simple parsing ourselves"
   ]
  },
  {
   "cell_type": "code",
   "execution_count": 2,
   "metadata": {
    "collapsed": false
   },
   "outputs": [
    {
     "name": "stdout",
     "output_type": "stream",
     "text": [
      "1128: 9\n",
      "9: 265\n",
      "35: X\n",
      "49: CME\n",
      "34: 10065111\n"
     ]
    }
   ],
   "source": [
    "field_values = [f.split(\"=\") for f in sample_line.split(\"\\x01\")]\n",
    "for fv in field_values[:5]:\n",
    "    print(\"{field_num}: {field_value}\".format(field_num=fv[0],\n",
    "                                              field_value=fv[1]))"
   ]
  },
  {
   "cell_type": "markdown",
   "metadata": {},
   "source": [
    "We can see what these field numbers mean by checking the official FIX spec, or more conveniently on [FIXimate](http://www.fixtradingcommunity.org/FIXimate/FIXimate3.0/)"
   ]
  },
  {
   "cell_type": "code",
   "execution_count": 3,
   "metadata": {
    "collapsed": true
   },
   "outputs": [],
   "source": [
    "useful_info_fields = {\n",
    "    '107': 'SecurityDesc',\n",
    "    '268': 'NoMDEntries', # number of entries\n",
    "    '269': 'MDEntryType', # 0=Bid, 1=Offer, 2=Trade\n",
    "    '270': 'MDEntryPx', # Price\n",
    "    '279': 'MDUpdateAction', \n",
    "    '35': 'MsgType',\n",
    "    '48': 'SecurityID',\n",
    "    '52': 'SendingTime',\n",
    "    '75': 'TradeDate',\n",
    "    # The following are trickier to parse due to repeating according to entry types\n",
    "    #'1020': 'TradeVolume',\n",
    "    #'1023': 'MDPriceLevel',\n",
    "    #'271': 'MDEntrySize', \n",
    "    #'277': 'TradeCondition', \n",
    "}"
   ]
  },
  {
   "cell_type": "markdown",
   "metadata": {},
   "source": [
    "Parsing FIX messages is tricky, because not every field has to be in every message, and because messages may comprise information for several market updates at once.  We can make an ugly and poor-performing parser as below.  Equivalents in R might do well to use the _hash_ package.\n",
    "\n",
    "Otherwise, we can make a better-performing one using [Rcpp](http://www.rcpp.org) for R, or [Weave](http://wiki.scipy.org/Weave) or [CFFI](http://python-cffi.org) for Python."
   ]
  },
  {
   "cell_type": "code",
   "execution_count": 4,
   "metadata": {
    "collapsed": false
   },
   "outputs": [
    {
     "data": {
      "text/plain": [
       "[{'MDEntryPx': '1775',\n",
       "  'MDEntryType': '1',\n",
       "  'MDUpdateAction': '2',\n",
       "  'MsgType': 'X',\n",
       "  'NoMDEntries': '2',\n",
       "  'SecurityDesc': 'ESV4 C1895',\n",
       "  'SecurityID': '656784',\n",
       "  'SendingTime': '20141013152659076',\n",
       "  'TradeDate': '20141013'},\n",
       " {'MDEntryPx': '1850',\n",
       "  'MDEntryType': '1',\n",
       "  'MDUpdateAction': '0',\n",
       "  'MsgType': 'X',\n",
       "  'NoMDEntries': '2',\n",
       "  'SecurityDesc': 'ESV4 C1895',\n",
       "  'SecurityID': '656784',\n",
       "  'SendingTime': '20141013152659076',\n",
       "  'TradeDate': '20141013'}]"
      ]
     },
     "execution_count": 4,
     "metadata": {},
     "output_type": "execute_result"
    }
   ],
   "source": [
    "def check_equal(iterator):\n",
    "    try:\n",
    "        iterator = iter(iterator)\n",
    "        first = next(iterator)\n",
    "        return all(first == rest for rest in iterator)\n",
    "    except StopIteration:\n",
    "        return True\n",
    "def fields_in(line):\n",
    "    \"\"\"\n",
    "    Parse a FIX message line into a list of dicts, each \n",
    "     one representing a market data update\n",
    "    \"\"\"\n",
    "    f = {}\n",
    "    group_count = None\n",
    "    observed_group_count = 1\n",
    "    field_values = [f.split(\"=\") for f in line.split(\"\\x01\") if f]\n",
    "    # Unused, but parse the official mkt update count\n",
    "    for field,field_value in field_values:\n",
    "        if field=='268':\n",
    "            group_count = int(field_value)\n",
    "    # Record field values\n",
    "    for field,field_value in field_values:\n",
    "        if field in useful_info_fields:\n",
    "            info_field = useful_info_fields[field]\n",
    "            if info_field in f:\n",
    "                if isinstance(f[info_field],list):\n",
    "                    # This field has already been given to us more than once.  Append to the list.\n",
    "                    f[info_field].append(field_value)\n",
    "                else:\n",
    "                    # We have seen this field before and now are seeing it a second time.  Turn it into\n",
    "                    #  a list\n",
    "                    existing = f[info_field]\n",
    "                    f[info_field] = [existing, field_value]\n",
    "            else:\n",
    "                # We never saw this field before.  Record its value.\n",
    "                f[info_field] = field_value\n",
    "    # Find out how many market updates this message contained\n",
    "    for field,field_value in f.items():\n",
    "        if isinstance(field_value,list):\n",
    "            if check_equal(field_value):\n",
    "                # Don't bother with cases where all updates had the same value\n",
    "                f[field] = field_value[0]\n",
    "            else:\n",
    "                # Differing values in updates.  Count them.\n",
    "                num_this_group = len(field_value)\n",
    "                # Safety check\n",
    "                if observed_group_count>1 and num_this_group!=observed_group_count:\n",
    "                    print(\"Surprise got %d not %d from %s=%s\\n%s\\n%s\\n-------------------------\"%(\n",
    "                            num_this_group,observed_group_count,field,field_value,\n",
    "                            ' | '.join(line.split(\"\\x01\")),\n",
    "                            ' | '.join(sorted(line.split(\"\\x01\"))),\n",
    "                        ))\n",
    "                else:\n",
    "                    observed_group_count = max(observed_group_count,num_this_group)\n",
    "    # Safety checks\n",
    "    for field,field_value in f.items():\n",
    "        if isinstance(field_value,list) and len(field_value)!=observed_group_count:\n",
    "            print(\"Error: saw %d values for %s but observed_group_count was %s\\n%s\"%(\n",
    "                len(field_value),field,observed_group_count,sorted(field_values) ))\n",
    "    # Create list of market updates from message field lists\n",
    "    if group_count and group_count>1:\n",
    "        gf = [f.copy() for i in range(group_count)]\n",
    "        for field,field_value in f.items():\n",
    "            if isinstance(field_value,list):\n",
    "                for j in range(group_count):\n",
    "                    gf[j][field] = field_value[j]\n",
    "    else:\n",
    "        gf = [f]\n",
    "    return gf\n",
    "fields_in(sample_line)"
   ]
  },
  {
   "cell_type": "markdown",
   "metadata": {},
   "source": [
    "Let's see what securities are priced in this file"
   ]
  },
  {
   "cell_type": "code",
   "execution_count": 5,
   "metadata": {
    "collapsed": false
   },
   "outputs": [
    {
     "data": {
      "text/plain": [
       "[(19, 'ESX4 P1865 - 543577'),\n",
       " (19, 'ESZ4 P1895 - 284860'),\n",
       " (20, 'ESV4 C1935 - 690557'),\n",
       " (21, 'ESV4 P1820 - 638458'),\n",
       " (23, 'ESV4 C1930 - 494457'),\n",
       " (23, 'ESV4 P1825 - 423660'),\n",
       " (25, 'ESV4 P1815 - 285361'),\n",
       " (27, 'ESM5 - 85974'),\n",
       " (28, 'ESV4 P1885 - 284903'),\n",
       " (107, 'ESH5 - 50393'),\n",
       " (1349, 'ESZ4 - 28095')]"
      ]
     },
     "execution_count": 5,
     "metadata": {},
     "output_type": "execute_result"
    }
   ],
   "source": [
    "import collections\n",
    "securities = collections.defaultdict(int)\n",
    "dict_lines = sum([fields_in(line) for line in data_lines],[])\n",
    "for d in dict_lines:\n",
    "    securities[(d['SecurityDesc'], d['SecurityID'])] += 1\n",
    "sorted([(v,' - '.join(k)) for k,v in securities.items()])[-11:]"
   ]
  },
  {
   "cell_type": "markdown",
   "metadata": {},
   "source": [
    "Timestamps are given in YYYYmmDDHHMMSSooo up to millisecond precision"
   ]
  },
  {
   "cell_type": "code",
   "execution_count": 6,
   "metadata": {
    "collapsed": false
   },
   "outputs": [
    {
     "data": {
      "text/plain": [
       "datetime.datetime(2015, 1, 1, 3, 4, 5, 678000)"
      ]
     },
     "execution_count": 6,
     "metadata": {},
     "output_type": "execute_result"
    }
   ],
   "source": [
    "import datetime \n",
    "def parse_timestamp(s):\n",
    "    dt_args = [int(x) for x in (s[:4],s[4:6],s[6:8],s[8:10],s[10:12],s[12:14],s[14:])]\n",
    "    dt_args[-1] *= 1000\n",
    "    return datetime.datetime(*tuple(dt_args))\n",
    "parse_timestamp('20150101030405678')"
   ]
  },
  {
   "cell_type": "markdown",
   "metadata": {},
   "source": [
    "### Extract And Plot Trade Price"
   ]
  },
  {
   "cell_type": "code",
   "execution_count": 7,
   "metadata": {
    "collapsed": false
   },
   "outputs": [
    {
     "data": {
      "text/html": [
       "<div style=\"max-height:1000px;max-width:1500px;overflow:auto;\">\n",
       "<table border=\"1\" class=\"dataframe\">\n",
       "  <thead>\n",
       "    <tr style=\"text-align: right;\">\n",
       "      <th></th>\n",
       "      <th>Trade</th>\n",
       "    </tr>\n",
       "    <tr>\n",
       "      <th>Timestamp</th>\n",
       "      <th></th>\n",
       "    </tr>\n",
       "  </thead>\n",
       "  <tbody>\n",
       "    <tr>\n",
       "      <th>2014-10-12 22:10:03.456000</th>\n",
       "      <td>1884.25</td>\n",
       "    </tr>\n",
       "    <tr>\n",
       "      <th>2014-10-13 00:45:55.711000</th>\n",
       "      <td>1885.50</td>\n",
       "    </tr>\n",
       "    <tr>\n",
       "      <th>2014-10-13 07:41:55.577000</th>\n",
       "      <td>1887.25</td>\n",
       "    </tr>\n",
       "    <tr>\n",
       "      <th>2014-10-13 07:41:55.577000</th>\n",
       "      <td>1887.25</td>\n",
       "    </tr>\n",
       "    <tr>\n",
       "      <th>2014-10-13 13:20:56.848000</th>\n",
       "      <td>1898.00</td>\n",
       "    </tr>\n",
       "    <tr>\n",
       "      <th>2014-10-13 13:20:56.848000</th>\n",
       "      <td>1898.00</td>\n",
       "    </tr>\n",
       "    <tr>\n",
       "      <th>2014-10-13 13:27:23.509000</th>\n",
       "      <td>1898.75</td>\n",
       "    </tr>\n",
       "    <tr>\n",
       "      <th>2014-10-13 13:54:57.579000</th>\n",
       "      <td>1894.25</td>\n",
       "    </tr>\n",
       "    <tr>\n",
       "      <th>2014-10-13 14:01:07.445000</th>\n",
       "      <td>1897.25</td>\n",
       "    </tr>\n",
       "    <tr>\n",
       "      <th>2014-10-13 14:02:31.806000</th>\n",
       "      <td>1897.00</td>\n",
       "    </tr>\n",
       "    <tr>\n",
       "      <th>2014-10-13 14:19:03.691000</th>\n",
       "      <td>1890.50</td>\n",
       "    </tr>\n",
       "    <tr>\n",
       "      <th>2014-10-13 14:19:03.691000</th>\n",
       "      <td>1890.50</td>\n",
       "    </tr>\n",
       "    <tr>\n",
       "      <th>2014-10-13 14:19:03.691000</th>\n",
       "      <td>1890.50</td>\n",
       "    </tr>\n",
       "    <tr>\n",
       "      <th>2014-10-13 14:19:03.691000</th>\n",
       "      <td>1890.50</td>\n",
       "    </tr>\n",
       "    <tr>\n",
       "      <th>2014-10-13 14:27:41.795000</th>\n",
       "      <td>1888.00</td>\n",
       "    </tr>\n",
       "    <tr>\n",
       "      <th>2014-10-13 14:46:27.799000</th>\n",
       "      <td>1885.75</td>\n",
       "    </tr>\n",
       "    <tr>\n",
       "      <th>2014-10-13 14:46:27.799000</th>\n",
       "      <td>1885.75</td>\n",
       "    </tr>\n",
       "    <tr>\n",
       "      <th>2014-10-13 14:57:29.881000</th>\n",
       "      <td>1893.00</td>\n",
       "    </tr>\n",
       "    <tr>\n",
       "      <th>2014-10-13 14:57:29.881000</th>\n",
       "      <td>1893.00</td>\n",
       "    </tr>\n",
       "    <tr>\n",
       "      <th>2014-10-13 14:57:29.881000</th>\n",
       "      <td>1893.00</td>\n",
       "    </tr>\n",
       "    <tr>\n",
       "      <th>2014-10-13 14:57:29.881000</th>\n",
       "      <td>1893.00</td>\n",
       "    </tr>\n",
       "    <tr>\n",
       "      <th>2014-10-13 14:57:29.881000</th>\n",
       "      <td>1893.00</td>\n",
       "    </tr>\n",
       "    <tr>\n",
       "      <th>2014-10-13 15:02:04.164000</th>\n",
       "      <td>1893.50</td>\n",
       "    </tr>\n",
       "    <tr>\n",
       "      <th>2014-10-13 15:08:26.187000</th>\n",
       "      <td>1896.00</td>\n",
       "    </tr>\n",
       "    <tr>\n",
       "      <th>2014-10-13 15:10:38.971000</th>\n",
       "      <td>1894.75</td>\n",
       "    </tr>\n",
       "    <tr>\n",
       "      <th>2014-10-13 15:10:38.971000</th>\n",
       "      <td>1894.75</td>\n",
       "    </tr>\n",
       "    <tr>\n",
       "      <th>2014-10-13 15:10:38.971000</th>\n",
       "      <td>1894.75</td>\n",
       "    </tr>\n",
       "    <tr>\n",
       "      <th>2014-10-13 15:10:38.971000</th>\n",
       "      <td>1894.75</td>\n",
       "    </tr>\n",
       "    <tr>\n",
       "      <th>2014-10-13 15:10:38.971000</th>\n",
       "      <td>1894.75</td>\n",
       "    </tr>\n",
       "    <tr>\n",
       "      <th>2014-10-13 15:10:38.971000</th>\n",
       "      <td>1894.75</td>\n",
       "    </tr>\n",
       "    <tr>\n",
       "      <th>...</th>\n",
       "      <td>...</td>\n",
       "    </tr>\n",
       "    <tr>\n",
       "      <th>2014-10-14 14:01:58.656000</th>\n",
       "      <td>1870.75</td>\n",
       "    </tr>\n",
       "    <tr>\n",
       "      <th>2014-10-14 14:01:58.656000</th>\n",
       "      <td>1870.75</td>\n",
       "    </tr>\n",
       "    <tr>\n",
       "      <th>2014-10-14 14:01:58.656000</th>\n",
       "      <td>1870.75</td>\n",
       "    </tr>\n",
       "    <tr>\n",
       "      <th>2014-10-14 14:01:58.656000</th>\n",
       "      <td>1870.75</td>\n",
       "    </tr>\n",
       "    <tr>\n",
       "      <th>2014-10-14 14:01:58.656000</th>\n",
       "      <td>1870.75</td>\n",
       "    </tr>\n",
       "    <tr>\n",
       "      <th>2014-10-14 14:01:58.656000</th>\n",
       "      <td>1870.75</td>\n",
       "    </tr>\n",
       "    <tr>\n",
       "      <th>2014-10-14 14:01:58.656000</th>\n",
       "      <td>1870.75</td>\n",
       "    </tr>\n",
       "    <tr>\n",
       "      <th>2014-10-14 14:01:58.656000</th>\n",
       "      <td>1870.75</td>\n",
       "    </tr>\n",
       "    <tr>\n",
       "      <th>2014-10-14 14:01:58.656000</th>\n",
       "      <td>1870.75</td>\n",
       "    </tr>\n",
       "    <tr>\n",
       "      <th>2014-10-14 14:09:50.536000</th>\n",
       "      <td>1877.00</td>\n",
       "    </tr>\n",
       "    <tr>\n",
       "      <th>2014-10-14 14:21:12.782000</th>\n",
       "      <td>1874.00</td>\n",
       "    </tr>\n",
       "    <tr>\n",
       "      <th>2014-10-14 14:21:12.782000</th>\n",
       "      <td>1874.00</td>\n",
       "    </tr>\n",
       "    <tr>\n",
       "      <th>2014-10-14 14:21:12.782000</th>\n",
       "      <td>1874.00</td>\n",
       "    </tr>\n",
       "    <tr>\n",
       "      <th>2014-10-14 14:21:12.782000</th>\n",
       "      <td>1874.00</td>\n",
       "    </tr>\n",
       "    <tr>\n",
       "      <th>2014-10-14 14:22:36.847000</th>\n",
       "      <td>1872.50</td>\n",
       "    </tr>\n",
       "    <tr>\n",
       "      <th>2014-10-14 14:37:14.592000</th>\n",
       "      <td>1874.50</td>\n",
       "    </tr>\n",
       "    <tr>\n",
       "      <th>2014-10-14 14:39:24.715000</th>\n",
       "      <td>1876.00</td>\n",
       "    </tr>\n",
       "    <tr>\n",
       "      <th>2014-10-14 14:39:24.715000</th>\n",
       "      <td>1876.00</td>\n",
       "    </tr>\n",
       "    <tr>\n",
       "      <th>2014-10-14 14:49:18.450000</th>\n",
       "      <td>1878.00</td>\n",
       "    </tr>\n",
       "    <tr>\n",
       "      <th>2014-10-14 14:49:18.450000</th>\n",
       "      <td>1878.00</td>\n",
       "    </tr>\n",
       "    <tr>\n",
       "      <th>2014-10-14 14:49:18.450000</th>\n",
       "      <td>1878.00</td>\n",
       "    </tr>\n",
       "    <tr>\n",
       "      <th>2014-10-14 14:49:18.450000</th>\n",
       "      <td>1878.00</td>\n",
       "    </tr>\n",
       "    <tr>\n",
       "      <th>2014-10-14 14:49:18.450000</th>\n",
       "      <td>1878.00</td>\n",
       "    </tr>\n",
       "    <tr>\n",
       "      <th>2014-10-14 14:49:18.450000</th>\n",
       "      <td>1878.00</td>\n",
       "    </tr>\n",
       "    <tr>\n",
       "      <th>2014-10-14 14:49:18.450000</th>\n",
       "      <td>1878.00</td>\n",
       "    </tr>\n",
       "    <tr>\n",
       "      <th>2014-10-14 14:49:18.450000</th>\n",
       "      <td>1878.00</td>\n",
       "    </tr>\n",
       "    <tr>\n",
       "      <th>2014-10-14 14:49:18.450000</th>\n",
       "      <td>1878.00</td>\n",
       "    </tr>\n",
       "    <tr>\n",
       "      <th>2014-10-14 14:49:18.450000</th>\n",
       "      <td>1878.00</td>\n",
       "    </tr>\n",
       "    <tr>\n",
       "      <th>2014-10-14 14:49:18.450000</th>\n",
       "      <td>1878.00</td>\n",
       "    </tr>\n",
       "    <tr>\n",
       "      <th>2014-10-14 14:49:18.450000</th>\n",
       "      <td>1878.00</td>\n",
       "    </tr>\n",
       "  </tbody>\n",
       "</table>\n",
       "<p>119 rows × 1 columns</p>\n",
       "</div>"
      ],
      "text/plain": [
       "                              Trade\n",
       "Timestamp                          \n",
       "2014-10-12 22:10:03.456000  1884.25\n",
       "2014-10-13 00:45:55.711000  1885.50\n",
       "2014-10-13 07:41:55.577000  1887.25\n",
       "2014-10-13 07:41:55.577000  1887.25\n",
       "2014-10-13 13:20:56.848000  1898.00\n",
       "2014-10-13 13:20:56.848000  1898.00\n",
       "2014-10-13 13:27:23.509000  1898.75\n",
       "2014-10-13 13:54:57.579000  1894.25\n",
       "2014-10-13 14:01:07.445000  1897.25\n",
       "2014-10-13 14:02:31.806000  1897.00\n",
       "2014-10-13 14:19:03.691000  1890.50\n",
       "2014-10-13 14:19:03.691000  1890.50\n",
       "2014-10-13 14:19:03.691000  1890.50\n",
       "2014-10-13 14:19:03.691000  1890.50\n",
       "2014-10-13 14:27:41.795000  1888.00\n",
       "2014-10-13 14:46:27.799000  1885.75\n",
       "2014-10-13 14:46:27.799000  1885.75\n",
       "2014-10-13 14:57:29.881000  1893.00\n",
       "2014-10-13 14:57:29.881000  1893.00\n",
       "2014-10-13 14:57:29.881000  1893.00\n",
       "2014-10-13 14:57:29.881000  1893.00\n",
       "2014-10-13 14:57:29.881000  1893.00\n",
       "2014-10-13 15:02:04.164000  1893.50\n",
       "2014-10-13 15:08:26.187000  1896.00\n",
       "2014-10-13 15:10:38.971000  1894.75\n",
       "2014-10-13 15:10:38.971000  1894.75\n",
       "2014-10-13 15:10:38.971000  1894.75\n",
       "2014-10-13 15:10:38.971000  1894.75\n",
       "2014-10-13 15:10:38.971000  1894.75\n",
       "2014-10-13 15:10:38.971000  1894.75\n",
       "...                             ...\n",
       "2014-10-14 14:01:58.656000  1870.75\n",
       "2014-10-14 14:01:58.656000  1870.75\n",
       "2014-10-14 14:01:58.656000  1870.75\n",
       "2014-10-14 14:01:58.656000  1870.75\n",
       "2014-10-14 14:01:58.656000  1870.75\n",
       "2014-10-14 14:01:58.656000  1870.75\n",
       "2014-10-14 14:01:58.656000  1870.75\n",
       "2014-10-14 14:01:58.656000  1870.75\n",
       "2014-10-14 14:01:58.656000  1870.75\n",
       "2014-10-14 14:09:50.536000  1877.00\n",
       "2014-10-14 14:21:12.782000  1874.00\n",
       "2014-10-14 14:21:12.782000  1874.00\n",
       "2014-10-14 14:21:12.782000  1874.00\n",
       "2014-10-14 14:21:12.782000  1874.00\n",
       "2014-10-14 14:22:36.847000  1872.50\n",
       "2014-10-14 14:37:14.592000  1874.50\n",
       "2014-10-14 14:39:24.715000  1876.00\n",
       "2014-10-14 14:39:24.715000  1876.00\n",
       "2014-10-14 14:49:18.450000  1878.00\n",
       "2014-10-14 14:49:18.450000  1878.00\n",
       "2014-10-14 14:49:18.450000  1878.00\n",
       "2014-10-14 14:49:18.450000  1878.00\n",
       "2014-10-14 14:49:18.450000  1878.00\n",
       "2014-10-14 14:49:18.450000  1878.00\n",
       "2014-10-14 14:49:18.450000  1878.00\n",
       "2014-10-14 14:49:18.450000  1878.00\n",
       "2014-10-14 14:49:18.450000  1878.00\n",
       "2014-10-14 14:49:18.450000  1878.00\n",
       "2014-10-14 14:49:18.450000  1878.00\n",
       "2014-10-14 14:49:18.450000  1878.00\n",
       "\n",
       "[119 rows x 1 columns]"
      ]
     },
     "execution_count": 7,
     "metadata": {},
     "output_type": "execute_result"
    }
   ],
   "source": [
    "import pandas as pd\n",
    "december_contract_trade_prices_list = []\n",
    "for line in data_lines:\n",
    "    fields_list = fields_in(line)\n",
    "    for fields in fields_list:\n",
    "        if 'ESZ4'==fields.get('SecurityDesc') and '2'==fields.get('MDEntryType'):\n",
    "            price_observed = 0.01*float(fields['MDEntryPx'])\n",
    "            t = parse_timestamp(fields['SendingTime'])\n",
    "            december_contract_trade_prices_list.append((t,price_observed))\n",
    "december_contract_trade_prices_frame = pd.DataFrame(december_contract_trade_prices_list,\n",
    "                                              columns=(\"Timestamp\",\"Trade\"))\n",
    "december_contract_trade_prices_frame.set_index([\"Timestamp\"], inplace=True)\n",
    "december_contract_trade_prices = december_contract_trade_prices_frame[\"Trade\"]\n",
    "december_contract_trade_prices_frame"
   ]
  },
  {
   "cell_type": "code",
   "execution_count": 8,
   "metadata": {
    "collapsed": false
   },
   "outputs": [
    {
     "data": {
      "image/png": "[encoded data removed]",
      "text/plain": [
       "<matplotlib.figure.Figure at 0x107dcb278>"
      ]
     },
     "metadata": {},
     "output_type": "display_data"
    }
   ],
   "source": [
    "%matplotlib inline\n",
    "import matplotlib.pyplot as plt\n",
    "december_contract_trade_prices.plot(marker='o', title=\"Dec Contract Prices\")\n",
    "lab = plt.ylabel(\"$\")"
   ]
  },
  {
   "cell_type": "markdown",
   "metadata": {},
   "source": [
    "### Full-Density Data"
   ]
  },
  {
   "cell_type": "markdown",
   "metadata": {},
   "source": [
    "We can load data from a denser file (but have to be careful with memory and CPU time).  To avoid running out of memory, we stream the file and record data only from those lines that are relevant to us.\n",
    "\n",
    "If we are careful we can also use _gzcat_ and _fgrep_ to cut down our file to mostly relevant lines before processing it in code.  For example\n",
    "\n",
    "```\n",
    "gzcat _big_file_ | fgrep 48=28095 | fgrep 269=2 > _smaller_file_\n",
    "```"
   ]
  },
  {
   "cell_type": "code",
   "execution_count": 9,
   "metadata": {
    "collapsed": false
   },
   "outputs": [],
   "source": [
    "import gzip\n",
    "def get_dense(desc,subsample_file):\n",
    "    dense_trade_prices_list = []\n",
    "    N = 0\n",
    "    with gzip.open(subsample_file,\"rt\") as ssfile:\n",
    "        for line in ssfile:\n",
    "            fields_list = fields_in(line.strip())\n",
    "            for fields in fields_list:\n",
    "                if desc==fields.get('SecurityDesc') and '2'==fields.get('MDEntryType'):\n",
    "                    price_observed = 0.01*float(fields['MDEntryPx'])\n",
    "                    t = parse_timestamp(fields['SendingTime'])\n",
    "                    dense_trade_prices_list.append((t,price_observed))\n",
    "                    N += 1\n",
    "    print(\"Found %d\"%N)\n",
    "    return dense_trade_prices_list"
   ]
  },
  {
   "cell_type": "code",
   "execution_count": 10,
   "metadata": {
    "collapsed": false
   },
   "outputs": [],
   "source": [
    "def get_dense_frame(desc,subsample_file):\n",
    "    dense_list = get_dense(desc,subsample_file)\n",
    "    dense_frame = pd.DataFrame(dense_list,\n",
    "                                    columns=(\"Timestamp\",\"Trade\"))\n",
    "    dense_frame.set_index([\"Timestamp\"], inplace=True)\n",
    "    dense_prices = dense_frame[\"Trade\"]\n",
    "    return dense_prices"
   ]
  },
  {
   "cell_type": "markdown",
   "metadata": {},
   "source": [
    "Now we can plot the futures trades over this period of time"
   ]
  },
  {
   "cell_type": "code",
   "execution_count": 11,
   "metadata": {
    "collapsed": false
   },
   "outputs": [
    {
     "name": "stdout",
     "output_type": "stream",
     "text": [
      "Found 1422524\n"
     ]
    }
   ],
   "source": [
    "big_subsample_file = \"/Users/brian/SkyDrive/data/HF/subsamples/Dense_Emini_Trades.gz\"\n",
    "dense_trade_prices = get_dense_frame(desc='ESZ4',\n",
    "                                     subsample_file=big_subsample_file)\n"
   ]
  },
  {
   "cell_type": "code",
   "execution_count": 12,
   "metadata": {
    "collapsed": false
   },
   "outputs": [
    {
     "name": "stdout",
     "output_type": "stream",
     "text": [
      "2014-10-12 22:00:00.069000\n",
      "2014-10-14 14:56:19.861000\n"
     ]
    },
    {
     "data": {
      "image/png": "[encoded data removed]",
      "text/plain": [
       "<matplotlib.figure.Figure at 0x109b14160>"
      ]
     },
     "metadata": {},
     "output_type": "display_data"
    }
   ],
   "source": [
    "print(dense_trade_prices.index[0])\n",
    "print(dense_trade_prices.index[-1])\n",
    "dense_trade_prices.describe()\n",
    "dense_trade_prices.plot(title=\"Dec Contract Prices\")\n",
    "lab = plt.ylabel(\"$\")"
   ]
  },
  {
   "cell_type": "markdown",
   "metadata": {},
   "source": [
    "We see more market microstructure when we zoom in"
   ]
  },
  {
   "cell_type": "code",
   "execution_count": 13,
   "metadata": {
    "collapsed": false
   },
   "outputs": [
    {
     "data": {
      "image/png": "[encoded data removed]",
      "text/plain": [
       "<matplotlib.figure.Figure at 0x109b14278>"
      ]
     },
     "metadata": {},
     "output_type": "display_data"
    }
   ],
   "source": [
    "dense_trade_prices.iloc[-1000:-950].plot(title=\"Dec Contract Prices\", \n",
    "                                         style='o')\n",
    "lab = plt.ylabel(\"$\")"
   ]
  },
  {
   "cell_type": "markdown",
   "metadata": {},
   "source": [
    "There are not as many option trades, so it is reasonable to plot all of them for the entire month"
   ]
  },
  {
   "cell_type": "code",
   "execution_count": 14,
   "metadata": {
    "collapsed": false
   },
   "outputs": [
    {
     "name": "stdout",
     "output_type": "stream",
     "text": [
      "Found 171\n"
     ]
    },
    {
     "data": {
      "text/plain": [
       "(171,)"
      ]
     },
     "execution_count": 14,
     "metadata": {},
     "output_type": "execute_result"
    }
   ],
   "source": [
    "opt_subsample_file = \"/Users/brian/SkyDrive/data/HF/subsamples/All_Dense_Emini_C1890_Trades.gz\"\n",
    "dense_opt_prices = get_dense_frame(desc='ESX4 C1890',\n",
    "                                     subsample_file=opt_subsample_file)\n",
    "dense_opt_prices.shape"
   ]
  },
  {
   "cell_type": "code",
   "execution_count": 15,
   "metadata": {
    "collapsed": false
   },
   "outputs": [
    {
     "data": {
      "image/png": "[encoded data removed]",
      "text/plain": [
       "<matplotlib.figure.Figure at 0x113982b00>"
      ]
     },
     "metadata": {},
     "output_type": "display_data"
    }
   ],
   "source": [
    "dense_opt_prices.plot(title=\"Nov 1890 Call Trade Prices\", \n",
    "                      style=\"o\", \n",
    "                      markerfacecolor='none', markeredgecolor='green',\n",
    "                     markersize=15)\n",
    "lab = plt.ylabel(\"$\")"
   ]
  },
  {
   "cell_type": "markdown",
   "metadata": {},
   "source": [
    "Highest-volume Nov option contracts in our tiny subsample"
   ]
  },
  {
   "cell_type": "code",
   "execution_count": 16,
   "metadata": {
    "collapsed": false
   },
   "outputs": [
    {
     "data": {
      "text/plain": [
       "[(13, 'ESX4 P1805 - 248672'),\n",
       " (13, 'ESX4 P1875 - 735682'),\n",
       " (14, 'ESX4 C1890 - 364443'),\n",
       " (14, 'ESX4 P1815 - 15681'),\n",
       " (15, 'ESX4 C1900 - 433070'),\n",
       " (15, 'ESX4 C1920 - 517370'),\n",
       " (15, 'ESX4 C1925 - 158578'),\n",
       " (17, 'ESX4 P1850 - 330939'),\n",
       " (19, 'ESX4 C1905 - 661381'),\n",
       " (19, 'ESX4 P1860 - 91071'),\n",
       " (19, 'ESX4 P1865 - 543577')]"
      ]
     },
     "execution_count": 16,
     "metadata": {},
     "output_type": "execute_result"
    }
   ],
   "source": [
    "sorted([(v,' - '.join(k)) for k,v in securities.items() if k[0].startswith('ESX4')])[-11:]"
   ]
  },
  {
   "cell_type": "code",
   "execution_count": 18,
   "metadata": {
    "collapsed": false
   },
   "outputs": [
    {
     "name": "stdout",
     "output_type": "stream",
     "text": [
      "Found 259\n"
     ]
    }
   ],
   "source": [
    "dense_opt_prices = get_dense_frame(desc='ESX4 P1865',\n",
    "                                     subsample_file=\"/tmp/TradeP1865.gz\")"
   ]
  },
  {
   "cell_type": "code",
   "execution_count": 19,
   "metadata": {
    "collapsed": false
   },
   "outputs": [
    {
     "data": {
      "text/plain": [
       "Timestamp\n",
       "2014-09-29 08:55:06.185000    16.00\n",
       "2014-09-29 09:10:09.976000    16.00\n",
       "2014-09-29 12:52:40.279000    18.00\n",
       "2014-09-29 18:05:13.096000    16.00\n",
       "2014-09-30 10:25:34.301000    14.25\n",
       "2014-09-30 10:33:58.030000    14.25\n",
       "2014-09-30 13:45:39.363000    16.25\n",
       "2014-10-06 12:30:10.234000    11.50\n",
       "2014-10-06 12:32:14.801000    11.50\n",
       "2014-10-06 14:06:27.884000    11.50\n",
       "2014-10-06 14:45:37.271000    12.00\n",
       "2014-10-06 14:45:37.271000    12.00\n",
       "2014-10-06 14:50:58.112000    13.00\n",
       "2014-10-06 15:55:45.609000    15.25\n",
       "2014-10-06 15:55:47.752000    15.25\n",
       "2014-10-06 15:55:50.293000    15.25\n",
       "2014-10-06 16:00:24.929000    15.00\n",
       "2014-10-07 13:05:41.315000    15.50\n",
       "2014-10-07 13:31:46.949000    17.50\n",
       "2014-10-07 13:48:17.631000    18.50\n",
       "2014-10-07 15:35:36.041000    18.50\n",
       "2014-10-07 15:35:36.042000    18.50\n",
       "2014-10-07 15:35:36.042000    18.50\n",
       "2014-10-07 15:35:36.042000    18.50\n",
       "2014-10-07 15:35:36.042000    18.50\n",
       "2014-10-07 15:35:37.201000    18.50\n",
       "2014-10-07 15:35:37.201000    18.50\n",
       "2014-10-07 15:35:37.201000    18.50\n",
       "2014-10-07 15:35:37.202000    18.50\n",
       "2014-10-07 15:35:37.202000    18.50\n",
       "                              ...  \n",
       "2014-10-27 19:49:30.907000     9.00\n",
       "2014-10-27 19:53:42.121000     9.00\n",
       "2014-10-27 19:53:42.121000     9.00\n",
       "2014-10-28 09:04:56.401000     6.25\n",
       "2014-10-28 09:08:23.589000     7.00\n",
       "2014-10-28 12:10:16.204000     6.50\n",
       "2014-10-28 13:43:25.846000     7.00\n",
       "2014-10-28 14:08:05.792000     6.75\n",
       "2014-10-28 14:09:40.958000     7.00\n",
       "2014-10-28 14:21:53.469000     7.25\n",
       "2014-10-28 14:32:16.768000     7.50\n",
       "2014-10-28 14:40:12.632000     7.00\n",
       "2014-10-28 15:25:36.596000     6.60\n",
       "2014-10-28 16:15:47.671000     7.00\n",
       "2014-10-28 16:15:47.677000     7.00\n",
       "2014-10-28 18:10:21.739000     6.25\n",
       "2014-10-28 18:27:09.430000     6.00\n",
       "2014-10-28 18:33:34.258000     6.00\n",
       "2014-10-28 18:38:42.559000     6.00\n",
       "2014-10-28 19:02:19.640000     5.50\n",
       "2014-10-28 19:06:17.903000     5.25\n",
       "2014-10-28 19:15:37.565000     5.25\n",
       "2014-10-28 19:17:05.349000     5.25\n",
       "2014-10-28 19:19:53.081000     5.25\n",
       "2014-10-28 19:24:12.335000     5.25\n",
       "2014-10-28 19:32:19.461000     4.70\n",
       "2014-10-28 19:32:19.461000     4.70\n",
       "2014-10-28 19:44:42.068000     4.90\n",
       "2014-10-28 19:44:42.068000     4.90\n",
       "2014-10-28 19:46:07.727000     5.00\n",
       "Name: Trade, dtype: float64"
      ]
     },
     "execution_count": 19,
     "metadata": {},
     "output_type": "execute_result"
    }
   ],
   "source": [
    "dense_opt_prices"
   ]
  },
  {
   "cell_type": "code",
   "execution_count": null,
   "metadata": {
    "collapsed": true
   },
   "outputs": [],
   "source": []
  }
 ],
 "metadata": {
  "kernelspec": {
   "display_name": "Python 3",
   "language": "python",
   "name": "python3"
  },
  "language_info": {
   "codemirror_mode": {
    "name": "ipython",
    "version": 3
   },
   "file_extension": ".py",
   "mimetype": "text/x-python",
   "name": "python",
   "nbconvert_exporter": "python",
   "pygments_lexer": "ipython3",
   "version": "3.5.1"
  }
 },
 "nbformat": 4,
 "nbformat_minor": 0
}
