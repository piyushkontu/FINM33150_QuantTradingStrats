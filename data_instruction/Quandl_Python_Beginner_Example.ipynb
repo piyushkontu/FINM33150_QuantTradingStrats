{
 "cells": [
  {
   "cell_type": "markdown",
   "metadata": {},
   "source": [
    "# Using Python With Quandl Data"
   ]
  },
  {
   "cell_type": "markdown",
   "metadata": {},
   "source": [
    "### Preliminaries"
   ]
  },
  {
   "cell_type": "markdown",
   "metadata": {},
   "source": [
    "We want plots to appear in this notebook rather than in a separate window."
   ]
  },
  {
   "cell_type": "code",
   "execution_count": 1,
   "metadata": {
    "ExecuteTime": {
     "end_time": "2021-03-30T15:35:10.128546Z",
     "start_time": "2021-03-30T15:35:09.752584Z"
    }
   },
   "outputs": [],
   "source": [
    "%matplotlib inline"
   ]
  },
  {
   "cell_type": "markdown",
   "metadata": {},
   "source": [
    "Import Python modules to support our research.  If you are using _Anaconda_ then you may need to run _conda install seaborn_ and similar commands."
   ]
  },
  {
   "cell_type": "code",
   "execution_count": 10,
   "metadata": {
    "ExecuteTime": {
     "end_time": "2021-03-30T15:35:41.532994Z",
     "start_time": "2021-03-30T15:35:41.530344Z"
    }
   },
   "outputs": [],
   "source": [
    "import matplotlib.pyplot as plt\n",
    "import pandas as pd\n",
    "import numpy as np\n",
    "import scipy as sp\n",
    "import quandl\n",
    "import functools\n",
    "import seaborn as sns\n",
    "import plotnine as p9"
   ]
  },
  {
   "cell_type": "markdown",
   "metadata": {},
   "source": [
    "### Load the Data"
   ]
  },
  {
   "cell_type": "markdown",
   "metadata": {},
   "source": [
    "\n",
    "We are likely to run this notebook over and over, so we add memoizaiton to the data loading function. This makes testing and re-running our code far faster, and even lets us work offline.  Note that if we change the code inside our function, we may get unexpectedly stale results out of the cache!"
   ]
  },
  {
   "cell_type": "code",
   "execution_count": 3,
   "metadata": {
    "ExecuteTime": {
     "end_time": "2021-03-30T15:35:10.841607Z",
     "start_time": "2021-03-30T15:35:10.836720Z"
    }
   },
   "outputs": [
    {
     "name": "stdout",
     "output_type": "stream",
     "text": [
      "fetch_quandl has now been newly defined\n"
     ]
    }
   ],
   "source": [
    "try:\n",
    "    # Do not recreate if it already exists\n",
    "    fetch_quandl\n",
    "    print(\"fetch_quandl already defined\")\n",
    "except NameError:\n",
    "    @functools.lru_cache(maxsize=16)\n",
    "    def fetch_quandl(my_securities):\n",
    "        print(\"Fetching from Quandl\")\n",
    "        qdata = quandl.get(list(my_securities), returns=\"pandas\",\n",
    "                          api_key=BrianBoonstraPrivateKeys['Quandl'],\n",
    "                          start_date='1985-01-02', end_date='2018-03-02')\n",
    "        return qdata\n",
    "    print(\"fetch_quandl has now been newly defined\")"
   ]
  },
  {
   "cell_type": "code",
   "execution_count": 4,
   "metadata": {
    "ExecuteTime": {
     "end_time": "2021-03-30T15:35:14.930327Z",
     "start_time": "2021-03-30T15:35:10.844556Z"
    }
   },
   "outputs": [
    {
     "name": "stdout",
     "output_type": "stream",
     "text": [
      "Fetching from Quandl\n"
     ]
    }
   ],
   "source": [
    "raw_data = fetch_quandl(('WIKI/XOM', \"NSE/OIL\"))\n"
   ]
  },
  {
   "cell_type": "markdown",
   "metadata": {},
   "source": [
    "### See what we downloaded"
   ]
  },
  {
   "cell_type": "code",
   "execution_count": 5,
   "metadata": {
    "ExecuteTime": {
     "end_time": "2021-03-30T15:35:14.953174Z",
     "start_time": "2021-03-30T15:35:14.931755Z"
    }
   },
   "outputs": [
    {
     "data": {
      "text/html": [
       "<div>\n",
       "<style scoped>\n",
       "    .dataframe tbody tr th:only-of-type {\n",
       "        vertical-align: middle;\n",
       "    }\n",
       "\n",
       "    .dataframe tbody tr th {\n",
       "        vertical-align: top;\n",
       "    }\n",
       "\n",
       "    .dataframe thead th {\n",
       "        text-align: right;\n",
       "    }\n",
       "</style>\n",
       "<table border=\"1\" class=\"dataframe\">\n",
       "  <thead>\n",
       "    <tr style=\"text-align: right;\">\n",
       "      <th></th>\n",
       "      <th>WIKI/XOM - Open</th>\n",
       "      <th>WIKI/XOM - High</th>\n",
       "      <th>WIKI/XOM - Low</th>\n",
       "      <th>WIKI/XOM - Close</th>\n",
       "      <th>WIKI/XOM - Volume</th>\n",
       "      <th>WIKI/XOM - Ex-Dividend</th>\n",
       "      <th>WIKI/XOM - Split Ratio</th>\n",
       "      <th>WIKI/XOM - Adj. Open</th>\n",
       "      <th>WIKI/XOM - Adj. High</th>\n",
       "      <th>WIKI/XOM - Adj. Low</th>\n",
       "      <th>WIKI/XOM - Adj. Close</th>\n",
       "      <th>WIKI/XOM - Adj. Volume</th>\n",
       "      <th>NSE/OIL - Open</th>\n",
       "      <th>NSE/OIL - High</th>\n",
       "      <th>NSE/OIL - Low</th>\n",
       "      <th>NSE/OIL - Last</th>\n",
       "      <th>NSE/OIL - Close</th>\n",
       "      <th>NSE/OIL - Total Trade Quantity</th>\n",
       "      <th>NSE/OIL - Turnover (Lacs)</th>\n",
       "    </tr>\n",
       "    <tr>\n",
       "      <th>Date</th>\n",
       "      <th></th>\n",
       "      <th></th>\n",
       "      <th></th>\n",
       "      <th></th>\n",
       "      <th></th>\n",
       "      <th></th>\n",
       "      <th></th>\n",
       "      <th></th>\n",
       "      <th></th>\n",
       "      <th></th>\n",
       "      <th></th>\n",
       "      <th></th>\n",
       "      <th></th>\n",
       "      <th></th>\n",
       "      <th></th>\n",
       "      <th></th>\n",
       "      <th></th>\n",
       "      <th></th>\n",
       "      <th></th>\n",
       "    </tr>\n",
       "  </thead>\n",
       "  <tbody>\n",
       "    <tr>\n",
       "      <th>2018-02-26</th>\n",
       "      <td>77.74</td>\n",
       "      <td>78.9300</td>\n",
       "      <td>77.560</td>\n",
       "      <td>78.84</td>\n",
       "      <td>16733474.0</td>\n",
       "      <td>0.0</td>\n",
       "      <td>1.0</td>\n",
       "      <td>77.74</td>\n",
       "      <td>78.9300</td>\n",
       "      <td>77.560</td>\n",
       "      <td>78.84</td>\n",
       "      <td>16733474.0</td>\n",
       "      <td>348.65</td>\n",
       "      <td>352.00</td>\n",
       "      <td>346.85</td>\n",
       "      <td>348.70</td>\n",
       "      <td>348.95</td>\n",
       "      <td>401920.0</td>\n",
       "      <td>1402.02</td>\n",
       "    </tr>\n",
       "    <tr>\n",
       "      <th>2018-02-27</th>\n",
       "      <td>79.00</td>\n",
       "      <td>79.8700</td>\n",
       "      <td>77.500</td>\n",
       "      <td>77.50</td>\n",
       "      <td>14420126.0</td>\n",
       "      <td>0.0</td>\n",
       "      <td>1.0</td>\n",
       "      <td>79.00</td>\n",
       "      <td>79.8700</td>\n",
       "      <td>77.500</td>\n",
       "      <td>77.50</td>\n",
       "      <td>14420126.0</td>\n",
       "      <td>351.00</td>\n",
       "      <td>354.20</td>\n",
       "      <td>346.70</td>\n",
       "      <td>348.35</td>\n",
       "      <td>349.15</td>\n",
       "      <td>394689.0</td>\n",
       "      <td>1384.82</td>\n",
       "    </tr>\n",
       "    <tr>\n",
       "      <th>2018-02-28</th>\n",
       "      <td>78.16</td>\n",
       "      <td>78.2500</td>\n",
       "      <td>75.700</td>\n",
       "      <td>75.74</td>\n",
       "      <td>16453545.0</td>\n",
       "      <td>0.0</td>\n",
       "      <td>1.0</td>\n",
       "      <td>78.16</td>\n",
       "      <td>78.2500</td>\n",
       "      <td>75.700</td>\n",
       "      <td>75.74</td>\n",
       "      <td>16453545.0</td>\n",
       "      <td>347.00</td>\n",
       "      <td>350.35</td>\n",
       "      <td>345.50</td>\n",
       "      <td>349.50</td>\n",
       "      <td>349.85</td>\n",
       "      <td>409813.0</td>\n",
       "      <td>1427.33</td>\n",
       "    </tr>\n",
       "    <tr>\n",
       "      <th>2018-03-01</th>\n",
       "      <td>75.53</td>\n",
       "      <td>76.6808</td>\n",
       "      <td>74.855</td>\n",
       "      <td>75.20</td>\n",
       "      <td>15696665.0</td>\n",
       "      <td>0.0</td>\n",
       "      <td>1.0</td>\n",
       "      <td>75.53</td>\n",
       "      <td>76.6808</td>\n",
       "      <td>74.855</td>\n",
       "      <td>75.20</td>\n",
       "      <td>15696665.0</td>\n",
       "      <td>349.45</td>\n",
       "      <td>351.80</td>\n",
       "      <td>345.05</td>\n",
       "      <td>349.55</td>\n",
       "      <td>349.75</td>\n",
       "      <td>339238.0</td>\n",
       "      <td>1184.83</td>\n",
       "    </tr>\n",
       "    <tr>\n",
       "      <th>2018-03-02</th>\n",
       "      <td>74.89</td>\n",
       "      <td>75.8700</td>\n",
       "      <td>74.480</td>\n",
       "      <td>75.55</td>\n",
       "      <td>15630250.0</td>\n",
       "      <td>0.0</td>\n",
       "      <td>1.0</td>\n",
       "      <td>74.89</td>\n",
       "      <td>75.8700</td>\n",
       "      <td>74.480</td>\n",
       "      <td>75.55</td>\n",
       "      <td>15630250.0</td>\n",
       "      <td>NaN</td>\n",
       "      <td>NaN</td>\n",
       "      <td>NaN</td>\n",
       "      <td>NaN</td>\n",
       "      <td>NaN</td>\n",
       "      <td>NaN</td>\n",
       "      <td>NaN</td>\n",
       "    </tr>\n",
       "  </tbody>\n",
       "</table>\n",
       "</div>"
      ],
      "text/plain": [
       "            WIKI/XOM - Open  WIKI/XOM - High  WIKI/XOM - Low  \\\n",
       "Date                                                           \n",
       "2018-02-26            77.74          78.9300          77.560   \n",
       "2018-02-27            79.00          79.8700          77.500   \n",
       "2018-02-28            78.16          78.2500          75.700   \n",
       "2018-03-01            75.53          76.6808          74.855   \n",
       "2018-03-02            74.89          75.8700          74.480   \n",
       "\n",
       "            WIKI/XOM - Close  WIKI/XOM - Volume  WIKI/XOM - Ex-Dividend  \\\n",
       "Date                                                                      \n",
       "2018-02-26             78.84         16733474.0                     0.0   \n",
       "2018-02-27             77.50         14420126.0                     0.0   \n",
       "2018-02-28             75.74         16453545.0                     0.0   \n",
       "2018-03-01             75.20         15696665.0                     0.0   \n",
       "2018-03-02             75.55         15630250.0                     0.0   \n",
       "\n",
       "            WIKI/XOM - Split Ratio  WIKI/XOM - Adj. Open  \\\n",
       "Date                                                       \n",
       "2018-02-26                     1.0                 77.74   \n",
       "2018-02-27                     1.0                 79.00   \n",
       "2018-02-28                     1.0                 78.16   \n",
       "2018-03-01                     1.0                 75.53   \n",
       "2018-03-02                     1.0                 74.89   \n",
       "\n",
       "            WIKI/XOM - Adj. High  WIKI/XOM - Adj. Low  WIKI/XOM - Adj. Close  \\\n",
       "Date                                                                           \n",
       "2018-02-26               78.9300               77.560                  78.84   \n",
       "2018-02-27               79.8700               77.500                  77.50   \n",
       "2018-02-28               78.2500               75.700                  75.74   \n",
       "2018-03-01               76.6808               74.855                  75.20   \n",
       "2018-03-02               75.8700               74.480                  75.55   \n",
       "\n",
       "            WIKI/XOM - Adj. Volume  NSE/OIL - Open  NSE/OIL - High  \\\n",
       "Date                                                                 \n",
       "2018-02-26              16733474.0          348.65          352.00   \n",
       "2018-02-27              14420126.0          351.00          354.20   \n",
       "2018-02-28              16453545.0          347.00          350.35   \n",
       "2018-03-01              15696665.0          349.45          351.80   \n",
       "2018-03-02              15630250.0             NaN             NaN   \n",
       "\n",
       "            NSE/OIL - Low  NSE/OIL - Last  NSE/OIL - Close  \\\n",
       "Date                                                         \n",
       "2018-02-26         346.85          348.70           348.95   \n",
       "2018-02-27         346.70          348.35           349.15   \n",
       "2018-02-28         345.50          349.50           349.85   \n",
       "2018-03-01         345.05          349.55           349.75   \n",
       "2018-03-02            NaN             NaN              NaN   \n",
       "\n",
       "            NSE/OIL - Total Trade Quantity  NSE/OIL - Turnover (Lacs)  \n",
       "Date                                                                   \n",
       "2018-02-26                        401920.0                    1402.02  \n",
       "2018-02-27                        394689.0                    1384.82  \n",
       "2018-02-28                        409813.0                    1427.33  \n",
       "2018-03-01                        339238.0                    1184.83  \n",
       "2018-03-02                             NaN                        NaN  "
      ]
     },
     "execution_count": 5,
     "metadata": {},
     "output_type": "execute_result"
    }
   ],
   "source": [
    "raw_data.tail()"
   ]
  },
  {
   "cell_type": "markdown",
   "metadata": {},
   "source": [
    "It needs cleaning!"
   ]
  },
  {
   "cell_type": "markdown",
   "metadata": {},
   "source": [
    "### Common Quant Task: Massaging The Data"
   ]
  },
  {
   "cell_type": "markdown",
   "metadata": {},
   "source": [
    "Here we create a function that cleans up column names in our data, for better-looking plot labels and plot specifications"
   ]
  },
  {
   "cell_type": "code",
   "execution_count": 6,
   "metadata": {
    "ExecuteTime": {
     "end_time": "2021-03-30T15:35:14.978165Z",
     "start_time": "2021-03-30T15:35:14.954821Z"
    }
   },
   "outputs": [
    {
     "data": {
      "text/html": [
       "<div>\n",
       "<style scoped>\n",
       "    .dataframe tbody tr th:only-of-type {\n",
       "        vertical-align: middle;\n",
       "    }\n",
       "\n",
       "    .dataframe tbody tr th {\n",
       "        vertical-align: top;\n",
       "    }\n",
       "\n",
       "    .dataframe thead th {\n",
       "        text-align: right;\n",
       "    }\n",
       "</style>\n",
       "<table border=\"1\" class=\"dataframe\">\n",
       "  <thead>\n",
       "    <tr style=\"text-align: right;\">\n",
       "      <th></th>\n",
       "      <th>XOM:Open</th>\n",
       "      <th>XOM:High</th>\n",
       "      <th>XOM:Low</th>\n",
       "      <th>XOM:Close</th>\n",
       "      <th>XOM:Volume</th>\n",
       "      <th>XOM:Ex-Dividend</th>\n",
       "      <th>XOM:Split Ratio</th>\n",
       "      <th>XOM:Adj. Open</th>\n",
       "      <th>XOM:Adj. High</th>\n",
       "      <th>XOM:Adj. Low</th>\n",
       "      <th>XOM:Adj. Close</th>\n",
       "      <th>XOM:Adj. Volume</th>\n",
       "      <th>OIL:Open</th>\n",
       "      <th>OIL:High</th>\n",
       "      <th>OIL:Low</th>\n",
       "      <th>OIL:Last</th>\n",
       "      <th>OIL:Close</th>\n",
       "      <th>OIL:Total Trade Quantity</th>\n",
       "      <th>OIL:Turnover (Lacs)</th>\n",
       "    </tr>\n",
       "    <tr>\n",
       "      <th>Date</th>\n",
       "      <th></th>\n",
       "      <th></th>\n",
       "      <th></th>\n",
       "      <th></th>\n",
       "      <th></th>\n",
       "      <th></th>\n",
       "      <th></th>\n",
       "      <th></th>\n",
       "      <th></th>\n",
       "      <th></th>\n",
       "      <th></th>\n",
       "      <th></th>\n",
       "      <th></th>\n",
       "      <th></th>\n",
       "      <th></th>\n",
       "      <th></th>\n",
       "      <th></th>\n",
       "      <th></th>\n",
       "      <th></th>\n",
       "    </tr>\n",
       "  </thead>\n",
       "  <tbody>\n",
       "    <tr>\n",
       "      <th>2018-02-26</th>\n",
       "      <td>77.74</td>\n",
       "      <td>78.9300</td>\n",
       "      <td>77.560</td>\n",
       "      <td>78.84</td>\n",
       "      <td>16733474.0</td>\n",
       "      <td>0.0</td>\n",
       "      <td>1.0</td>\n",
       "      <td>77.74</td>\n",
       "      <td>78.9300</td>\n",
       "      <td>77.560</td>\n",
       "      <td>78.84</td>\n",
       "      <td>16733474.0</td>\n",
       "      <td>348.65</td>\n",
       "      <td>352.00</td>\n",
       "      <td>346.85</td>\n",
       "      <td>348.70</td>\n",
       "      <td>348.95</td>\n",
       "      <td>401920.0</td>\n",
       "      <td>1402.02</td>\n",
       "    </tr>\n",
       "    <tr>\n",
       "      <th>2018-02-27</th>\n",
       "      <td>79.00</td>\n",
       "      <td>79.8700</td>\n",
       "      <td>77.500</td>\n",
       "      <td>77.50</td>\n",
       "      <td>14420126.0</td>\n",
       "      <td>0.0</td>\n",
       "      <td>1.0</td>\n",
       "      <td>79.00</td>\n",
       "      <td>79.8700</td>\n",
       "      <td>77.500</td>\n",
       "      <td>77.50</td>\n",
       "      <td>14420126.0</td>\n",
       "      <td>351.00</td>\n",
       "      <td>354.20</td>\n",
       "      <td>346.70</td>\n",
       "      <td>348.35</td>\n",
       "      <td>349.15</td>\n",
       "      <td>394689.0</td>\n",
       "      <td>1384.82</td>\n",
       "    </tr>\n",
       "    <tr>\n",
       "      <th>2018-02-28</th>\n",
       "      <td>78.16</td>\n",
       "      <td>78.2500</td>\n",
       "      <td>75.700</td>\n",
       "      <td>75.74</td>\n",
       "      <td>16453545.0</td>\n",
       "      <td>0.0</td>\n",
       "      <td>1.0</td>\n",
       "      <td>78.16</td>\n",
       "      <td>78.2500</td>\n",
       "      <td>75.700</td>\n",
       "      <td>75.74</td>\n",
       "      <td>16453545.0</td>\n",
       "      <td>347.00</td>\n",
       "      <td>350.35</td>\n",
       "      <td>345.50</td>\n",
       "      <td>349.50</td>\n",
       "      <td>349.85</td>\n",
       "      <td>409813.0</td>\n",
       "      <td>1427.33</td>\n",
       "    </tr>\n",
       "    <tr>\n",
       "      <th>2018-03-01</th>\n",
       "      <td>75.53</td>\n",
       "      <td>76.6808</td>\n",
       "      <td>74.855</td>\n",
       "      <td>75.20</td>\n",
       "      <td>15696665.0</td>\n",
       "      <td>0.0</td>\n",
       "      <td>1.0</td>\n",
       "      <td>75.53</td>\n",
       "      <td>76.6808</td>\n",
       "      <td>74.855</td>\n",
       "      <td>75.20</td>\n",
       "      <td>15696665.0</td>\n",
       "      <td>349.45</td>\n",
       "      <td>351.80</td>\n",
       "      <td>345.05</td>\n",
       "      <td>349.55</td>\n",
       "      <td>349.75</td>\n",
       "      <td>339238.0</td>\n",
       "      <td>1184.83</td>\n",
       "    </tr>\n",
       "    <tr>\n",
       "      <th>2018-03-02</th>\n",
       "      <td>74.89</td>\n",
       "      <td>75.8700</td>\n",
       "      <td>74.480</td>\n",
       "      <td>75.55</td>\n",
       "      <td>15630250.0</td>\n",
       "      <td>0.0</td>\n",
       "      <td>1.0</td>\n",
       "      <td>74.89</td>\n",
       "      <td>75.8700</td>\n",
       "      <td>74.480</td>\n",
       "      <td>75.55</td>\n",
       "      <td>15630250.0</td>\n",
       "      <td>NaN</td>\n",
       "      <td>NaN</td>\n",
       "      <td>NaN</td>\n",
       "      <td>NaN</td>\n",
       "      <td>NaN</td>\n",
       "      <td>NaN</td>\n",
       "      <td>NaN</td>\n",
       "    </tr>\n",
       "  </tbody>\n",
       "</table>\n",
       "</div>"
      ],
      "text/plain": [
       "            XOM:Open  XOM:High  XOM:Low  XOM:Close  XOM:Volume  \\\n",
       "Date                                                             \n",
       "2018-02-26     77.74   78.9300   77.560      78.84  16733474.0   \n",
       "2018-02-27     79.00   79.8700   77.500      77.50  14420126.0   \n",
       "2018-02-28     78.16   78.2500   75.700      75.74  16453545.0   \n",
       "2018-03-01     75.53   76.6808   74.855      75.20  15696665.0   \n",
       "2018-03-02     74.89   75.8700   74.480      75.55  15630250.0   \n",
       "\n",
       "            XOM:Ex-Dividend  XOM:Split Ratio  XOM:Adj. Open  XOM:Adj. High  \\\n",
       "Date                                                                         \n",
       "2018-02-26              0.0              1.0          77.74        78.9300   \n",
       "2018-02-27              0.0              1.0          79.00        79.8700   \n",
       "2018-02-28              0.0              1.0          78.16        78.2500   \n",
       "2018-03-01              0.0              1.0          75.53        76.6808   \n",
       "2018-03-02              0.0              1.0          74.89        75.8700   \n",
       "\n",
       "            XOM:Adj. Low  XOM:Adj. Close  XOM:Adj. Volume  OIL:Open  OIL:High  \\\n",
       "Date                                                                            \n",
       "2018-02-26        77.560           78.84       16733474.0    348.65    352.00   \n",
       "2018-02-27        77.500           77.50       14420126.0    351.00    354.20   \n",
       "2018-02-28        75.700           75.74       16453545.0    347.00    350.35   \n",
       "2018-03-01        74.855           75.20       15696665.0    349.45    351.80   \n",
       "2018-03-02        74.480           75.55       15630250.0       NaN       NaN   \n",
       "\n",
       "            OIL:Low  OIL:Last  OIL:Close  OIL:Total Trade Quantity  \\\n",
       "Date                                                                 \n",
       "2018-02-26   346.85    348.70     348.95                  401920.0   \n",
       "2018-02-27   346.70    348.35     349.15                  394689.0   \n",
       "2018-02-28   345.50    349.50     349.85                  409813.0   \n",
       "2018-03-01   345.05    349.55     349.75                  339238.0   \n",
       "2018-03-02      NaN       NaN        NaN                       NaN   \n",
       "\n",
       "            OIL:Turnover (Lacs)  \n",
       "Date                             \n",
       "2018-02-26              1402.02  \n",
       "2018-02-27              1384.82  \n",
       "2018-02-28              1427.33  \n",
       "2018-03-01              1184.83  \n",
       "2018-03-02                  NaN  "
      ]
     },
     "execution_count": 6,
     "metadata": {},
     "output_type": "execute_result"
    }
   ],
   "source": [
    "def clean_quandl_columns(dataframe):\n",
    "    replacement_columns = {}\n",
    "    for c in dataframe.columns:\n",
    "        series_name, variable = c.split(' - ')\n",
    "        source_name, asset = series_name.split('/')\n",
    "        replacement_columns[c] = asset+\":\"+variable\n",
    "    renamed_data = dataframe.rename(columns=replacement_columns)\n",
    "    return renamed_data\n",
    "renamed_data = clean_quandl_columns(raw_data)\n",
    "renamed_data.tail()\n"
   ]
  },
  {
   "cell_type": "code",
   "execution_count": 7,
   "metadata": {
    "ExecuteTime": {
     "end_time": "2021-03-30T15:35:15.142613Z",
     "start_time": "2021-03-30T15:35:14.979995Z"
    }
   },
   "outputs": [
    {
     "data": {
      "text/html": [
       "<div>\n",
       "<style scoped>\n",
       "    .dataframe tbody tr th:only-of-type {\n",
       "        vertical-align: middle;\n",
       "    }\n",
       "\n",
       "    .dataframe tbody tr th {\n",
       "        vertical-align: top;\n",
       "    }\n",
       "\n",
       "    .dataframe thead th {\n",
       "        text-align: right;\n",
       "    }\n",
       "</style>\n",
       "<table border=\"1\" class=\"dataframe\">\n",
       "  <thead>\n",
       "    <tr style=\"text-align: right;\">\n",
       "      <th></th>\n",
       "      <th>XOM:Adj. Close</th>\n",
       "      <th>OIL:Close</th>\n",
       "    </tr>\n",
       "    <tr>\n",
       "      <th>Date</th>\n",
       "      <th></th>\n",
       "      <th></th>\n",
       "    </tr>\n",
       "  </thead>\n",
       "  <tbody>\n",
       "    <tr>\n",
       "      <th>2018-02-23</th>\n",
       "      <td>77.53</td>\n",
       "      <td>344.50</td>\n",
       "    </tr>\n",
       "    <tr>\n",
       "      <th>2018-02-26</th>\n",
       "      <td>78.84</td>\n",
       "      <td>348.95</td>\n",
       "    </tr>\n",
       "    <tr>\n",
       "      <th>2018-02-27</th>\n",
       "      <td>77.50</td>\n",
       "      <td>349.15</td>\n",
       "    </tr>\n",
       "    <tr>\n",
       "      <th>2018-02-28</th>\n",
       "      <td>75.74</td>\n",
       "      <td>349.85</td>\n",
       "    </tr>\n",
       "    <tr>\n",
       "      <th>2018-03-01</th>\n",
       "      <td>75.20</td>\n",
       "      <td>349.75</td>\n",
       "    </tr>\n",
       "  </tbody>\n",
       "</table>\n",
       "</div>"
      ],
      "text/plain": [
       "            XOM:Adj. Close  OIL:Close\n",
       "Date                                 \n",
       "2018-02-23           77.53     344.50\n",
       "2018-02-26           78.84     348.95\n",
       "2018-02-27           77.50     349.15\n",
       "2018-02-28           75.74     349.85\n",
       "2018-03-01           75.20     349.75"
      ]
     },
     "execution_count": 7,
     "metadata": {},
     "output_type": "execute_result"
    }
   ],
   "source": [
    "renamed_data[[\"XOM:Adj. Close\",\"OIL:Close\"]].dropna().tail()"
   ]
  },
  {
   "cell_type": "markdown",
   "metadata": {},
   "source": [
    "Now it looks better!"
   ]
  },
  {
   "cell_type": "markdown",
   "metadata": {},
   "source": [
    "### Examining The Data"
   ]
  },
  {
   "cell_type": "code",
   "execution_count": 8,
   "metadata": {
    "ExecuteTime": {
     "end_time": "2021-03-30T15:35:15.462193Z",
     "start_time": "2021-03-30T15:35:15.146617Z"
    }
   },
   "outputs": [
    {
     "name": "stderr",
     "output_type": "stream",
     "text": [
      "/Volumes/b2tb/conda_envs/2021-Apr-33150/lib/python3.7/site-packages/seaborn/_decorators.py:43: FutureWarning: Pass the following variables as keyword args: x, y. From version 0.12, the only valid positional argument will be `data`, and passing other arguments without an explicit keyword will result in an error or misinterpretation.\n",
      "  FutureWarning\n"
     ]
    },
    {
     "data": {
      "text/plain": [
       "Text(0.5, 0.98, 'Oil and an Oil Firm, 1970-2015')"
      ]
     },
     "execution_count": 8,
     "metadata": {},
     "output_type": "execute_result"
    },
    {
     "data": {
      "image/png": "[encoded data removed]",
      "text/plain": [
       "<Figure size 432x288 with 1 Axes>"
      ]
     },
     "metadata": {
      "needs_background": "light"
     },
     "output_type": "display_data"
    }
   ],
   "source": [
    "fig, ax = plt.subplots()\n",
    "splot = sns.regplot(\"XOM:Adj. Close\",\"OIL:Close\",data=renamed_data, ax=ax)\n",
    "fig.suptitle('Oil and an Oil Firm, 1970-2015')"
   ]
  },
  {
   "cell_type": "markdown",
   "metadata": {
    "ExecuteTime": {
     "end_time": "2021-03-30T15:35:16.212560Z",
     "start_time": "2021-03-30T15:35:15.464336Z"
    }
   },
   "source": [
    "Time series plots can tell us more about what happened"
   ]
  },
  {
   "cell_type": "code",
   "execution_count": 15,
   "metadata": {
    "ExecuteTime": {
     "end_time": "2021-03-30T15:40:35.749761Z",
     "start_time": "2021-03-30T15:40:35.160157Z"
    }
   },
   "outputs": [
    {
     "name": "stderr",
     "output_type": "stream",
     "text": [
      "/Volumes/b2tb/conda_envs/2021-Apr-33150/lib/python3.7/site-packages/plotnine/layer.py:401: PlotnineWarning: geom_point : Removed 73 rows containing missing values.\n",
      "/Volumes/b2tb/conda_envs/2021-Apr-33150/lib/python3.7/site-packages/plotnine/layer.py:401: PlotnineWarning: geom_point : Removed 6342 rows containing missing values.\n"
     ]
    },
    {
     "data": {
      "image/png": "[encoded data removed]",
      "text/plain": [
       "<Figure size 640x480 with 1 Axes>"
      ]
     },
     "metadata": {},
     "output_type": "display_data"
    },
    {
     "data": {
      "text/plain": [
       "<ggplot: (8762187645621)>"
      ]
     },
     "execution_count": 15,
     "metadata": {},
     "output_type": "execute_result"
    }
   ],
   "source": [
    "xomoil = renamed_data[[\"XOM:Adj. Close\", \"OIL:Close\"]]\n",
    "xomoil = xomoil / xomoil.median(axis=0)\n",
    "\n",
    "(\n",
    "    p9.ggplot(xomoil)\n",
    "    + p9.geom_point(mapping=p9.aes(x='xomoil.index', y=\"XOM:Adj. Close\"), color='blue', size=1)\n",
    "    + p9.geom_point(mapping=p9.aes(x='xomoil.index', y=\"OIL:Close\"), color='red', size=1)\n",
    ")"
   ]
  },
  {
   "cell_type": "code",
   "execution_count": null,
   "metadata": {},
   "outputs": [],
   "source": []
  }
 ],
 "metadata": {
  "kernelspec": {
   "display_name": "Python 3",
   "language": "python",
   "name": "python3"
  },
  "language_info": {
   "codemirror_mode": {
    "name": "ipython",
    "version": 3
   },
   "file_extension": ".py",
   "mimetype": "text/x-python",
   "name": "python",
   "nbconvert_exporter": "python",
   "pygments_lexer": "ipython3",
   "version": "3.7.10"
  }
 },
 "nbformat": 4,
 "nbformat_minor": 1
}
