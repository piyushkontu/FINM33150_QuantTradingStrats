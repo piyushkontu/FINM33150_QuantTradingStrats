{
 "cells": [
  {
   "cell_type": "markdown",
   "metadata": {},
   "source": [
    "# Quandl And Financial Ratios"
   ]
  },
  {
   "cell_type": "markdown",
   "metadata": {},
   "source": [
    "This notebook demonstrates downloading adjusted close prices and fundamental financial ratios from Quandl"
   ]
  },
  {
   "cell_type": "code",
   "execution_count": 1,
   "metadata": {
    "ExecuteTime": {
     "end_time": "2017-04-18T23:39:55.849793",
     "start_time": "2017-04-18T23:39:54.944569"
    }
   },
   "outputs": [],
   "source": [
    "%matplotlib inline"
   ]
  },
  {
   "cell_type": "code",
   "execution_count": 2,
   "metadata": {
    "ExecuteTime": {
     "end_time": "2017-04-18T23:40:04.232180",
     "start_time": "2017-04-18T23:40:04.225442"
    }
   },
   "outputs": [],
   "source": [
    "import matplotlib.pyplot as plt\n",
    "import pandas as pd\n",
    "import numpy as np\n",
    "import scipy as sp\n",
    "import quandl\n",
    "import functools\n"
   ]
  },
  {
   "cell_type": "markdown",
   "metadata": {},
   "source": [
    "The tickers file is available on the class website. Unfortunately sector information requires downloading and parsing a CSV file from Quandl"
   ]
  },
  {
   "cell_type": "code",
   "execution_count": 3,
   "metadata": {
    "ExecuteTime": {
     "end_time": "2017-04-18T23:40:05.497029",
     "start_time": "2017-04-18T23:40:05.453807"
    }
   },
   "outputs": [
    {
     "data": {
      "text/plain": [
       "['AA', 'AA', 'AABC', 'AAC', 'AAC']"
      ]
     },
     "execution_count": 3,
     "metadata": {},
     "output_type": "execute_result"
    }
   ],
   "source": [
    "tickers_in_zaks = list(pd.DataFrame.from_csv(\n",
    "        '/Users/brian/SkyDrive/data/Quandl/Tickers_In_Zaks.csv'\n",
    "    ).index)\n",
    "tickers_in_zaks[:5]"
   ]
  },
  {
   "cell_type": "markdown",
   "metadata": {},
   "source": [
    "\n",
    "Our usual memoization"
   ]
  },
  {
   "cell_type": "code",
   "execution_count": 4,
   "metadata": {
    "ExecuteTime": {
     "end_time": "2017-04-18T23:40:08.236971",
     "start_time": "2017-04-18T23:40:08.230243"
    },
    "collapsed": true
   },
   "outputs": [],
   "source": [
    "@functools.lru_cache(maxsize=1600)\n",
    "def fetch_quandl(my_data_items, trim_start=None):\n",
    "    qdata = quandl.get(list(my_data_items), returns=\"pandas\", \n",
    "                      trim_start=trim_start,\n",
    "                      api_key=BrianBoonstraPrivateKeys['Quandl'])\n",
    "    return qdata"
   ]
  },
  {
   "cell_type": "markdown",
   "metadata": {},
   "source": [
    "Let's fetch the debt-to-equity ratio (as of the quarterly 10Q report date)"
   ]
  },
  {
   "cell_type": "code",
   "execution_count": 6,
   "metadata": {
    "ExecuteTime": {
     "end_time": "2017-04-18T23:40:09.707584",
     "start_time": "2017-04-18T23:40:09.317988"
    }
   },
   "outputs": [],
   "source": [
    "raw_data = fetch_quandl(('ZFB/WOOF_TOT_DEBT_TOT_EQUITY_Q',), trim_start=\"2001-01-01\")\n"
   ]
  },
  {
   "cell_type": "code",
   "execution_count": 7,
   "metadata": {
    "ExecuteTime": {
     "end_time": "2017-04-18T23:40:13.272590",
     "start_time": "2017-04-18T23:40:13.257174"
    }
   },
   "outputs": [
    {
     "data": {
      "text/html": [
       "<div>\n",
       "<table border=\"1\" class=\"dataframe\">\n",
       "  <thead>\n",
       "    <tr style=\"text-align: right;\">\n",
       "      <th></th>\n",
       "      <th>ZFB/WOOF_TOT_DEBT_TOT_EQUITY_Q - TOT_DEBT_TOT_EQUITY</th>\n",
       "    </tr>\n",
       "    <tr>\n",
       "      <th>PER_END_DATE</th>\n",
       "      <th></th>\n",
       "    </tr>\n",
       "  </thead>\n",
       "  <tbody>\n",
       "    <tr>\n",
       "      <th>2005-03-31</th>\n",
       "      <td>1.5717</td>\n",
       "    </tr>\n",
       "    <tr>\n",
       "      <th>2005-06-30</th>\n",
       "      <td>1.8062</td>\n",
       "    </tr>\n",
       "    <tr>\n",
       "      <th>2005-09-30</th>\n",
       "      <td>1.5709</td>\n",
       "    </tr>\n",
       "    <tr>\n",
       "      <th>2005-12-31</th>\n",
       "      <td>1.4663</td>\n",
       "    </tr>\n",
       "    <tr>\n",
       "      <th>2006-03-31</th>\n",
       "      <td>1.2120</td>\n",
       "    </tr>\n",
       "    <tr>\n",
       "      <th>2015-12-31</th>\n",
       "      <td>0.6892</td>\n",
       "    </tr>\n",
       "    <tr>\n",
       "      <th>2016-03-31</th>\n",
       "      <td>0.7236</td>\n",
       "    </tr>\n",
       "    <tr>\n",
       "      <th>2016-06-30</th>\n",
       "      <td>0.8843</td>\n",
       "    </tr>\n",
       "    <tr>\n",
       "      <th>2016-09-30</th>\n",
       "      <td>0.8339</td>\n",
       "    </tr>\n",
       "    <tr>\n",
       "      <th>2016-12-31</th>\n",
       "      <td>0.8591</td>\n",
       "    </tr>\n",
       "  </tbody>\n",
       "</table>\n",
       "</div>"
      ],
      "text/plain": [
       "              ZFB/WOOF_TOT_DEBT_TOT_EQUITY_Q - TOT_DEBT_TOT_EQUITY\n",
       "PER_END_DATE                                                      \n",
       "2005-03-31                                               1.5717   \n",
       "2005-06-30                                               1.8062   \n",
       "2005-09-30                                               1.5709   \n",
       "2005-12-31                                               1.4663   \n",
       "2006-03-31                                               1.2120   \n",
       "2015-12-31                                               0.6892   \n",
       "2016-03-31                                               0.7236   \n",
       "2016-06-30                                               0.8843   \n",
       "2016-09-30                                               0.8339   \n",
       "2016-12-31                                               0.8591   "
      ]
     },
     "execution_count": 7,
     "metadata": {},
     "output_type": "execute_result"
    }
   ],
   "source": [
    "pd.concat((raw_data.head(),raw_data.tail()))"
   ]
  },
  {
   "cell_type": "code",
   "execution_count": 8,
   "metadata": {
    "ExecuteTime": {
     "end_time": "2017-04-18T23:40:42.818064",
     "start_time": "2017-04-18T23:40:42.809428"
    }
   },
   "outputs": [],
   "source": [
    "def clean_quandl_columns(dataframe):\n",
    "    replacement_columns = {}\n",
    "    for c in dataframe.columns:\n",
    "        series_name, variable = c.split(' - ')\n",
    "        source_name, asset = series_name.split('/')\n",
    "        replacement_columns[c] = asset+\":\"+variable\n",
    "    renamed_data = dataframe.rename(columns=replacement_columns)\n",
    "    return renamed_data"
   ]
  },
  {
   "cell_type": "code",
   "execution_count": 9,
   "metadata": {
    "ExecuteTime": {
     "end_time": "2017-04-18T23:40:47.305336",
     "start_time": "2017-04-18T23:40:43.200025"
    }
   },
   "outputs": [],
   "source": [
    "eod_spy_data = clean_quandl_columns(fetch_quandl(('EOD/SPY',), trim_start=\"2004-01-01\"))\n",
    "eod_woof_data = clean_quandl_columns(fetch_quandl(('EOD/WOOF',), trim_start=\"2004-01-01\"))"
   ]
  },
  {
   "cell_type": "code",
   "execution_count": 10,
   "metadata": {
    "ExecuteTime": {
     "end_time": "2017-04-18T23:40:47.348973",
     "start_time": "2017-04-18T23:40:47.307575"
    }
   },
   "outputs": [
    {
     "name": "stdout",
     "output_type": "stream",
     "text": [
      "Index(['SPY:Open', 'SPY:High', 'SPY:Low', 'SPY:Close', 'SPY:Volume',\n",
      "       'SPY:Dividend', 'SPY:Split', 'SPY:Adj_Open', 'SPY:Adj_High',\n",
      "       'SPY:Adj_Low', 'SPY:Adj_Close', 'SPY:Adj_Volume'],\n",
      "      dtype='object')\n"
     ]
    },
    {
     "data": {
      "text/html": [
       "<div>\n",
       "<table border=\"1\" class=\"dataframe\">\n",
       "  <thead>\n",
       "    <tr style=\"text-align: right;\">\n",
       "      <th></th>\n",
       "      <th>SPY:Adj_Volume</th>\n",
       "      <th>SPY:Adj_Close</th>\n",
       "      <th>SPY:Adj_Low</th>\n",
       "      <th>SPY:Adj_High</th>\n",
       "      <th>SPY:Adj_Open</th>\n",
       "      <th>SPY:Split</th>\n",
       "      <th>SPY:Dividend</th>\n",
       "      <th>SPY:Volume</th>\n",
       "      <th>SPY:Close</th>\n",
       "      <th>SPY:Low</th>\n",
       "      <th>SPY:High</th>\n",
       "      <th>SPY:Open</th>\n",
       "    </tr>\n",
       "    <tr>\n",
       "      <th>Date</th>\n",
       "      <th></th>\n",
       "      <th></th>\n",
       "      <th></th>\n",
       "      <th></th>\n",
       "      <th></th>\n",
       "      <th></th>\n",
       "      <th></th>\n",
       "      <th></th>\n",
       "      <th></th>\n",
       "      <th></th>\n",
       "      <th></th>\n",
       "      <th></th>\n",
       "    </tr>\n",
       "  </thead>\n",
       "  <tbody>\n",
       "    <tr>\n",
       "      <th>2004-01-02</th>\n",
       "      <td>38072300.0</td>\n",
       "      <td>83.837762</td>\n",
       "      <td>83.460896</td>\n",
       "      <td>84.561346</td>\n",
       "      <td>84.222166</td>\n",
       "      <td>1.0</td>\n",
       "      <td>0.0</td>\n",
       "      <td>38072300.0</td>\n",
       "      <td>111.23</td>\n",
       "      <td>110.73</td>\n",
       "      <td>112.19</td>\n",
       "      <td>111.74</td>\n",
       "    </tr>\n",
       "    <tr>\n",
       "      <th>2004-01-05</th>\n",
       "      <td>27959800.0</td>\n",
       "      <td>84.744875</td>\n",
       "      <td>84.104238</td>\n",
       "      <td>84.805170</td>\n",
       "      <td>84.179607</td>\n",
       "      <td>1.0</td>\n",
       "      <td>0.0</td>\n",
       "      <td>27959800.0</td>\n",
       "      <td>112.44</td>\n",
       "      <td>111.59</td>\n",
       "      <td>112.52</td>\n",
       "      <td>111.69</td>\n",
       "    </tr>\n",
       "    <tr>\n",
       "      <th>2004-01-06</th>\n",
       "      <td>20472800.0</td>\n",
       "      <td>84.829040</td>\n",
       "      <td>84.414504</td>\n",
       "      <td>84.964706</td>\n",
       "      <td>84.535096</td>\n",
       "      <td>1.0</td>\n",
       "      <td>0.0</td>\n",
       "      <td>20472800.0</td>\n",
       "      <td>112.55</td>\n",
       "      <td>112.00</td>\n",
       "      <td>112.73</td>\n",
       "      <td>112.16</td>\n",
       "    </tr>\n",
       "    <tr>\n",
       "      <th>2004-01-07</th>\n",
       "      <td>30170400.0</td>\n",
       "      <td>85.118942</td>\n",
       "      <td>84.335060</td>\n",
       "      <td>85.216927</td>\n",
       "      <td>84.711926</td>\n",
       "      <td>1.0</td>\n",
       "      <td>0.0</td>\n",
       "      <td>30170400.0</td>\n",
       "      <td>112.93</td>\n",
       "      <td>111.89</td>\n",
       "      <td>113.06</td>\n",
       "      <td>112.39</td>\n",
       "    </tr>\n",
       "    <tr>\n",
       "      <th>2004-01-08</th>\n",
       "      <td>36438400.0</td>\n",
       "      <td>85.455602</td>\n",
       "      <td>84.995839</td>\n",
       "      <td>85.478213</td>\n",
       "      <td>85.357620</td>\n",
       "      <td>1.0</td>\n",
       "      <td>0.0</td>\n",
       "      <td>36438400.0</td>\n",
       "      <td>113.38</td>\n",
       "      <td>112.77</td>\n",
       "      <td>113.41</td>\n",
       "      <td>113.25</td>\n",
       "    </tr>\n",
       "    <tr>\n",
       "      <th>2017-04-12</th>\n",
       "      <td>81864436.0</td>\n",
       "      <td>234.030000</td>\n",
       "      <td>233.770000</td>\n",
       "      <td>234.960000</td>\n",
       "      <td>234.740000</td>\n",
       "      <td>1.0</td>\n",
       "      <td>0.0</td>\n",
       "      <td>81864436.0</td>\n",
       "      <td>234.03</td>\n",
       "      <td>233.77</td>\n",
       "      <td>234.96</td>\n",
       "      <td>234.74</td>\n",
       "    </tr>\n",
       "    <tr>\n",
       "      <th>2017-04-13</th>\n",
       "      <td>92880394.0</td>\n",
       "      <td>232.510000</td>\n",
       "      <td>232.510000</td>\n",
       "      <td>234.490000</td>\n",
       "      <td>233.640000</td>\n",
       "      <td>1.0</td>\n",
       "      <td>0.0</td>\n",
       "      <td>92880394.0</td>\n",
       "      <td>232.51</td>\n",
       "      <td>232.51</td>\n",
       "      <td>234.49</td>\n",
       "      <td>233.64</td>\n",
       "    </tr>\n",
       "    <tr>\n",
       "      <th>2017-04-14</th>\n",
       "      <td>0.0</td>\n",
       "      <td>232.510000</td>\n",
       "      <td>232.510000</td>\n",
       "      <td>232.510000</td>\n",
       "      <td>232.510000</td>\n",
       "      <td>1.0</td>\n",
       "      <td>0.0</td>\n",
       "      <td>0.0</td>\n",
       "      <td>232.51</td>\n",
       "      <td>232.51</td>\n",
       "      <td>232.51</td>\n",
       "      <td>232.51</td>\n",
       "    </tr>\n",
       "    <tr>\n",
       "      <th>2017-04-17</th>\n",
       "      <td>68405367.0</td>\n",
       "      <td>234.570000</td>\n",
       "      <td>232.880000</td>\n",
       "      <td>234.570000</td>\n",
       "      <td>233.110000</td>\n",
       "      <td>1.0</td>\n",
       "      <td>0.0</td>\n",
       "      <td>68405367.0</td>\n",
       "      <td>234.57</td>\n",
       "      <td>232.88</td>\n",
       "      <td>234.57</td>\n",
       "      <td>233.11</td>\n",
       "    </tr>\n",
       "    <tr>\n",
       "      <th>2017-04-18</th>\n",
       "      <td>83225821.0</td>\n",
       "      <td>233.870000</td>\n",
       "      <td>233.080000</td>\n",
       "      <td>234.490000</td>\n",
       "      <td>233.720000</td>\n",
       "      <td>1.0</td>\n",
       "      <td>0.0</td>\n",
       "      <td>83225821.0</td>\n",
       "      <td>233.87</td>\n",
       "      <td>233.08</td>\n",
       "      <td>234.49</td>\n",
       "      <td>233.72</td>\n",
       "    </tr>\n",
       "  </tbody>\n",
       "</table>\n",
       "</div>"
      ],
      "text/plain": [
       "            SPY:Adj_Volume  SPY:Adj_Close  SPY:Adj_Low  SPY:Adj_High  \\\n",
       "Date                                                                   \n",
       "2004-01-02      38072300.0      83.837762    83.460896     84.561346   \n",
       "2004-01-05      27959800.0      84.744875    84.104238     84.805170   \n",
       "2004-01-06      20472800.0      84.829040    84.414504     84.964706   \n",
       "2004-01-07      30170400.0      85.118942    84.335060     85.216927   \n",
       "2004-01-08      36438400.0      85.455602    84.995839     85.478213   \n",
       "2017-04-12      81864436.0     234.030000   233.770000    234.960000   \n",
       "2017-04-13      92880394.0     232.510000   232.510000    234.490000   \n",
       "2017-04-14             0.0     232.510000   232.510000    232.510000   \n",
       "2017-04-17      68405367.0     234.570000   232.880000    234.570000   \n",
       "2017-04-18      83225821.0     233.870000   233.080000    234.490000   \n",
       "\n",
       "            SPY:Adj_Open  SPY:Split  SPY:Dividend  SPY:Volume  SPY:Close  \\\n",
       "Date                                                                       \n",
       "2004-01-02     84.222166        1.0           0.0  38072300.0     111.23   \n",
       "2004-01-05     84.179607        1.0           0.0  27959800.0     112.44   \n",
       "2004-01-06     84.535096        1.0           0.0  20472800.0     112.55   \n",
       "2004-01-07     84.711926        1.0           0.0  30170400.0     112.93   \n",
       "2004-01-08     85.357620        1.0           0.0  36438400.0     113.38   \n",
       "2017-04-12    234.740000        1.0           0.0  81864436.0     234.03   \n",
       "2017-04-13    233.640000        1.0           0.0  92880394.0     232.51   \n",
       "2017-04-14    232.510000        1.0           0.0         0.0     232.51   \n",
       "2017-04-17    233.110000        1.0           0.0  68405367.0     234.57   \n",
       "2017-04-18    233.720000        1.0           0.0  83225821.0     233.87   \n",
       "\n",
       "            SPY:Low  SPY:High  SPY:Open  \n",
       "Date                                     \n",
       "2004-01-02   110.73    112.19    111.74  \n",
       "2004-01-05   111.59    112.52    111.69  \n",
       "2004-01-06   112.00    112.73    112.16  \n",
       "2004-01-07   111.89    113.06    112.39  \n",
       "2004-01-08   112.77    113.41    113.25  \n",
       "2017-04-12   233.77    234.96    234.74  \n",
       "2017-04-13   232.51    234.49    233.64  \n",
       "2017-04-14   232.51    232.51    232.51  \n",
       "2017-04-17   232.88    234.57    233.11  \n",
       "2017-04-18   233.08    234.49    233.72  "
      ]
     },
     "execution_count": 10,
     "metadata": {},
     "output_type": "execute_result"
    }
   ],
   "source": [
    "print(eod_spy_data.columns)\n",
    "ends = pd.concat((eod_spy_data.head(),eod_spy_data.tail()))\n",
    "ends[ends.columns[::-1]]"
   ]
  },
  {
   "cell_type": "code",
   "execution_count": 11,
   "metadata": {
    "ExecuteTime": {
     "end_time": "2017-04-18T23:40:47.787140",
     "start_time": "2017-04-18T23:40:47.351561"
    }
   },
   "outputs": [
    {
     "data": {
      "text/plain": [
       "<matplotlib.axes._subplots.AxesSubplot at 0x110096dd8>"
      ]
     },
     "execution_count": 11,
     "metadata": {},
     "output_type": "execute_result"
    },
    {
     "data": {
      "image/png": "[encoded data removed]",
      "text/plain": [
       "<matplotlib.figure.Figure at 0x110144da0>"
      ]
     },
     "metadata": {},
     "output_type": "display_data"
    }
   ],
   "source": [
    "returns=pd.concat(\n",
    "    [eod_spy_data[['SPY:Adj_Close']], eod_woof_data[['WOOF:Adj_Close']], ]\n",
    "    , axis=1).pct_change()\n",
    "returns.plot(x='SPY:Adj_Close', y='WOOF:Adj_Close', kind='scatter')"
   ]
  },
  {
   "cell_type": "code",
   "execution_count": 12,
   "metadata": {
    "ExecuteTime": {
     "end_time": "2017-04-18T23:40:47.804222",
     "start_time": "2017-04-18T23:40:47.790809"
    }
   },
   "outputs": [
    {
     "data": {
      "text/html": [
       "<div>\n",
       "<table border=\"1\" class=\"dataframe\">\n",
       "  <thead>\n",
       "    <tr style=\"text-align: right;\">\n",
       "      <th></th>\n",
       "      <th>SPY:Adj_Close</th>\n",
       "      <th>WOOF:Adj_Close</th>\n",
       "    </tr>\n",
       "    <tr>\n",
       "      <th>Date</th>\n",
       "      <th></th>\n",
       "      <th></th>\n",
       "    </tr>\n",
       "  </thead>\n",
       "  <tbody>\n",
       "    <tr>\n",
       "      <th>2008-02-05</th>\n",
       "      <td>-0.026778</td>\n",
       "      <td>-0.186582</td>\n",
       "    </tr>\n",
       "  </tbody>\n",
       "</table>\n",
       "</div>"
      ],
      "text/plain": [
       "            SPY:Adj_Close  WOOF:Adj_Close\n",
       "Date                                     \n",
       "2008-02-05      -0.026778       -0.186582"
      ]
     },
     "execution_count": 12,
     "metadata": {},
     "output_type": "execute_result"
    }
   ],
   "source": [
    "returns[returns['WOOF:Adj_Close']<-0.15]"
   ]
  },
  {
   "cell_type": "code",
   "execution_count": null,
   "metadata": {
    "collapsed": true
   },
   "outputs": [],
   "source": []
  }
 ],
 "metadata": {
  "kernelspec": {
   "display_name": "Python [default]",
   "language": "python",
   "name": "python3"
  },
  "language_info": {
   "codemirror_mode": {
    "name": "ipython",
    "version": 3
   },
   "file_extension": ".py",
   "mimetype": "text/x-python",
   "name": "python",
   "nbconvert_exporter": "python",
   "pygments_lexer": "ipython3",
   "version": "3.5.4"
  }
 },
 "nbformat": 4,
 "nbformat_minor": 1
}
